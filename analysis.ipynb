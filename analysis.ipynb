{
 "cells": [
  {
   "attachments": {},
   "cell_type": "markdown",
   "metadata": {},
   "source": [
    "### Importing the necessary libraries"
   ]
  },
  {
   "cell_type": "code",
   "execution_count": 1,
   "metadata": {},
   "outputs": [],
   "source": [
    "import pandas as pd\n",
    "import numpy as np\n",
    "import plotly.graph_objects as go"
   ]
  },
  {
   "attachments": {},
   "cell_type": "markdown",
   "metadata": {},
   "source": [
    "### Importing relevant datasets"
   ]
  },
  {
   "cell_type": "code",
   "execution_count": 2,
   "metadata": {},
   "outputs": [],
   "source": [
    "df_sleep = pd.read_csv('Data/sleepDay_merged.csv')\n",
    "df_activity = pd.read_csv('Data/dailyActivity_merged.csv')\n",
    "df_weight = pd.read_csv('Data/weightLogInfo_merged.csv')"
   ]
  },
  {
   "attachments": {},
   "cell_type": "markdown",
   "metadata": {},
   "source": [
    "### Data Cleaning"
   ]
  },
  {
   "attachments": {},
   "cell_type": "markdown",
   "metadata": {},
   "source": [
    "#### Sleep"
   ]
  },
  {
   "cell_type": "code",
   "execution_count": 3,
   "metadata": {},
   "outputs": [
    {
     "name": "stdout",
     "output_type": "stream",
     "text": [
      "<class 'pandas.core.frame.DataFrame'>\n",
      "RangeIndex: 413 entries, 0 to 412\n",
      "Data columns (total 5 columns):\n",
      " #   Column              Non-Null Count  Dtype \n",
      "---  ------              --------------  ----- \n",
      " 0   Id                  413 non-null    int64 \n",
      " 1   SleepDay            413 non-null    object\n",
      " 2   TotalSleepRecords   413 non-null    int64 \n",
      " 3   TotalMinutesAsleep  413 non-null    int64 \n",
      " 4   TotalTimeInBed      413 non-null    int64 \n",
      "dtypes: int64(4), object(1)\n",
      "memory usage: 16.3+ KB\n",
      "None\n"
     ]
    }
   ],
   "source": [
    "print(df_sleep.info())"
   ]
  },
  {
   "cell_type": "code",
   "execution_count": 4,
   "metadata": {},
   "outputs": [],
   "source": [
    "#Convert SleepDay to datetime\n",
    "df_sleep['SleepDay'] = pd.to_datetime(df_sleep['SleepDay'])"
   ]
  },
  {
   "cell_type": "code",
   "execution_count": 5,
   "metadata": {},
   "outputs": [
    {
     "data": {
      "text/plain": [
       "3"
      ]
     },
     "execution_count": 5,
     "metadata": {},
     "output_type": "execute_result"
    }
   ],
   "source": [
    "df_sleep.duplicated().sum()"
   ]
  },
  {
   "cell_type": "code",
   "execution_count": 6,
   "metadata": {},
   "outputs": [],
   "source": [
    "#Drop duplicates\n",
    "df_sleep.drop_duplicates(inplace=True)"
   ]
  },
  {
   "cell_type": "code",
   "execution_count": 7,
   "metadata": {},
   "outputs": [
    {
     "name": "stdout",
     "output_type": "stream",
     "text": [
      "<class 'pandas.core.frame.DataFrame'>\n",
      "Int64Index: 410 entries, 0 to 412\n",
      "Data columns (total 5 columns):\n",
      " #   Column              Non-Null Count  Dtype         \n",
      "---  ------              --------------  -----         \n",
      " 0   Id                  410 non-null    int64         \n",
      " 1   SleepDay            410 non-null    datetime64[ns]\n",
      " 2   TotalSleepRecords   410 non-null    int64         \n",
      " 3   TotalMinutesAsleep  410 non-null    int64         \n",
      " 4   TotalTimeInBed      410 non-null    int64         \n",
      "dtypes: datetime64[ns](1), int64(4)\n",
      "memory usage: 19.2 KB\n"
     ]
    }
   ],
   "source": [
    "df_sleep.info()"
   ]
  },
  {
   "attachments": {},
   "cell_type": "markdown",
   "metadata": {},
   "source": [
    "#### Activity"
   ]
  },
  {
   "cell_type": "code",
   "execution_count": 8,
   "metadata": {},
   "outputs": [
    {
     "name": "stdout",
     "output_type": "stream",
     "text": [
      "<class 'pandas.core.frame.DataFrame'>\n",
      "RangeIndex: 940 entries, 0 to 939\n",
      "Data columns (total 15 columns):\n",
      " #   Column                    Non-Null Count  Dtype  \n",
      "---  ------                    --------------  -----  \n",
      " 0   Id                        940 non-null    int64  \n",
      " 1   ActivityDate              940 non-null    object \n",
      " 2   TotalSteps                940 non-null    int64  \n",
      " 3   TotalDistance             940 non-null    float64\n",
      " 4   TrackerDistance           940 non-null    float64\n",
      " 5   LoggedActivitiesDistance  940 non-null    float64\n",
      " 6   VeryActiveDistance        940 non-null    float64\n",
      " 7   ModeratelyActiveDistance  940 non-null    float64\n",
      " 8   LightActiveDistance       940 non-null    float64\n",
      " 9   SedentaryActiveDistance   940 non-null    float64\n",
      " 10  VeryActiveMinutes         940 non-null    int64  \n",
      " 11  FairlyActiveMinutes       940 non-null    int64  \n",
      " 12  LightlyActiveMinutes      940 non-null    int64  \n",
      " 13  SedentaryMinutes          940 non-null    int64  \n",
      " 14  Calories                  940 non-null    int64  \n",
      "dtypes: float64(7), int64(7), object(1)\n",
      "memory usage: 110.3+ KB\n"
     ]
    }
   ],
   "source": [
    "df_activity.info()"
   ]
  },
  {
   "cell_type": "code",
   "execution_count": 9,
   "metadata": {},
   "outputs": [],
   "source": [
    "#convert activity date to datetime\n",
    "df_activity['ActivityDate'] = pd.to_datetime(df_activity['ActivityDate'])"
   ]
  },
  {
   "cell_type": "code",
   "execution_count": 10,
   "metadata": {},
   "outputs": [],
   "source": [
    "#Create new column TotalActivityMins being the sum of VeryActiveMinutes, FairlyActiveMinutes, LightlyActiveMinutes \n",
    "df_activity['TotalActivityMins'] = df_activity['VeryActiveMinutes'] + df_activity['FairlyActiveMinutes'] + df_activity['LightlyActiveMinutes']"
   ]
  },
  {
   "cell_type": "code",
   "execution_count": 11,
   "metadata": {},
   "outputs": [
    {
     "data": {
      "text/html": [
       "<div>\n",
       "<style scoped>\n",
       "    .dataframe tbody tr th:only-of-type {\n",
       "        vertical-align: middle;\n",
       "    }\n",
       "\n",
       "    .dataframe tbody tr th {\n",
       "        vertical-align: top;\n",
       "    }\n",
       "\n",
       "    .dataframe thead th {\n",
       "        text-align: right;\n",
       "    }\n",
       "</style>\n",
       "<table border=\"1\" class=\"dataframe\">\n",
       "  <thead>\n",
       "    <tr style=\"text-align: right;\">\n",
       "      <th></th>\n",
       "      <th>Id</th>\n",
       "      <th>TotalSteps</th>\n",
       "      <th>TotalDistance</th>\n",
       "      <th>TrackerDistance</th>\n",
       "      <th>LoggedActivitiesDistance</th>\n",
       "      <th>VeryActiveDistance</th>\n",
       "      <th>ModeratelyActiveDistance</th>\n",
       "      <th>LightActiveDistance</th>\n",
       "      <th>SedentaryActiveDistance</th>\n",
       "      <th>VeryActiveMinutes</th>\n",
       "      <th>FairlyActiveMinutes</th>\n",
       "      <th>LightlyActiveMinutes</th>\n",
       "      <th>SedentaryMinutes</th>\n",
       "      <th>Calories</th>\n",
       "      <th>TotalActivityMins</th>\n",
       "    </tr>\n",
       "  </thead>\n",
       "  <tbody>\n",
       "    <tr>\n",
       "      <th>count</th>\n",
       "      <td>9.400000e+02</td>\n",
       "      <td>940.000000</td>\n",
       "      <td>940.000000</td>\n",
       "      <td>940.000000</td>\n",
       "      <td>940.000000</td>\n",
       "      <td>940.000000</td>\n",
       "      <td>940.000000</td>\n",
       "      <td>940.000000</td>\n",
       "      <td>940.000000</td>\n",
       "      <td>940.000000</td>\n",
       "      <td>940.000000</td>\n",
       "      <td>940.000000</td>\n",
       "      <td>940.000000</td>\n",
       "      <td>940.000000</td>\n",
       "      <td>940.000000</td>\n",
       "    </tr>\n",
       "    <tr>\n",
       "      <th>mean</th>\n",
       "      <td>4.855407e+09</td>\n",
       "      <td>7637.910638</td>\n",
       "      <td>5.489702</td>\n",
       "      <td>5.475351</td>\n",
       "      <td>0.108171</td>\n",
       "      <td>1.502681</td>\n",
       "      <td>0.567543</td>\n",
       "      <td>3.340819</td>\n",
       "      <td>0.001606</td>\n",
       "      <td>21.164894</td>\n",
       "      <td>13.564894</td>\n",
       "      <td>192.812766</td>\n",
       "      <td>991.210638</td>\n",
       "      <td>2303.609574</td>\n",
       "      <td>227.542553</td>\n",
       "    </tr>\n",
       "    <tr>\n",
       "      <th>std</th>\n",
       "      <td>2.424805e+09</td>\n",
       "      <td>5087.150742</td>\n",
       "      <td>3.924606</td>\n",
       "      <td>3.907276</td>\n",
       "      <td>0.619897</td>\n",
       "      <td>2.658941</td>\n",
       "      <td>0.883580</td>\n",
       "      <td>2.040655</td>\n",
       "      <td>0.007346</td>\n",
       "      <td>32.844803</td>\n",
       "      <td>19.987404</td>\n",
       "      <td>109.174700</td>\n",
       "      <td>301.267437</td>\n",
       "      <td>718.166862</td>\n",
       "      <td>121.776307</td>\n",
       "    </tr>\n",
       "    <tr>\n",
       "      <th>min</th>\n",
       "      <td>1.503960e+09</td>\n",
       "      <td>0.000000</td>\n",
       "      <td>0.000000</td>\n",
       "      <td>0.000000</td>\n",
       "      <td>0.000000</td>\n",
       "      <td>0.000000</td>\n",
       "      <td>0.000000</td>\n",
       "      <td>0.000000</td>\n",
       "      <td>0.000000</td>\n",
       "      <td>0.000000</td>\n",
       "      <td>0.000000</td>\n",
       "      <td>0.000000</td>\n",
       "      <td>0.000000</td>\n",
       "      <td>0.000000</td>\n",
       "      <td>0.000000</td>\n",
       "    </tr>\n",
       "    <tr>\n",
       "      <th>25%</th>\n",
       "      <td>2.320127e+09</td>\n",
       "      <td>3789.750000</td>\n",
       "      <td>2.620000</td>\n",
       "      <td>2.620000</td>\n",
       "      <td>0.000000</td>\n",
       "      <td>0.000000</td>\n",
       "      <td>0.000000</td>\n",
       "      <td>1.945000</td>\n",
       "      <td>0.000000</td>\n",
       "      <td>0.000000</td>\n",
       "      <td>0.000000</td>\n",
       "      <td>127.000000</td>\n",
       "      <td>729.750000</td>\n",
       "      <td>1828.500000</td>\n",
       "      <td>146.750000</td>\n",
       "    </tr>\n",
       "    <tr>\n",
       "      <th>50%</th>\n",
       "      <td>4.445115e+09</td>\n",
       "      <td>7405.500000</td>\n",
       "      <td>5.245000</td>\n",
       "      <td>5.245000</td>\n",
       "      <td>0.000000</td>\n",
       "      <td>0.210000</td>\n",
       "      <td>0.240000</td>\n",
       "      <td>3.365000</td>\n",
       "      <td>0.000000</td>\n",
       "      <td>4.000000</td>\n",
       "      <td>6.000000</td>\n",
       "      <td>199.000000</td>\n",
       "      <td>1057.500000</td>\n",
       "      <td>2134.000000</td>\n",
       "      <td>247.000000</td>\n",
       "    </tr>\n",
       "    <tr>\n",
       "      <th>75%</th>\n",
       "      <td>6.962181e+09</td>\n",
       "      <td>10727.000000</td>\n",
       "      <td>7.712500</td>\n",
       "      <td>7.710000</td>\n",
       "      <td>0.000000</td>\n",
       "      <td>2.052500</td>\n",
       "      <td>0.800000</td>\n",
       "      <td>4.782500</td>\n",
       "      <td>0.000000</td>\n",
       "      <td>32.000000</td>\n",
       "      <td>19.000000</td>\n",
       "      <td>264.000000</td>\n",
       "      <td>1229.500000</td>\n",
       "      <td>2793.250000</td>\n",
       "      <td>317.250000</td>\n",
       "    </tr>\n",
       "    <tr>\n",
       "      <th>max</th>\n",
       "      <td>8.877689e+09</td>\n",
       "      <td>36019.000000</td>\n",
       "      <td>28.030001</td>\n",
       "      <td>28.030001</td>\n",
       "      <td>4.942142</td>\n",
       "      <td>21.920000</td>\n",
       "      <td>6.480000</td>\n",
       "      <td>10.710000</td>\n",
       "      <td>0.110000</td>\n",
       "      <td>210.000000</td>\n",
       "      <td>143.000000</td>\n",
       "      <td>518.000000</td>\n",
       "      <td>1440.000000</td>\n",
       "      <td>4900.000000</td>\n",
       "      <td>552.000000</td>\n",
       "    </tr>\n",
       "  </tbody>\n",
       "</table>\n",
       "</div>"
      ],
      "text/plain": [
       "                 Id    TotalSteps  TotalDistance  TrackerDistance  \\\n",
       "count  9.400000e+02    940.000000     940.000000       940.000000   \n",
       "mean   4.855407e+09   7637.910638       5.489702         5.475351   \n",
       "std    2.424805e+09   5087.150742       3.924606         3.907276   \n",
       "min    1.503960e+09      0.000000       0.000000         0.000000   \n",
       "25%    2.320127e+09   3789.750000       2.620000         2.620000   \n",
       "50%    4.445115e+09   7405.500000       5.245000         5.245000   \n",
       "75%    6.962181e+09  10727.000000       7.712500         7.710000   \n",
       "max    8.877689e+09  36019.000000      28.030001        28.030001   \n",
       "\n",
       "       LoggedActivitiesDistance  VeryActiveDistance  ModeratelyActiveDistance  \\\n",
       "count                940.000000          940.000000                940.000000   \n",
       "mean                   0.108171            1.502681                  0.567543   \n",
       "std                    0.619897            2.658941                  0.883580   \n",
       "min                    0.000000            0.000000                  0.000000   \n",
       "25%                    0.000000            0.000000                  0.000000   \n",
       "50%                    0.000000            0.210000                  0.240000   \n",
       "75%                    0.000000            2.052500                  0.800000   \n",
       "max                    4.942142           21.920000                  6.480000   \n",
       "\n",
       "       LightActiveDistance  SedentaryActiveDistance  VeryActiveMinutes  \\\n",
       "count           940.000000               940.000000         940.000000   \n",
       "mean              3.340819                 0.001606          21.164894   \n",
       "std               2.040655                 0.007346          32.844803   \n",
       "min               0.000000                 0.000000           0.000000   \n",
       "25%               1.945000                 0.000000           0.000000   \n",
       "50%               3.365000                 0.000000           4.000000   \n",
       "75%               4.782500                 0.000000          32.000000   \n",
       "max              10.710000                 0.110000         210.000000   \n",
       "\n",
       "       FairlyActiveMinutes  LightlyActiveMinutes  SedentaryMinutes  \\\n",
       "count           940.000000            940.000000        940.000000   \n",
       "mean             13.564894            192.812766        991.210638   \n",
       "std              19.987404            109.174700        301.267437   \n",
       "min               0.000000              0.000000          0.000000   \n",
       "25%               0.000000            127.000000        729.750000   \n",
       "50%               6.000000            199.000000       1057.500000   \n",
       "75%              19.000000            264.000000       1229.500000   \n",
       "max             143.000000            518.000000       1440.000000   \n",
       "\n",
       "          Calories  TotalActivityMins  \n",
       "count   940.000000         940.000000  \n",
       "mean   2303.609574         227.542553  \n",
       "std     718.166862         121.776307  \n",
       "min       0.000000           0.000000  \n",
       "25%    1828.500000         146.750000  \n",
       "50%    2134.000000         247.000000  \n",
       "75%    2793.250000         317.250000  \n",
       "max    4900.000000         552.000000  "
      ]
     },
     "execution_count": 11,
     "metadata": {},
     "output_type": "execute_result"
    }
   ],
   "source": [
    "df_activity.describe()"
   ]
  },
  {
   "cell_type": "code",
   "execution_count": 12,
   "metadata": {},
   "outputs": [
    {
     "data": {
      "text/plain": [
       "0"
      ]
     },
     "execution_count": 12,
     "metadata": {},
     "output_type": "execute_result"
    }
   ],
   "source": [
    "df_activity.duplicated().sum()"
   ]
  },
  {
   "attachments": {},
   "cell_type": "markdown",
   "metadata": {},
   "source": [
    "#### Weight"
   ]
  },
  {
   "cell_type": "code",
   "execution_count": 13,
   "metadata": {},
   "outputs": [
    {
     "name": "stdout",
     "output_type": "stream",
     "text": [
      "<class 'pandas.core.frame.DataFrame'>\n",
      "RangeIndex: 67 entries, 0 to 66\n",
      "Data columns (total 8 columns):\n",
      " #   Column          Non-Null Count  Dtype  \n",
      "---  ------          --------------  -----  \n",
      " 0   Id              67 non-null     int64  \n",
      " 1   Date            67 non-null     object \n",
      " 2   WeightKg        67 non-null     float64\n",
      " 3   WeightPounds    67 non-null     float64\n",
      " 4   Fat             2 non-null      float64\n",
      " 5   BMI             67 non-null     float64\n",
      " 6   IsManualReport  67 non-null     bool   \n",
      " 7   LogId           67 non-null     int64  \n",
      "dtypes: bool(1), float64(4), int64(2), object(1)\n",
      "memory usage: 3.9+ KB\n"
     ]
    }
   ],
   "source": [
    "\n",
    "df_weight.info()"
   ]
  },
  {
   "attachments": {},
   "cell_type": "markdown",
   "metadata": {},
   "source": [
    "Fat percentage is recorded for only 2 users. So dropping that column from our EDA. "
   ]
  },
  {
   "cell_type": "code",
   "execution_count": 14,
   "metadata": {},
   "outputs": [],
   "source": [
    "#Drop Fat column from df_weight\n",
    "df_weight.drop('Fat', axis=1, inplace=True)"
   ]
  },
  {
   "cell_type": "code",
   "execution_count": 15,
   "metadata": {},
   "outputs": [],
   "source": [
    "#Convert Date to datetime\n",
    "df_weight['Date'] = pd.to_datetime(df_weight['Date'])"
   ]
  },
  {
   "cell_type": "code",
   "execution_count": 16,
   "metadata": {},
   "outputs": [
    {
     "data": {
      "text/plain": [
       "0"
      ]
     },
     "execution_count": 16,
     "metadata": {},
     "output_type": "execute_result"
    }
   ],
   "source": [
    "#check for duplicates in df_weight\n",
    "df_weight.duplicated().sum()"
   ]
  },
  {
   "cell_type": "code",
   "execution_count": 17,
   "metadata": {},
   "outputs": [
    {
     "name": "stdout",
     "output_type": "stream",
     "text": [
      "<class 'pandas.core.frame.DataFrame'>\n",
      "RangeIndex: 67 entries, 0 to 66\n",
      "Data columns (total 7 columns):\n",
      " #   Column          Non-Null Count  Dtype         \n",
      "---  ------          --------------  -----         \n",
      " 0   Id              67 non-null     int64         \n",
      " 1   Date            67 non-null     datetime64[ns]\n",
      " 2   WeightKg        67 non-null     float64       \n",
      " 3   WeightPounds    67 non-null     float64       \n",
      " 4   BMI             67 non-null     float64       \n",
      " 5   IsManualReport  67 non-null     bool          \n",
      " 6   LogId           67 non-null     int64         \n",
      "dtypes: bool(1), datetime64[ns](1), float64(3), int64(2)\n",
      "memory usage: 3.3 KB\n"
     ]
    }
   ],
   "source": [
    "df_weight.info()"
   ]
  },
  {
   "cell_type": "code",
   "execution_count": 18,
   "metadata": {},
   "outputs": [],
   "source": [
    "#Split Date in df_weight into year, month, and day and time\n",
    "df_weight['time'] = df_weight['Date'].dt.time\n",
    "df_weight['date'] = df_weight['Date'].dt.date\n"
   ]
  },
  {
   "cell_type": "code",
   "execution_count": 19,
   "metadata": {},
   "outputs": [
    {
     "data": {
      "text/html": [
       "<div>\n",
       "<style scoped>\n",
       "    .dataframe tbody tr th:only-of-type {\n",
       "        vertical-align: middle;\n",
       "    }\n",
       "\n",
       "    .dataframe tbody tr th {\n",
       "        vertical-align: top;\n",
       "    }\n",
       "\n",
       "    .dataframe thead th {\n",
       "        text-align: right;\n",
       "    }\n",
       "</style>\n",
       "<table border=\"1\" class=\"dataframe\">\n",
       "  <thead>\n",
       "    <tr style=\"text-align: right;\">\n",
       "      <th></th>\n",
       "      <th>WeightLost</th>\n",
       "    </tr>\n",
       "    <tr>\n",
       "      <th>Id</th>\n",
       "      <th></th>\n",
       "    </tr>\n",
       "  </thead>\n",
       "  <tbody>\n",
       "    <tr>\n",
       "      <th>1503960366</th>\n",
       "      <td>0.000000</td>\n",
       "    </tr>\n",
       "    <tr>\n",
       "      <th>1927972279</th>\n",
       "      <td>0.000000</td>\n",
       "    </tr>\n",
       "    <tr>\n",
       "      <th>2873212765</th>\n",
       "      <td>-1.322770</td>\n",
       "    </tr>\n",
       "    <tr>\n",
       "      <th>4319703577</th>\n",
       "      <td>0.220459</td>\n",
       "    </tr>\n",
       "    <tr>\n",
       "      <th>4558609924</th>\n",
       "      <td>1.322770</td>\n",
       "    </tr>\n",
       "    <tr>\n",
       "      <th>5577150313</th>\n",
       "      <td>0.000000</td>\n",
       "    </tr>\n",
       "    <tr>\n",
       "      <th>6962181067</th>\n",
       "      <td>1.322770</td>\n",
       "    </tr>\n",
       "    <tr>\n",
       "      <th>8877689391</th>\n",
       "      <td>3.968327</td>\n",
       "    </tr>\n",
       "  </tbody>\n",
       "</table>\n",
       "</div>"
      ],
      "text/plain": [
       "            WeightLost\n",
       "Id                    \n",
       "1503960366    0.000000\n",
       "1927972279    0.000000\n",
       "2873212765   -1.322770\n",
       "4319703577    0.220459\n",
       "4558609924    1.322770\n",
       "5577150313    0.000000\n",
       "6962181067    1.322770\n",
       "8877689391    3.968327"
      ]
     },
     "execution_count": 19,
     "metadata": {},
     "output_type": "execute_result"
    }
   ],
   "source": [
    "#Add a column describing weight lost by each user\n",
    "df_weight.sort_values(by=['Id', 'Date'], inplace=True)\n",
    "df_weight['WeightLost'] = df_weight.groupby('Id')['WeightPounds'].transform('first') - df_weight.groupby('Id')['WeightPounds'].transform('last')\n",
    "df_weight[['Id','WeightLost']].groupby('Id').first()"
   ]
  },
  {
   "cell_type": "code",
   "execution_count": 20,
   "metadata": {},
   "outputs": [
    {
     "data": {
      "text/plain": [
       "Index(['Id', 'Date', 'WeightKg', 'WeightPounds', 'BMI', 'IsManualReport',\n",
       "       'LogId', 'time', 'date', 'WeightLost'],\n",
       "      dtype='object')"
      ]
     },
     "execution_count": 20,
     "metadata": {},
     "output_type": "execute_result"
    }
   ],
   "source": [
    "df_weight.columns"
   ]
  },
  {
   "attachments": {},
   "cell_type": "markdown",
   "metadata": {},
   "source": [
    "### Identifying Trends in the dataset. "
   ]
  },
  {
   "attachments": {},
   "cell_type": "markdown",
   "metadata": {},
   "source": [
    "#### Sleep\n"
   ]
  },
  {
   "cell_type": "code",
   "execution_count": 21,
   "metadata": {},
   "outputs": [
    {
     "name": "stdout",
     "output_type": "stream",
     "text": [
      "Number of Unique Users: 24\n",
      "Sleep records per user:\n",
      "8378563200    31\n",
      "6962181067    31\n",
      "5553957443    31\n",
      "2026352035    28\n",
      "3977333714    28\n",
      "4445114986    28\n",
      "4702921684    27\n",
      "5577150313    26\n",
      "4319703577    26\n",
      "1503960366    25\n",
      "7086361926    24\n",
      "4388161847    23\n",
      "6117666160    18\n",
      "8792009665    15\n",
      "2347167796    15\n",
      "4020332650     8\n",
      "1927972279     5\n",
      "4558609924     5\n",
      "1644430081     4\n",
      "6775888955     3\n",
      "8053475328     3\n",
      "1844505072     3\n",
      "7007744171     2\n",
      "2320127002     1\n",
      "Name: Id, dtype: int64\n"
     ]
    }
   ],
   "source": [
    "#Number of unique users in sleep data\n",
    "print(f\"Number of Unique Users: {df_sleep['Id'].nunique()}\")\n",
    "#Number of sleep records per user\n",
    "print(f\"Sleep records per user:\\n{df_sleep['Id'].value_counts()}\")\n"
   ]
  },
  {
   "attachments": {},
   "cell_type": "markdown",
   "metadata": {},
   "source": [
    "1) We see that some users have more than one sleep record per day. Not sure why this is the case, but let's ignore that anamoly and consider them to have entered data for 30 days. \n",
    "2) Only 24 out of 33 users have been tracking their sleep\n",
    "3) Let's see how many users have tracked it consistently"
   ]
  },
  {
   "cell_type": "code",
   "execution_count": 22,
   "metadata": {},
   "outputs": [
    {
     "name": "stdout",
     "output_type": "stream",
     "text": [
      "Number of users who have sleep records for atleast 15 days: 15\n"
     ]
    }
   ],
   "source": [
    "#Number of users who have sleep records for atleast 15 days\n",
    "print(f\"Number of users who have sleep records for atleast 15 days: {df_sleep['Id'].value_counts()[df_sleep['Id'].value_counts() >= 15].count()}\")"
   ]
  },
  {
   "cell_type": "code",
   "execution_count": 23,
   "metadata": {},
   "outputs": [],
   "source": [
    "#Percentage of users tracking sleep for atleast 15 days out of 33 users\n",
    "tracking_sleep_ok = df_sleep['Id'].value_counts()[df_sleep['Id'].value_counts() >= 15].count()/df_activity['Id'].nunique()*100\n",
    "\n",
    "#Percentage of users tracking sleep for less than 15 days out of 33 users\n",
    "tracking_sleep_inconsistent = df_sleep['Id'].value_counts()[df_sleep['Id'].value_counts() < 15].count()/df_activity['Id'].nunique()*100\n",
    "\n",
    "#Percentage of users tracking not tracking their sleep at all\n",
    "not_tracking = (df_activity['Id'].nunique() - df_sleep['Id'].nunique())/df_activity['Id'].nunique()*100"
   ]
  },
  {
   "cell_type": "code",
   "execution_count": 24,
   "metadata": {},
   "outputs": [
    {
     "data": {
      "application/vnd.plotly.v1+json": {
       "config": {
        "plotlyServerURL": "https://plot.ly"
       },
       "data": [
        {
         "labels": [
          "Tracked Sleep for atleast 15 days",
          "Tracked Sleep for less than 15 days",
          "Did not track sleep at all"
         ],
         "type": "pie",
         "values": [
          45.45454545454545,
          27.27272727272727,
          27.27272727272727
         ]
        }
       ],
       "layout": {
        "template": {
         "data": {
          "bar": [
           {
            "error_x": {
             "color": "#2a3f5f"
            },
            "error_y": {
             "color": "#2a3f5f"
            },
            "marker": {
             "line": {
              "color": "#E5ECF6",
              "width": 0.5
             },
             "pattern": {
              "fillmode": "overlay",
              "size": 10,
              "solidity": 0.2
             }
            },
            "type": "bar"
           }
          ],
          "barpolar": [
           {
            "marker": {
             "line": {
              "color": "#E5ECF6",
              "width": 0.5
             },
             "pattern": {
              "fillmode": "overlay",
              "size": 10,
              "solidity": 0.2
             }
            },
            "type": "barpolar"
           }
          ],
          "carpet": [
           {
            "aaxis": {
             "endlinecolor": "#2a3f5f",
             "gridcolor": "white",
             "linecolor": "white",
             "minorgridcolor": "white",
             "startlinecolor": "#2a3f5f"
            },
            "baxis": {
             "endlinecolor": "#2a3f5f",
             "gridcolor": "white",
             "linecolor": "white",
             "minorgridcolor": "white",
             "startlinecolor": "#2a3f5f"
            },
            "type": "carpet"
           }
          ],
          "choropleth": [
           {
            "colorbar": {
             "outlinewidth": 0,
             "ticks": ""
            },
            "type": "choropleth"
           }
          ],
          "contour": [
           {
            "colorbar": {
             "outlinewidth": 0,
             "ticks": ""
            },
            "colorscale": [
             [
              0,
              "#0d0887"
             ],
             [
              0.1111111111111111,
              "#46039f"
             ],
             [
              0.2222222222222222,
              "#7201a8"
             ],
             [
              0.3333333333333333,
              "#9c179e"
             ],
             [
              0.4444444444444444,
              "#bd3786"
             ],
             [
              0.5555555555555556,
              "#d8576b"
             ],
             [
              0.6666666666666666,
              "#ed7953"
             ],
             [
              0.7777777777777778,
              "#fb9f3a"
             ],
             [
              0.8888888888888888,
              "#fdca26"
             ],
             [
              1,
              "#f0f921"
             ]
            ],
            "type": "contour"
           }
          ],
          "contourcarpet": [
           {
            "colorbar": {
             "outlinewidth": 0,
             "ticks": ""
            },
            "type": "contourcarpet"
           }
          ],
          "heatmap": [
           {
            "colorbar": {
             "outlinewidth": 0,
             "ticks": ""
            },
            "colorscale": [
             [
              0,
              "#0d0887"
             ],
             [
              0.1111111111111111,
              "#46039f"
             ],
             [
              0.2222222222222222,
              "#7201a8"
             ],
             [
              0.3333333333333333,
              "#9c179e"
             ],
             [
              0.4444444444444444,
              "#bd3786"
             ],
             [
              0.5555555555555556,
              "#d8576b"
             ],
             [
              0.6666666666666666,
              "#ed7953"
             ],
             [
              0.7777777777777778,
              "#fb9f3a"
             ],
             [
              0.8888888888888888,
              "#fdca26"
             ],
             [
              1,
              "#f0f921"
             ]
            ],
            "type": "heatmap"
           }
          ],
          "heatmapgl": [
           {
            "colorbar": {
             "outlinewidth": 0,
             "ticks": ""
            },
            "colorscale": [
             [
              0,
              "#0d0887"
             ],
             [
              0.1111111111111111,
              "#46039f"
             ],
             [
              0.2222222222222222,
              "#7201a8"
             ],
             [
              0.3333333333333333,
              "#9c179e"
             ],
             [
              0.4444444444444444,
              "#bd3786"
             ],
             [
              0.5555555555555556,
              "#d8576b"
             ],
             [
              0.6666666666666666,
              "#ed7953"
             ],
             [
              0.7777777777777778,
              "#fb9f3a"
             ],
             [
              0.8888888888888888,
              "#fdca26"
             ],
             [
              1,
              "#f0f921"
             ]
            ],
            "type": "heatmapgl"
           }
          ],
          "histogram": [
           {
            "marker": {
             "pattern": {
              "fillmode": "overlay",
              "size": 10,
              "solidity": 0.2
             }
            },
            "type": "histogram"
           }
          ],
          "histogram2d": [
           {
            "colorbar": {
             "outlinewidth": 0,
             "ticks": ""
            },
            "colorscale": [
             [
              0,
              "#0d0887"
             ],
             [
              0.1111111111111111,
              "#46039f"
             ],
             [
              0.2222222222222222,
              "#7201a8"
             ],
             [
              0.3333333333333333,
              "#9c179e"
             ],
             [
              0.4444444444444444,
              "#bd3786"
             ],
             [
              0.5555555555555556,
              "#d8576b"
             ],
             [
              0.6666666666666666,
              "#ed7953"
             ],
             [
              0.7777777777777778,
              "#fb9f3a"
             ],
             [
              0.8888888888888888,
              "#fdca26"
             ],
             [
              1,
              "#f0f921"
             ]
            ],
            "type": "histogram2d"
           }
          ],
          "histogram2dcontour": [
           {
            "colorbar": {
             "outlinewidth": 0,
             "ticks": ""
            },
            "colorscale": [
             [
              0,
              "#0d0887"
             ],
             [
              0.1111111111111111,
              "#46039f"
             ],
             [
              0.2222222222222222,
              "#7201a8"
             ],
             [
              0.3333333333333333,
              "#9c179e"
             ],
             [
              0.4444444444444444,
              "#bd3786"
             ],
             [
              0.5555555555555556,
              "#d8576b"
             ],
             [
              0.6666666666666666,
              "#ed7953"
             ],
             [
              0.7777777777777778,
              "#fb9f3a"
             ],
             [
              0.8888888888888888,
              "#fdca26"
             ],
             [
              1,
              "#f0f921"
             ]
            ],
            "type": "histogram2dcontour"
           }
          ],
          "mesh3d": [
           {
            "colorbar": {
             "outlinewidth": 0,
             "ticks": ""
            },
            "type": "mesh3d"
           }
          ],
          "parcoords": [
           {
            "line": {
             "colorbar": {
              "outlinewidth": 0,
              "ticks": ""
             }
            },
            "type": "parcoords"
           }
          ],
          "pie": [
           {
            "automargin": true,
            "type": "pie"
           }
          ],
          "scatter": [
           {
            "fillpattern": {
             "fillmode": "overlay",
             "size": 10,
             "solidity": 0.2
            },
            "type": "scatter"
           }
          ],
          "scatter3d": [
           {
            "line": {
             "colorbar": {
              "outlinewidth": 0,
              "ticks": ""
             }
            },
            "marker": {
             "colorbar": {
              "outlinewidth": 0,
              "ticks": ""
             }
            },
            "type": "scatter3d"
           }
          ],
          "scattercarpet": [
           {
            "marker": {
             "colorbar": {
              "outlinewidth": 0,
              "ticks": ""
             }
            },
            "type": "scattercarpet"
           }
          ],
          "scattergeo": [
           {
            "marker": {
             "colorbar": {
              "outlinewidth": 0,
              "ticks": ""
             }
            },
            "type": "scattergeo"
           }
          ],
          "scattergl": [
           {
            "marker": {
             "colorbar": {
              "outlinewidth": 0,
              "ticks": ""
             }
            },
            "type": "scattergl"
           }
          ],
          "scattermapbox": [
           {
            "marker": {
             "colorbar": {
              "outlinewidth": 0,
              "ticks": ""
             }
            },
            "type": "scattermapbox"
           }
          ],
          "scatterpolar": [
           {
            "marker": {
             "colorbar": {
              "outlinewidth": 0,
              "ticks": ""
             }
            },
            "type": "scatterpolar"
           }
          ],
          "scatterpolargl": [
           {
            "marker": {
             "colorbar": {
              "outlinewidth": 0,
              "ticks": ""
             }
            },
            "type": "scatterpolargl"
           }
          ],
          "scatterternary": [
           {
            "marker": {
             "colorbar": {
              "outlinewidth": 0,
              "ticks": ""
             }
            },
            "type": "scatterternary"
           }
          ],
          "surface": [
           {
            "colorbar": {
             "outlinewidth": 0,
             "ticks": ""
            },
            "colorscale": [
             [
              0,
              "#0d0887"
             ],
             [
              0.1111111111111111,
              "#46039f"
             ],
             [
              0.2222222222222222,
              "#7201a8"
             ],
             [
              0.3333333333333333,
              "#9c179e"
             ],
             [
              0.4444444444444444,
              "#bd3786"
             ],
             [
              0.5555555555555556,
              "#d8576b"
             ],
             [
              0.6666666666666666,
              "#ed7953"
             ],
             [
              0.7777777777777778,
              "#fb9f3a"
             ],
             [
              0.8888888888888888,
              "#fdca26"
             ],
             [
              1,
              "#f0f921"
             ]
            ],
            "type": "surface"
           }
          ],
          "table": [
           {
            "cells": {
             "fill": {
              "color": "#EBF0F8"
             },
             "line": {
              "color": "white"
             }
            },
            "header": {
             "fill": {
              "color": "#C8D4E3"
             },
             "line": {
              "color": "white"
             }
            },
            "type": "table"
           }
          ]
         },
         "layout": {
          "annotationdefaults": {
           "arrowcolor": "#2a3f5f",
           "arrowhead": 0,
           "arrowwidth": 1
          },
          "autotypenumbers": "strict",
          "coloraxis": {
           "colorbar": {
            "outlinewidth": 0,
            "ticks": ""
           }
          },
          "colorscale": {
           "diverging": [
            [
             0,
             "#8e0152"
            ],
            [
             0.1,
             "#c51b7d"
            ],
            [
             0.2,
             "#de77ae"
            ],
            [
             0.3,
             "#f1b6da"
            ],
            [
             0.4,
             "#fde0ef"
            ],
            [
             0.5,
             "#f7f7f7"
            ],
            [
             0.6,
             "#e6f5d0"
            ],
            [
             0.7,
             "#b8e186"
            ],
            [
             0.8,
             "#7fbc41"
            ],
            [
             0.9,
             "#4d9221"
            ],
            [
             1,
             "#276419"
            ]
           ],
           "sequential": [
            [
             0,
             "#0d0887"
            ],
            [
             0.1111111111111111,
             "#46039f"
            ],
            [
             0.2222222222222222,
             "#7201a8"
            ],
            [
             0.3333333333333333,
             "#9c179e"
            ],
            [
             0.4444444444444444,
             "#bd3786"
            ],
            [
             0.5555555555555556,
             "#d8576b"
            ],
            [
             0.6666666666666666,
             "#ed7953"
            ],
            [
             0.7777777777777778,
             "#fb9f3a"
            ],
            [
             0.8888888888888888,
             "#fdca26"
            ],
            [
             1,
             "#f0f921"
            ]
           ],
           "sequentialminus": [
            [
             0,
             "#0d0887"
            ],
            [
             0.1111111111111111,
             "#46039f"
            ],
            [
             0.2222222222222222,
             "#7201a8"
            ],
            [
             0.3333333333333333,
             "#9c179e"
            ],
            [
             0.4444444444444444,
             "#bd3786"
            ],
            [
             0.5555555555555556,
             "#d8576b"
            ],
            [
             0.6666666666666666,
             "#ed7953"
            ],
            [
             0.7777777777777778,
             "#fb9f3a"
            ],
            [
             0.8888888888888888,
             "#fdca26"
            ],
            [
             1,
             "#f0f921"
            ]
           ]
          },
          "colorway": [
           "#636efa",
           "#EF553B",
           "#00cc96",
           "#ab63fa",
           "#FFA15A",
           "#19d3f3",
           "#FF6692",
           "#B6E880",
           "#FF97FF",
           "#FECB52"
          ],
          "font": {
           "color": "#2a3f5f"
          },
          "geo": {
           "bgcolor": "white",
           "lakecolor": "white",
           "landcolor": "#E5ECF6",
           "showlakes": true,
           "showland": true,
           "subunitcolor": "white"
          },
          "hoverlabel": {
           "align": "left"
          },
          "hovermode": "closest",
          "mapbox": {
           "style": "light"
          },
          "paper_bgcolor": "white",
          "plot_bgcolor": "#E5ECF6",
          "polar": {
           "angularaxis": {
            "gridcolor": "white",
            "linecolor": "white",
            "ticks": ""
           },
           "bgcolor": "#E5ECF6",
           "radialaxis": {
            "gridcolor": "white",
            "linecolor": "white",
            "ticks": ""
           }
          },
          "scene": {
           "xaxis": {
            "backgroundcolor": "#E5ECF6",
            "gridcolor": "white",
            "gridwidth": 2,
            "linecolor": "white",
            "showbackground": true,
            "ticks": "",
            "zerolinecolor": "white"
           },
           "yaxis": {
            "backgroundcolor": "#E5ECF6",
            "gridcolor": "white",
            "gridwidth": 2,
            "linecolor": "white",
            "showbackground": true,
            "ticks": "",
            "zerolinecolor": "white"
           },
           "zaxis": {
            "backgroundcolor": "#E5ECF6",
            "gridcolor": "white",
            "gridwidth": 2,
            "linecolor": "white",
            "showbackground": true,
            "ticks": "",
            "zerolinecolor": "white"
           }
          },
          "shapedefaults": {
           "line": {
            "color": "#2a3f5f"
           }
          },
          "ternary": {
           "aaxis": {
            "gridcolor": "white",
            "linecolor": "white",
            "ticks": ""
           },
           "baxis": {
            "gridcolor": "white",
            "linecolor": "white",
            "ticks": ""
           },
           "bgcolor": "#E5ECF6",
           "caxis": {
            "gridcolor": "white",
            "linecolor": "white",
            "ticks": ""
           }
          },
          "title": {
           "x": 0.05
          },
          "xaxis": {
           "automargin": true,
           "gridcolor": "white",
           "linecolor": "white",
           "ticks": "",
           "title": {
            "standoff": 15
           },
           "zerolinecolor": "white",
           "zerolinewidth": 2
          },
          "yaxis": {
           "automargin": true,
           "gridcolor": "white",
           "linecolor": "white",
           "ticks": "",
           "title": {
            "standoff": 15
           },
           "zerolinecolor": "white",
           "zerolinewidth": 2
          }
         }
        },
        "title": {
         "text": "Sleep Tracking"
        }
       }
      }
     },
     "metadata": {},
     "output_type": "display_data"
    }
   ],
   "source": [
    "#Visualize the above\n",
    "labels = ['Tracked Sleep for atleast 15 days', 'Tracked Sleep for less than 15 days', 'Did not track sleep at all']\n",
    "values = [tracking_sleep_ok, tracking_sleep_inconsistent, not_tracking]\n",
    "fig = go.Figure(data=[go.Pie(labels=labels, values=values)])\n",
    "fig.update_layout(title_text='Sleep Tracking')\n",
    "fig.show()\n"
   ]
  },
  {
   "attachments": {},
   "cell_type": "markdown",
   "metadata": {},
   "source": [
    "Majority of users ( 54.6 %) are either not tracking their sleep at all or are tracking inconsistently.\n",
    "1. Is it a bother to sleep with it or is the sleep hours not tracked properly by the product?\n",
    "2. Or are they charging the watch at night?\n",
    "Not enough data to come to a conclusion.\n"
   ]
  },
  {
   "cell_type": "code",
   "execution_count": 25,
   "metadata": {},
   "outputs": [],
   "source": [
    "#correlation between activity and sleep\n",
    "df_sleep_activity = pd.merge(df_sleep, df_activity, left_on=['Id', 'SleepDay'], right_on=['Id', 'ActivityDate'], how='inner')\n",
    "df_sleep_activity[['TotalSteps', 'TotalDistance','Calories', 'SedentaryMinutes','TotalActivityMins','TotalMinutesAsleep', 'TotalTimeInBed']].corr()\n",
    "col = ['TotalSteps', 'TotalDistance','Calories', 'SedentaryMinutes', 'TotalActivityMins', 'TotalMinutesAsleep', 'TotalTimeInBed']"
   ]
  },
  {
   "cell_type": "code",
   "execution_count": 26,
   "metadata": {},
   "outputs": [
    {
     "data": {
      "application/vnd.plotly.v1+json": {
       "config": {
        "plotlyServerURL": "https://plot.ly"
       },
       "data": [
        {
         "colorscale": [
          [
           0,
           "#440154"
          ],
          [
           0.1111111111111111,
           "#482878"
          ],
          [
           0.2222222222222222,
           "#3e4989"
          ],
          [
           0.3333333333333333,
           "#31688e"
          ],
          [
           0.4444444444444444,
           "#26828e"
          ],
          [
           0.5555555555555556,
           "#1f9e89"
          ],
          [
           0.6666666666666666,
           "#35b779"
          ],
          [
           0.7777777777777778,
           "#6ece58"
          ],
          [
           0.8888888888888888,
           "#b5de2b"
          ],
          [
           1,
           "#fde725"
          ]
         ],
         "hoverinfo": "text",
         "text": [
          [
           1,
           0.9817538892628669,
           0.40630067592096714,
           -0.13003596276146,
           0.7446484682477874,
           -0.19034391666763167,
           -0.16623194867361554
          ],
          [
           0.9817538892628669,
           1,
           0.5212161523084282,
           -0.12666670739411112,
           0.7223839046123275,
           -0.17693625254461315,
           -0.16117724128776317
          ],
          [
           0.40630067592096714,
           0.5212161523084282,
           1,
           0.09865570579679772,
           0.38998318875613364,
           -0.03169899182029129,
           -0.1348045790712117
          ],
          [
           -0.13003596276146,
           -0.12666670739411112,
           0.09865570579679772,
           1,
           -0.2626892303625715,
           -0.6010731396971007,
           -0.620280439136171
          ],
          [
           0.7446484682477874,
           0.7223839046123275,
           0.38998318875613364,
           -0.2626892303625715,
           1,
           -0.06929398305588945,
           -0.09794099650475896
          ],
          [
           -0.19034391666763167,
           -0.17693625254461315,
           -0.03169899182029129,
           -0.6010731396971007,
           -0.06929398305588945,
           1,
           0.9304223853922748
          ],
          [
           -0.16623194867361554,
           -0.16117724128776317,
           -0.1348045790712117,
           -0.620280439136171,
           -0.09794099650475896,
           0.9304223853922748,
           1
          ]
         ],
         "type": "heatmap",
         "x": [
          "TotalSteps",
          "TotalDistance",
          "Calories",
          "SedentaryMinutes",
          "TotalActivityMins",
          "TotalMinutesAsleep",
          "TotalTimeInBed"
         ],
         "y": [
          "TotalSteps",
          "TotalDistance",
          "Calories",
          "SedentaryMinutes",
          "TotalActivityMins",
          "TotalMinutesAsleep",
          "TotalTimeInBed"
         ],
         "z": [
          [
           1,
           0.9817538892628669,
           0.40630067592096714,
           -0.13003596276146,
           0.7446484682477874,
           -0.19034391666763167,
           -0.16623194867361554
          ],
          [
           0.9817538892628669,
           1,
           0.5212161523084282,
           -0.12666670739411112,
           0.7223839046123275,
           -0.17693625254461315,
           -0.16117724128776317
          ],
          [
           0.40630067592096714,
           0.5212161523084282,
           1,
           0.09865570579679772,
           0.38998318875613364,
           -0.03169899182029129,
           -0.1348045790712117
          ],
          [
           -0.13003596276146,
           -0.12666670739411112,
           0.09865570579679772,
           1,
           -0.2626892303625715,
           -0.6010731396971007,
           -0.620280439136171
          ],
          [
           0.7446484682477874,
           0.7223839046123275,
           0.38998318875613364,
           -0.2626892303625715,
           1,
           -0.06929398305588945,
           -0.09794099650475896
          ],
          [
           -0.19034391666763167,
           -0.17693625254461315,
           -0.03169899182029129,
           -0.6010731396971007,
           -0.06929398305588945,
           1,
           0.9304223853922748
          ],
          [
           -0.16623194867361554,
           -0.16117724128776317,
           -0.1348045790712117,
           -0.620280439136171,
           -0.09794099650475896,
           0.9304223853922748,
           1
          ]
         ]
        }
       ],
       "layout": {
        "template": {
         "data": {
          "bar": [
           {
            "error_x": {
             "color": "#2a3f5f"
            },
            "error_y": {
             "color": "#2a3f5f"
            },
            "marker": {
             "line": {
              "color": "#E5ECF6",
              "width": 0.5
             },
             "pattern": {
              "fillmode": "overlay",
              "size": 10,
              "solidity": 0.2
             }
            },
            "type": "bar"
           }
          ],
          "barpolar": [
           {
            "marker": {
             "line": {
              "color": "#E5ECF6",
              "width": 0.5
             },
             "pattern": {
              "fillmode": "overlay",
              "size": 10,
              "solidity": 0.2
             }
            },
            "type": "barpolar"
           }
          ],
          "carpet": [
           {
            "aaxis": {
             "endlinecolor": "#2a3f5f",
             "gridcolor": "white",
             "linecolor": "white",
             "minorgridcolor": "white",
             "startlinecolor": "#2a3f5f"
            },
            "baxis": {
             "endlinecolor": "#2a3f5f",
             "gridcolor": "white",
             "linecolor": "white",
             "minorgridcolor": "white",
             "startlinecolor": "#2a3f5f"
            },
            "type": "carpet"
           }
          ],
          "choropleth": [
           {
            "colorbar": {
             "outlinewidth": 0,
             "ticks": ""
            },
            "type": "choropleth"
           }
          ],
          "contour": [
           {
            "colorbar": {
             "outlinewidth": 0,
             "ticks": ""
            },
            "colorscale": [
             [
              0,
              "#0d0887"
             ],
             [
              0.1111111111111111,
              "#46039f"
             ],
             [
              0.2222222222222222,
              "#7201a8"
             ],
             [
              0.3333333333333333,
              "#9c179e"
             ],
             [
              0.4444444444444444,
              "#bd3786"
             ],
             [
              0.5555555555555556,
              "#d8576b"
             ],
             [
              0.6666666666666666,
              "#ed7953"
             ],
             [
              0.7777777777777778,
              "#fb9f3a"
             ],
             [
              0.8888888888888888,
              "#fdca26"
             ],
             [
              1,
              "#f0f921"
             ]
            ],
            "type": "contour"
           }
          ],
          "contourcarpet": [
           {
            "colorbar": {
             "outlinewidth": 0,
             "ticks": ""
            },
            "type": "contourcarpet"
           }
          ],
          "heatmap": [
           {
            "colorbar": {
             "outlinewidth": 0,
             "ticks": ""
            },
            "colorscale": [
             [
              0,
              "#0d0887"
             ],
             [
              0.1111111111111111,
              "#46039f"
             ],
             [
              0.2222222222222222,
              "#7201a8"
             ],
             [
              0.3333333333333333,
              "#9c179e"
             ],
             [
              0.4444444444444444,
              "#bd3786"
             ],
             [
              0.5555555555555556,
              "#d8576b"
             ],
             [
              0.6666666666666666,
              "#ed7953"
             ],
             [
              0.7777777777777778,
              "#fb9f3a"
             ],
             [
              0.8888888888888888,
              "#fdca26"
             ],
             [
              1,
              "#f0f921"
             ]
            ],
            "type": "heatmap"
           }
          ],
          "heatmapgl": [
           {
            "colorbar": {
             "outlinewidth": 0,
             "ticks": ""
            },
            "colorscale": [
             [
              0,
              "#0d0887"
             ],
             [
              0.1111111111111111,
              "#46039f"
             ],
             [
              0.2222222222222222,
              "#7201a8"
             ],
             [
              0.3333333333333333,
              "#9c179e"
             ],
             [
              0.4444444444444444,
              "#bd3786"
             ],
             [
              0.5555555555555556,
              "#d8576b"
             ],
             [
              0.6666666666666666,
              "#ed7953"
             ],
             [
              0.7777777777777778,
              "#fb9f3a"
             ],
             [
              0.8888888888888888,
              "#fdca26"
             ],
             [
              1,
              "#f0f921"
             ]
            ],
            "type": "heatmapgl"
           }
          ],
          "histogram": [
           {
            "marker": {
             "pattern": {
              "fillmode": "overlay",
              "size": 10,
              "solidity": 0.2
             }
            },
            "type": "histogram"
           }
          ],
          "histogram2d": [
           {
            "colorbar": {
             "outlinewidth": 0,
             "ticks": ""
            },
            "colorscale": [
             [
              0,
              "#0d0887"
             ],
             [
              0.1111111111111111,
              "#46039f"
             ],
             [
              0.2222222222222222,
              "#7201a8"
             ],
             [
              0.3333333333333333,
              "#9c179e"
             ],
             [
              0.4444444444444444,
              "#bd3786"
             ],
             [
              0.5555555555555556,
              "#d8576b"
             ],
             [
              0.6666666666666666,
              "#ed7953"
             ],
             [
              0.7777777777777778,
              "#fb9f3a"
             ],
             [
              0.8888888888888888,
              "#fdca26"
             ],
             [
              1,
              "#f0f921"
             ]
            ],
            "type": "histogram2d"
           }
          ],
          "histogram2dcontour": [
           {
            "colorbar": {
             "outlinewidth": 0,
             "ticks": ""
            },
            "colorscale": [
             [
              0,
              "#0d0887"
             ],
             [
              0.1111111111111111,
              "#46039f"
             ],
             [
              0.2222222222222222,
              "#7201a8"
             ],
             [
              0.3333333333333333,
              "#9c179e"
             ],
             [
              0.4444444444444444,
              "#bd3786"
             ],
             [
              0.5555555555555556,
              "#d8576b"
             ],
             [
              0.6666666666666666,
              "#ed7953"
             ],
             [
              0.7777777777777778,
              "#fb9f3a"
             ],
             [
              0.8888888888888888,
              "#fdca26"
             ],
             [
              1,
              "#f0f921"
             ]
            ],
            "type": "histogram2dcontour"
           }
          ],
          "mesh3d": [
           {
            "colorbar": {
             "outlinewidth": 0,
             "ticks": ""
            },
            "type": "mesh3d"
           }
          ],
          "parcoords": [
           {
            "line": {
             "colorbar": {
              "outlinewidth": 0,
              "ticks": ""
             }
            },
            "type": "parcoords"
           }
          ],
          "pie": [
           {
            "automargin": true,
            "type": "pie"
           }
          ],
          "scatter": [
           {
            "fillpattern": {
             "fillmode": "overlay",
             "size": 10,
             "solidity": 0.2
            },
            "type": "scatter"
           }
          ],
          "scatter3d": [
           {
            "line": {
             "colorbar": {
              "outlinewidth": 0,
              "ticks": ""
             }
            },
            "marker": {
             "colorbar": {
              "outlinewidth": 0,
              "ticks": ""
             }
            },
            "type": "scatter3d"
           }
          ],
          "scattercarpet": [
           {
            "marker": {
             "colorbar": {
              "outlinewidth": 0,
              "ticks": ""
             }
            },
            "type": "scattercarpet"
           }
          ],
          "scattergeo": [
           {
            "marker": {
             "colorbar": {
              "outlinewidth": 0,
              "ticks": ""
             }
            },
            "type": "scattergeo"
           }
          ],
          "scattergl": [
           {
            "marker": {
             "colorbar": {
              "outlinewidth": 0,
              "ticks": ""
             }
            },
            "type": "scattergl"
           }
          ],
          "scattermapbox": [
           {
            "marker": {
             "colorbar": {
              "outlinewidth": 0,
              "ticks": ""
             }
            },
            "type": "scattermapbox"
           }
          ],
          "scatterpolar": [
           {
            "marker": {
             "colorbar": {
              "outlinewidth": 0,
              "ticks": ""
             }
            },
            "type": "scatterpolar"
           }
          ],
          "scatterpolargl": [
           {
            "marker": {
             "colorbar": {
              "outlinewidth": 0,
              "ticks": ""
             }
            },
            "type": "scatterpolargl"
           }
          ],
          "scatterternary": [
           {
            "marker": {
             "colorbar": {
              "outlinewidth": 0,
              "ticks": ""
             }
            },
            "type": "scatterternary"
           }
          ],
          "surface": [
           {
            "colorbar": {
             "outlinewidth": 0,
             "ticks": ""
            },
            "colorscale": [
             [
              0,
              "#0d0887"
             ],
             [
              0.1111111111111111,
              "#46039f"
             ],
             [
              0.2222222222222222,
              "#7201a8"
             ],
             [
              0.3333333333333333,
              "#9c179e"
             ],
             [
              0.4444444444444444,
              "#bd3786"
             ],
             [
              0.5555555555555556,
              "#d8576b"
             ],
             [
              0.6666666666666666,
              "#ed7953"
             ],
             [
              0.7777777777777778,
              "#fb9f3a"
             ],
             [
              0.8888888888888888,
              "#fdca26"
             ],
             [
              1,
              "#f0f921"
             ]
            ],
            "type": "surface"
           }
          ],
          "table": [
           {
            "cells": {
             "fill": {
              "color": "#EBF0F8"
             },
             "line": {
              "color": "white"
             }
            },
            "header": {
             "fill": {
              "color": "#C8D4E3"
             },
             "line": {
              "color": "white"
             }
            },
            "type": "table"
           }
          ]
         },
         "layout": {
          "annotationdefaults": {
           "arrowcolor": "#2a3f5f",
           "arrowhead": 0,
           "arrowwidth": 1
          },
          "autotypenumbers": "strict",
          "coloraxis": {
           "colorbar": {
            "outlinewidth": 0,
            "ticks": ""
           }
          },
          "colorscale": {
           "diverging": [
            [
             0,
             "#8e0152"
            ],
            [
             0.1,
             "#c51b7d"
            ],
            [
             0.2,
             "#de77ae"
            ],
            [
             0.3,
             "#f1b6da"
            ],
            [
             0.4,
             "#fde0ef"
            ],
            [
             0.5,
             "#f7f7f7"
            ],
            [
             0.6,
             "#e6f5d0"
            ],
            [
             0.7,
             "#b8e186"
            ],
            [
             0.8,
             "#7fbc41"
            ],
            [
             0.9,
             "#4d9221"
            ],
            [
             1,
             "#276419"
            ]
           ],
           "sequential": [
            [
             0,
             "#0d0887"
            ],
            [
             0.1111111111111111,
             "#46039f"
            ],
            [
             0.2222222222222222,
             "#7201a8"
            ],
            [
             0.3333333333333333,
             "#9c179e"
            ],
            [
             0.4444444444444444,
             "#bd3786"
            ],
            [
             0.5555555555555556,
             "#d8576b"
            ],
            [
             0.6666666666666666,
             "#ed7953"
            ],
            [
             0.7777777777777778,
             "#fb9f3a"
            ],
            [
             0.8888888888888888,
             "#fdca26"
            ],
            [
             1,
             "#f0f921"
            ]
           ],
           "sequentialminus": [
            [
             0,
             "#0d0887"
            ],
            [
             0.1111111111111111,
             "#46039f"
            ],
            [
             0.2222222222222222,
             "#7201a8"
            ],
            [
             0.3333333333333333,
             "#9c179e"
            ],
            [
             0.4444444444444444,
             "#bd3786"
            ],
            [
             0.5555555555555556,
             "#d8576b"
            ],
            [
             0.6666666666666666,
             "#ed7953"
            ],
            [
             0.7777777777777778,
             "#fb9f3a"
            ],
            [
             0.8888888888888888,
             "#fdca26"
            ],
            [
             1,
             "#f0f921"
            ]
           ]
          },
          "colorway": [
           "#636efa",
           "#EF553B",
           "#00cc96",
           "#ab63fa",
           "#FFA15A",
           "#19d3f3",
           "#FF6692",
           "#B6E880",
           "#FF97FF",
           "#FECB52"
          ],
          "font": {
           "color": "#2a3f5f"
          },
          "geo": {
           "bgcolor": "white",
           "lakecolor": "white",
           "landcolor": "#E5ECF6",
           "showlakes": true,
           "showland": true,
           "subunitcolor": "white"
          },
          "hoverlabel": {
           "align": "left"
          },
          "hovermode": "closest",
          "mapbox": {
           "style": "light"
          },
          "paper_bgcolor": "white",
          "plot_bgcolor": "#E5ECF6",
          "polar": {
           "angularaxis": {
            "gridcolor": "white",
            "linecolor": "white",
            "ticks": ""
           },
           "bgcolor": "#E5ECF6",
           "radialaxis": {
            "gridcolor": "white",
            "linecolor": "white",
            "ticks": ""
           }
          },
          "scene": {
           "xaxis": {
            "backgroundcolor": "#E5ECF6",
            "gridcolor": "white",
            "gridwidth": 2,
            "linecolor": "white",
            "showbackground": true,
            "ticks": "",
            "zerolinecolor": "white"
           },
           "yaxis": {
            "backgroundcolor": "#E5ECF6",
            "gridcolor": "white",
            "gridwidth": 2,
            "linecolor": "white",
            "showbackground": true,
            "ticks": "",
            "zerolinecolor": "white"
           },
           "zaxis": {
            "backgroundcolor": "#E5ECF6",
            "gridcolor": "white",
            "gridwidth": 2,
            "linecolor": "white",
            "showbackground": true,
            "ticks": "",
            "zerolinecolor": "white"
           }
          },
          "shapedefaults": {
           "line": {
            "color": "#2a3f5f"
           }
          },
          "ternary": {
           "aaxis": {
            "gridcolor": "white",
            "linecolor": "white",
            "ticks": ""
           },
           "baxis": {
            "gridcolor": "white",
            "linecolor": "white",
            "ticks": ""
           },
           "bgcolor": "#E5ECF6",
           "caxis": {
            "gridcolor": "white",
            "linecolor": "white",
            "ticks": ""
           }
          },
          "title": {
           "x": 0.05
          },
          "xaxis": {
           "automargin": true,
           "gridcolor": "white",
           "linecolor": "white",
           "ticks": "",
           "title": {
            "standoff": 15
           },
           "zerolinecolor": "white",
           "zerolinewidth": 2
          },
          "yaxis": {
           "automargin": true,
           "gridcolor": "white",
           "linecolor": "white",
           "ticks": "",
           "title": {
            "standoff": 15
           },
           "zerolinecolor": "white",
           "zerolinewidth": 2
          }
         }
        },
        "title": {
         "text": "Correlation between activity and sleep"
        }
       }
      }
     },
     "metadata": {},
     "output_type": "display_data"
    }
   ],
   "source": [
    "#heatmap of correlation between activity and sleep\n",
    "fig = go.Figure(data=go.Heatmap(x = col, y = col, z=df_sleep_activity[col].corr().values, colorscale= 'Viridis',text=df_sleep_activity[col].corr().values, hoverinfo='text'))\n",
    "fig.update_layout(title='Correlation between activity and sleep')\n",
    "fig.show()"
   ]
  },
  {
   "attachments": {},
   "cell_type": "markdown",
   "metadata": {},
   "source": [
    "1. The more time a user spends in active mode, the more steps and distance a user covers.\n",
    "2. The more TotalSteps the user takes, the more TotalDistance they cover. And the more distance the user covers, the more calories they burn. \n",
    "3. The more the sedantary minutes, the less time they spend in bed and sleeping. \n",
    "4. But that doesn't mean the moe active people are spending a healthy amount of time asleep or not. There's not much of a correlation between TotalActivityMins and TotalMinutesAsleep."
   ]
  },
  {
   "cell_type": "code",
   "execution_count": 27,
   "metadata": {},
   "outputs": [
    {
     "data": {
      "application/vnd.plotly.v1+json": {
       "config": {
        "plotlyServerURL": "https://plot.ly"
       },
       "data": [
        {
         "mode": "markers",
         "name": "TotalMinutesAsleep",
         "type": "scatter",
         "x": [
          366,
          257,
          272,
          267,
          222,
          345,
          245,
          238,
          324,
          282,
          303,
          333,
          265,
          271,
          303,
          314,
          333,
          328,
          319,
          319,
          258,
          255,
          263,
          291,
          310,
          120,
          482,
          156,
          295,
          176,
          184,
          82,
          55,
          32,
          51,
          192,
          95,
          192,
          238,
          197,
          188,
          150,
          60,
          141,
          327,
          153,
          162,
          432,
          164,
          260,
          286,
          331,
          352,
          233,
          191,
          355,
          345,
          475,
          383,
          229,
          258,
          401,
          17,
          330,
          343,
          242,
          246,
          255,
          309,
          257,
          233,
          389,
          257,
          242,
          427,
          360,
          303,
          227,
          330,
          229,
          4,
          194,
          230,
          242,
          240,
          267,
          274,
          313,
          307,
          264,
          242,
          233,
          344,
          254,
          192,
          272,
          186,
          213,
          218,
          289,
          205,
          343,
          346,
          252,
          280,
          252,
          294,
          296,
          312,
          350,
          141,
          174,
          405,
          276,
          177,
          263,
          206,
          349,
          228,
          194,
          68,
          311,
          324,
          34,
          196,
          233,
          197,
          398,
          317,
          353,
          380,
          313,
          240,
          67,
          355,
          321,
          331,
          310,
          153,
          390,
          344,
          332,
          2,
          299,
          268,
          201,
          274,
          285,
          289,
          291,
          322,
          278,
          261,
          261,
          300,
          262,
          357,
          268,
          241,
          307,
          250,
          436,
          323,
          283,
          294,
          282,
          196,
          194,
          231,
          350,
          225,
          114,
          121,
          137,
          215,
          317,
          179,
          210,
          227,
          236,
          226,
          290,
          240,
          231,
          265,
          180,
          193,
          229,
          138,
          316,
          266,
          231,
          288,
          58,
          459,
          336,
          241,
          190,
          339,
          263,
          258,
          271,
          265,
          362,
          380,
          243,
          197,
          291,
          189,
          483,
          391,
          291,
          225,
          255,
          255,
          298,
          303,
          313,
          270,
          254,
          224,
          490,
          265,
          300,
          286,
          68,
          309,
          226,
          358,
          335,
          288,
          46,
          206,
          346,
          148,
          266,
          311,
          272,
          104,
          263,
          296,
          238,
          227,
          331,
          84,
          237,
          259,
          302,
          224,
          314,
          259,
          96,
          221,
          332,
          366,
          195,
          62,
          242,
          170,
          324,
          368,
          398,
          396,
          276,
          242,
          216,
          359,
          292,
          271,
          416,
          313,
          251,
          269,
          291,
          298,
          415,
          444,
          292,
          317,
          175,
          209,
          335,
          123,
          540,
          312,
          241,
          480,
          385,
          324,
          402,
          512,
          362,
          458,
          141,
          461,
          397,
          487,
          133,
          412,
          318,
          197,
          120,
          143,
          58,
          253,
          174,
          86,
          217,
          333,
          313,
          293,
          271,
          349,
          294,
          303,
          446,
          199,
          348,
          297,
          324,
          334,
          396,
          285,
          215,
          370,
          324,
          335,
          341,
          299,
          328,
          165,
          295,
          371,
          230,
          113,
          203,
          237,
          218,
          212,
          256,
          190,
          260,
          245,
          231,
          270,
          125,
          237,
          235,
          206,
          263,
          367,
          303,
          231,
          245,
          192,
          273,
          271,
          206,
          288,
          225,
          67,
          252,
          362,
          289,
          236,
          299,
          318,
          273,
          227,
          93,
          301,
          293,
          259,
          298,
          284,
          165,
          135,
          274,
          269,
          200,
          160,
          182,
          121,
          208,
          209,
          286,
          196,
          283,
          245,
          158,
          139,
          255,
          228,
          266,
          116,
          116,
          82,
          84,
          126,
          149,
          216,
          285,
          112,
          310,
          400,
          331,
          79,
          101,
          156,
          129
         ],
         "y": [
          327,
          384,
          412,
          340,
          700,
          304,
          360,
          325,
          361,
          430,
          277,
          245,
          366,
          341,
          404,
          369,
          277,
          273,
          247,
          334,
          331,
          594,
          338,
          383,
          285,
          119,
          124,
          796,
          137,
          644,
          722,
          590,
          750,
          398,
          475,
          296,
          166,
          503,
          531,
          545,
          523,
          524,
          437,
          498,
          461,
          477,
          520,
          522,
          555,
          506,
          508,
          513,
          490,
          573,
          527,
          511,
          538,
          468,
          524,
          511,
          541,
          531,
          357,
          523,
          456,
          61,
          467,
          445,
          452,
          556,
          500,
          465,
          460,
          405,
          374,
          442,
          433,
          436,
          448,
          408,
          411,
          274,
          295,
          291,
          424,
          283,
          381,
          412,
          219,
          152,
          332,
          355,
          235,
          310,
          262,
          250,
          349,
          261,
          333,
          237,
          383,
          230,
          292,
          213,
          318,
          323,
          237,
          259,
          312,
          501,
          77,
          322,
          478,
          226,
          385,
          364,
          442,
          535,
          465,
          506,
          515,
          461,
          523,
          59,
          533,
          692,
          467,
          488,
          505,
          286,
          497,
          523,
          490,
          484,
          478,
          474,
          450,
          507,
          602,
          535,
          487,
          529,
          302,
          499,
          426,
          619,
          99,
          329,
          421,
          442,
          82,
          478,
          552,
          319,
          439,
          428,
          409,
          547,
          368,
          390,
          471,
          472,
          529,
          62,
          354,
          469,
          429,
          370,
          441,
          337,
          462,
          98,
          388,
          439,
          436,
          388,
          328,
          353,
          332,
          419,
          106,
          322,
          439,
          502,
          417,
          337,
          462,
          374,
          401,
          361,
          457,
          405,
          499,
          483,
          126,
          103,
          171,
          115,
          123,
          425,
          400,
          384,
          253,
          382,
          591,
          293,
          457,
          454,
          425,
          465,
          480,
          370,
          421,
          432,
          442,
          433,
          479,
          327,
          412,
          414,
          404,
          520,
          435,
          416,
          354,
          404,
          441,
          455,
          357,
          377,
          651,
          350,
          520,
          357,
          658,
          399,
          322,
          631,
          553,
          433,
          412,
          347,
          421,
          450,
          775,
          622,
          409,
          380,
          447,
          419,
          400,
          442,
          568,
          453,
          418,
          463,
          438,
          419,
          432,
          477,
          392,
          406,
          549,
          527,
          449,
          447,
          414,
          338,
          384,
          543,
          421,
          354,
          424,
          361,
          459,
          412,
          379,
          525,
          508,
          603,
          74,
          504,
          431,
          380,
          336,
          493,
          465,
          474,
          508,
          480,
          492,
          353,
          542,
          393,
          600,
          507,
          392,
          658,
          498,
          555,
          492,
          235,
          423,
          391,
          366,
          630,
          508,
          370,
          357,
          427,
          442,
          476,
          418,
          451,
          425,
          528,
          511,
          400,
          441,
          455,
          440,
          433,
          422,
          411,
          466,
          394,
          442,
          467,
          443,
          298,
          541,
          489,
          469,
          452,
          516,
          79,
          58,
          514,
          451,
          472,
          377,
          472,
          492,
          390,
          428,
          681,
          446,
          485,
          469,
          354,
          485,
          388,
          440,
          456,
          420,
          322,
          530,
          481,
          427,
          451,
          444,
          486,
          331,
          74,
          338,
          447,
          424,
          513,
          611,
          525,
          398,
          387,
          381,
          396,
          441,
          565,
          458,
          388,
          550,
          531,
          506,
          527,
          468,
          475,
          351,
          405,
          441,
          381,
          323,
          459,
          545,
          359,
          342,
          368,
          496,
          458,
          531,
          486,
          363,
          528,
          391,
          339,
          423,
          402,
          398,
          343,
          503,
          415,
          516,
          439
         ]
        },
        {
         "mode": "markers",
         "name": "TotalTimeInBed",
         "type": "scatter",
         "x": [
          366,
          257,
          272,
          267,
          222,
          345,
          245,
          238,
          324,
          282,
          303,
          333,
          265,
          271,
          303,
          314,
          333,
          328,
          319,
          319,
          258,
          255,
          263,
          291,
          310,
          120,
          482,
          156,
          295,
          176,
          184,
          82,
          55,
          32,
          51,
          192,
          95,
          192,
          238,
          197,
          188,
          150,
          60,
          141,
          327,
          153,
          162,
          432,
          164,
          260,
          286,
          331,
          352,
          233,
          191,
          355,
          345,
          475,
          383,
          229,
          258,
          401,
          17,
          330,
          343,
          242,
          246,
          255,
          309,
          257,
          233,
          389,
          257,
          242,
          427,
          360,
          303,
          227,
          330,
          229,
          4,
          194,
          230,
          242,
          240,
          267,
          274,
          313,
          307,
          264,
          242,
          233,
          344,
          254,
          192,
          272,
          186,
          213,
          218,
          289,
          205,
          343,
          346,
          252,
          280,
          252,
          294,
          296,
          312,
          350,
          141,
          174,
          405,
          276,
          177,
          263,
          206,
          349,
          228,
          194,
          68,
          311,
          324,
          34,
          196,
          233,
          197,
          398,
          317,
          353,
          380,
          313,
          240,
          67,
          355,
          321,
          331,
          310,
          153,
          390,
          344,
          332,
          2,
          299,
          268,
          201,
          274,
          285,
          289,
          291,
          322,
          278,
          261,
          261,
          300,
          262,
          357,
          268,
          241,
          307,
          250,
          436,
          323,
          283,
          294,
          282,
          196,
          194,
          231,
          350,
          225,
          114,
          121,
          137,
          215,
          317,
          179,
          210,
          227,
          236,
          226,
          290,
          240,
          231,
          265,
          180,
          193,
          229,
          138,
          316,
          266,
          231,
          288,
          58,
          459,
          336,
          241,
          190,
          339,
          263,
          258,
          271,
          265,
          362,
          380,
          243,
          197,
          291,
          189,
          483,
          391,
          291,
          225,
          255,
          255,
          298,
          303,
          313,
          270,
          254,
          224,
          490,
          265,
          300,
          286,
          68,
          309,
          226,
          358,
          335,
          288,
          46,
          206,
          346,
          148,
          266,
          311,
          272,
          104,
          263,
          296,
          238,
          227,
          331,
          84,
          237,
          259,
          302,
          224,
          314,
          259,
          96,
          221,
          332,
          366,
          195,
          62,
          242,
          170,
          324,
          368,
          398,
          396,
          276,
          242,
          216,
          359,
          292,
          271,
          416,
          313,
          251,
          269,
          291,
          298,
          415,
          444,
          292,
          317,
          175,
          209,
          335,
          123,
          540,
          312,
          241,
          480,
          385,
          324,
          402,
          512,
          362,
          458,
          141,
          461,
          397,
          487,
          133,
          412,
          318,
          197,
          120,
          143,
          58,
          253,
          174,
          86,
          217,
          333,
          313,
          293,
          271,
          349,
          294,
          303,
          446,
          199,
          348,
          297,
          324,
          334,
          396,
          285,
          215,
          370,
          324,
          335,
          341,
          299,
          328,
          165,
          295,
          371,
          230,
          113,
          203,
          237,
          218,
          212,
          256,
          190,
          260,
          245,
          231,
          270,
          125,
          237,
          235,
          206,
          263,
          367,
          303,
          231,
          245,
          192,
          273,
          271,
          206,
          288,
          225,
          67,
          252,
          362,
          289,
          236,
          299,
          318,
          273,
          227,
          93,
          301,
          293,
          259,
          298,
          284,
          165,
          135,
          274,
          269,
          200,
          160,
          182,
          121,
          208,
          209,
          286,
          196,
          283,
          245,
          158,
          139,
          255,
          228,
          266,
          116,
          116,
          82,
          84,
          126,
          149,
          216,
          285,
          112,
          310,
          400,
          331,
          79,
          101,
          156,
          129
         ],
         "y": [
          346,
          407,
          442,
          367,
          712,
          320,
          377,
          364,
          384,
          449,
          323,
          274,
          393,
          354,
          425,
          396,
          309,
          296,
          264,
          367,
          349,
          611,
          342,
          403,
          306,
          127,
          142,
          961,
          154,
          961,
          961,
          961,
          775,
          422,
          499,
          315,
          178,
          546,
          565,
          568,
          573,
          567,
          498,
          540,
          510,
          514,
          545,
          554,
          591,
          531,
          545,
          545,
          510,
          607,
          546,
          543,
          560,
          485,
          548,
          521,
          568,
          556,
          380,
          553,
          485,
          69,
          531,
          489,
          504,
          602,
          557,
          514,
          484,
          461,
          386,
          459,
          471,
          490,
          499,
          450,
          473,
          469,
          456,
          397,
          556,
          510,
          566,
          522,
          395,
          305,
          512,
          476,
          372,
          526,
          467,
          371,
          540,
          423,
          478,
          382,
          626,
          384,
          500,
          336,
          480,
          512,
          443,
          456,
          452,
          541,
          77,
          332,
          536,
          248,
          408,
          402,
          494,
          557,
          491,
          522,
          551,
          498,
          543,
          65,
          550,
          722,
          501,
          506,
          516,
          307,
          522,
          546,
          516,
          500,
          506,
          512,
          491,
          530,
          638,
          565,
          517,
          558,
          321,
          526,
          448,
          641,
          104,
          338,
          451,
          458,
          85,
          501,
          595,
          346,
          500,
          458,
          430,
          597,
          376,
          414,
          495,
          496,
          541,
          65,
          375,
          494,
          457,
          406,
          492,
          379,
          499,
          107,
          424,
          462,
          469,
          417,
          345,
          391,
          374,
          442,
          108,
          353,
          459,
          542,
          450,
          363,
          513,
          402,
          436,
          391,
          533,
          426,
          530,
          501,
          137,
          121,
          179,
          129,
          134,
          439,
          430,
          415,
          257,
          406,
          612,
          312,
          487,
          468,
          434,
          475,
          506,
          380,
          429,
          449,
          461,
          447,
          501,
          373,
          434,
          428,
          449,
          543,
          458,
          431,
          366,
          442,
          464,
          488,
          418,
          409,
          686,
          402,
          541,
          410,
          678,
          431,
          353,
          725,
          640,
          468,
          453,
          391,
          457,
          495,
          843,
          686,
          471,
          429,
          470,
          464,
          434,
          470,
          608,
          494,
          443,
          486,
          475,
          438,
          458,
          497,
          413,
          445,
          583,
          553,
          465,
          480,
          437,
          366,
          402,
          615,
          461,
          377,
          452,
          372,
          485,
          433,
          398,
          553,
          543,
          634,
          78,
          562,
          476,
          398,
          350,
          510,
          492,
          502,
          550,
          546,
          539,
          367,
          557,
          416,
          636,
          575,
          415,
          698,
          507,
          603,
          522,
          260,
          441,
          406,
          387,
          679,
          535,
          386,
          366,
          446,
          458,
          535,
          424,
          457,
          435,
          546,
          514,
          415,
          446,
          467,
          453,
          447,
          424,
          426,
          482,
          418,
          455,
          491,
          462,
          334,
          569,
          497,
          481,
          480,
          535,
          82,
          61,
          525,
          465,
          476,
          386,
          483,
          502,
          411,
          448,
          704,
          447,
          500,
          479,
          367,
          489,
          407,
          459,
          461,
          436,
          333,
          548,
          510,
          438,
          463,
          457,
          493,
          337,
          75,
          356,
          487,
          455,
          533,
          689,
          591,
          451,
          421,
          409,
          417,
          469,
          591,
          492,
          402,
          584,
          600,
          556,
          562,
          555,
          539,
          385,
          429,
          477,
          417,
          355,
          513,
          606,
          399,
          391,
          387,
          546,
          493,
          552,
          503,
          377,
          547,
          407,
          360,
          428,
          416,
          406,
          360,
          527,
          423,
          545,
          463
         ]
        }
       ],
       "layout": {
        "template": {
         "data": {
          "bar": [
           {
            "error_x": {
             "color": "#2a3f5f"
            },
            "error_y": {
             "color": "#2a3f5f"
            },
            "marker": {
             "line": {
              "color": "#E5ECF6",
              "width": 0.5
             },
             "pattern": {
              "fillmode": "overlay",
              "size": 10,
              "solidity": 0.2
             }
            },
            "type": "bar"
           }
          ],
          "barpolar": [
           {
            "marker": {
             "line": {
              "color": "#E5ECF6",
              "width": 0.5
             },
             "pattern": {
              "fillmode": "overlay",
              "size": 10,
              "solidity": 0.2
             }
            },
            "type": "barpolar"
           }
          ],
          "carpet": [
           {
            "aaxis": {
             "endlinecolor": "#2a3f5f",
             "gridcolor": "white",
             "linecolor": "white",
             "minorgridcolor": "white",
             "startlinecolor": "#2a3f5f"
            },
            "baxis": {
             "endlinecolor": "#2a3f5f",
             "gridcolor": "white",
             "linecolor": "white",
             "minorgridcolor": "white",
             "startlinecolor": "#2a3f5f"
            },
            "type": "carpet"
           }
          ],
          "choropleth": [
           {
            "colorbar": {
             "outlinewidth": 0,
             "ticks": ""
            },
            "type": "choropleth"
           }
          ],
          "contour": [
           {
            "colorbar": {
             "outlinewidth": 0,
             "ticks": ""
            },
            "colorscale": [
             [
              0,
              "#0d0887"
             ],
             [
              0.1111111111111111,
              "#46039f"
             ],
             [
              0.2222222222222222,
              "#7201a8"
             ],
             [
              0.3333333333333333,
              "#9c179e"
             ],
             [
              0.4444444444444444,
              "#bd3786"
             ],
             [
              0.5555555555555556,
              "#d8576b"
             ],
             [
              0.6666666666666666,
              "#ed7953"
             ],
             [
              0.7777777777777778,
              "#fb9f3a"
             ],
             [
              0.8888888888888888,
              "#fdca26"
             ],
             [
              1,
              "#f0f921"
             ]
            ],
            "type": "contour"
           }
          ],
          "contourcarpet": [
           {
            "colorbar": {
             "outlinewidth": 0,
             "ticks": ""
            },
            "type": "contourcarpet"
           }
          ],
          "heatmap": [
           {
            "colorbar": {
             "outlinewidth": 0,
             "ticks": ""
            },
            "colorscale": [
             [
              0,
              "#0d0887"
             ],
             [
              0.1111111111111111,
              "#46039f"
             ],
             [
              0.2222222222222222,
              "#7201a8"
             ],
             [
              0.3333333333333333,
              "#9c179e"
             ],
             [
              0.4444444444444444,
              "#bd3786"
             ],
             [
              0.5555555555555556,
              "#d8576b"
             ],
             [
              0.6666666666666666,
              "#ed7953"
             ],
             [
              0.7777777777777778,
              "#fb9f3a"
             ],
             [
              0.8888888888888888,
              "#fdca26"
             ],
             [
              1,
              "#f0f921"
             ]
            ],
            "type": "heatmap"
           }
          ],
          "heatmapgl": [
           {
            "colorbar": {
             "outlinewidth": 0,
             "ticks": ""
            },
            "colorscale": [
             [
              0,
              "#0d0887"
             ],
             [
              0.1111111111111111,
              "#46039f"
             ],
             [
              0.2222222222222222,
              "#7201a8"
             ],
             [
              0.3333333333333333,
              "#9c179e"
             ],
             [
              0.4444444444444444,
              "#bd3786"
             ],
             [
              0.5555555555555556,
              "#d8576b"
             ],
             [
              0.6666666666666666,
              "#ed7953"
             ],
             [
              0.7777777777777778,
              "#fb9f3a"
             ],
             [
              0.8888888888888888,
              "#fdca26"
             ],
             [
              1,
              "#f0f921"
             ]
            ],
            "type": "heatmapgl"
           }
          ],
          "histogram": [
           {
            "marker": {
             "pattern": {
              "fillmode": "overlay",
              "size": 10,
              "solidity": 0.2
             }
            },
            "type": "histogram"
           }
          ],
          "histogram2d": [
           {
            "colorbar": {
             "outlinewidth": 0,
             "ticks": ""
            },
            "colorscale": [
             [
              0,
              "#0d0887"
             ],
             [
              0.1111111111111111,
              "#46039f"
             ],
             [
              0.2222222222222222,
              "#7201a8"
             ],
             [
              0.3333333333333333,
              "#9c179e"
             ],
             [
              0.4444444444444444,
              "#bd3786"
             ],
             [
              0.5555555555555556,
              "#d8576b"
             ],
             [
              0.6666666666666666,
              "#ed7953"
             ],
             [
              0.7777777777777778,
              "#fb9f3a"
             ],
             [
              0.8888888888888888,
              "#fdca26"
             ],
             [
              1,
              "#f0f921"
             ]
            ],
            "type": "histogram2d"
           }
          ],
          "histogram2dcontour": [
           {
            "colorbar": {
             "outlinewidth": 0,
             "ticks": ""
            },
            "colorscale": [
             [
              0,
              "#0d0887"
             ],
             [
              0.1111111111111111,
              "#46039f"
             ],
             [
              0.2222222222222222,
              "#7201a8"
             ],
             [
              0.3333333333333333,
              "#9c179e"
             ],
             [
              0.4444444444444444,
              "#bd3786"
             ],
             [
              0.5555555555555556,
              "#d8576b"
             ],
             [
              0.6666666666666666,
              "#ed7953"
             ],
             [
              0.7777777777777778,
              "#fb9f3a"
             ],
             [
              0.8888888888888888,
              "#fdca26"
             ],
             [
              1,
              "#f0f921"
             ]
            ],
            "type": "histogram2dcontour"
           }
          ],
          "mesh3d": [
           {
            "colorbar": {
             "outlinewidth": 0,
             "ticks": ""
            },
            "type": "mesh3d"
           }
          ],
          "parcoords": [
           {
            "line": {
             "colorbar": {
              "outlinewidth": 0,
              "ticks": ""
             }
            },
            "type": "parcoords"
           }
          ],
          "pie": [
           {
            "automargin": true,
            "type": "pie"
           }
          ],
          "scatter": [
           {
            "fillpattern": {
             "fillmode": "overlay",
             "size": 10,
             "solidity": 0.2
            },
            "type": "scatter"
           }
          ],
          "scatter3d": [
           {
            "line": {
             "colorbar": {
              "outlinewidth": 0,
              "ticks": ""
             }
            },
            "marker": {
             "colorbar": {
              "outlinewidth": 0,
              "ticks": ""
             }
            },
            "type": "scatter3d"
           }
          ],
          "scattercarpet": [
           {
            "marker": {
             "colorbar": {
              "outlinewidth": 0,
              "ticks": ""
             }
            },
            "type": "scattercarpet"
           }
          ],
          "scattergeo": [
           {
            "marker": {
             "colorbar": {
              "outlinewidth": 0,
              "ticks": ""
             }
            },
            "type": "scattergeo"
           }
          ],
          "scattergl": [
           {
            "marker": {
             "colorbar": {
              "outlinewidth": 0,
              "ticks": ""
             }
            },
            "type": "scattergl"
           }
          ],
          "scattermapbox": [
           {
            "marker": {
             "colorbar": {
              "outlinewidth": 0,
              "ticks": ""
             }
            },
            "type": "scattermapbox"
           }
          ],
          "scatterpolar": [
           {
            "marker": {
             "colorbar": {
              "outlinewidth": 0,
              "ticks": ""
             }
            },
            "type": "scatterpolar"
           }
          ],
          "scatterpolargl": [
           {
            "marker": {
             "colorbar": {
              "outlinewidth": 0,
              "ticks": ""
             }
            },
            "type": "scatterpolargl"
           }
          ],
          "scatterternary": [
           {
            "marker": {
             "colorbar": {
              "outlinewidth": 0,
              "ticks": ""
             }
            },
            "type": "scatterternary"
           }
          ],
          "surface": [
           {
            "colorbar": {
             "outlinewidth": 0,
             "ticks": ""
            },
            "colorscale": [
             [
              0,
              "#0d0887"
             ],
             [
              0.1111111111111111,
              "#46039f"
             ],
             [
              0.2222222222222222,
              "#7201a8"
             ],
             [
              0.3333333333333333,
              "#9c179e"
             ],
             [
              0.4444444444444444,
              "#bd3786"
             ],
             [
              0.5555555555555556,
              "#d8576b"
             ],
             [
              0.6666666666666666,
              "#ed7953"
             ],
             [
              0.7777777777777778,
              "#fb9f3a"
             ],
             [
              0.8888888888888888,
              "#fdca26"
             ],
             [
              1,
              "#f0f921"
             ]
            ],
            "type": "surface"
           }
          ],
          "table": [
           {
            "cells": {
             "fill": {
              "color": "#EBF0F8"
             },
             "line": {
              "color": "white"
             }
            },
            "header": {
             "fill": {
              "color": "#C8D4E3"
             },
             "line": {
              "color": "white"
             }
            },
            "type": "table"
           }
          ]
         },
         "layout": {
          "annotationdefaults": {
           "arrowcolor": "#2a3f5f",
           "arrowhead": 0,
           "arrowwidth": 1
          },
          "autotypenumbers": "strict",
          "coloraxis": {
           "colorbar": {
            "outlinewidth": 0,
            "ticks": ""
           }
          },
          "colorscale": {
           "diverging": [
            [
             0,
             "#8e0152"
            ],
            [
             0.1,
             "#c51b7d"
            ],
            [
             0.2,
             "#de77ae"
            ],
            [
             0.3,
             "#f1b6da"
            ],
            [
             0.4,
             "#fde0ef"
            ],
            [
             0.5,
             "#f7f7f7"
            ],
            [
             0.6,
             "#e6f5d0"
            ],
            [
             0.7,
             "#b8e186"
            ],
            [
             0.8,
             "#7fbc41"
            ],
            [
             0.9,
             "#4d9221"
            ],
            [
             1,
             "#276419"
            ]
           ],
           "sequential": [
            [
             0,
             "#0d0887"
            ],
            [
             0.1111111111111111,
             "#46039f"
            ],
            [
             0.2222222222222222,
             "#7201a8"
            ],
            [
             0.3333333333333333,
             "#9c179e"
            ],
            [
             0.4444444444444444,
             "#bd3786"
            ],
            [
             0.5555555555555556,
             "#d8576b"
            ],
            [
             0.6666666666666666,
             "#ed7953"
            ],
            [
             0.7777777777777778,
             "#fb9f3a"
            ],
            [
             0.8888888888888888,
             "#fdca26"
            ],
            [
             1,
             "#f0f921"
            ]
           ],
           "sequentialminus": [
            [
             0,
             "#0d0887"
            ],
            [
             0.1111111111111111,
             "#46039f"
            ],
            [
             0.2222222222222222,
             "#7201a8"
            ],
            [
             0.3333333333333333,
             "#9c179e"
            ],
            [
             0.4444444444444444,
             "#bd3786"
            ],
            [
             0.5555555555555556,
             "#d8576b"
            ],
            [
             0.6666666666666666,
             "#ed7953"
            ],
            [
             0.7777777777777778,
             "#fb9f3a"
            ],
            [
             0.8888888888888888,
             "#fdca26"
            ],
            [
             1,
             "#f0f921"
            ]
           ]
          },
          "colorway": [
           "#636efa",
           "#EF553B",
           "#00cc96",
           "#ab63fa",
           "#FFA15A",
           "#19d3f3",
           "#FF6692",
           "#B6E880",
           "#FF97FF",
           "#FECB52"
          ],
          "font": {
           "color": "#2a3f5f"
          },
          "geo": {
           "bgcolor": "white",
           "lakecolor": "white",
           "landcolor": "#E5ECF6",
           "showlakes": true,
           "showland": true,
           "subunitcolor": "white"
          },
          "hoverlabel": {
           "align": "left"
          },
          "hovermode": "closest",
          "mapbox": {
           "style": "light"
          },
          "paper_bgcolor": "white",
          "plot_bgcolor": "#E5ECF6",
          "polar": {
           "angularaxis": {
            "gridcolor": "white",
            "linecolor": "white",
            "ticks": ""
           },
           "bgcolor": "#E5ECF6",
           "radialaxis": {
            "gridcolor": "white",
            "linecolor": "white",
            "ticks": ""
           }
          },
          "scene": {
           "xaxis": {
            "backgroundcolor": "#E5ECF6",
            "gridcolor": "white",
            "gridwidth": 2,
            "linecolor": "white",
            "showbackground": true,
            "ticks": "",
            "zerolinecolor": "white"
           },
           "yaxis": {
            "backgroundcolor": "#E5ECF6",
            "gridcolor": "white",
            "gridwidth": 2,
            "linecolor": "white",
            "showbackground": true,
            "ticks": "",
            "zerolinecolor": "white"
           },
           "zaxis": {
            "backgroundcolor": "#E5ECF6",
            "gridcolor": "white",
            "gridwidth": 2,
            "linecolor": "white",
            "showbackground": true,
            "ticks": "",
            "zerolinecolor": "white"
           }
          },
          "shapedefaults": {
           "line": {
            "color": "#2a3f5f"
           }
          },
          "ternary": {
           "aaxis": {
            "gridcolor": "white",
            "linecolor": "white",
            "ticks": ""
           },
           "baxis": {
            "gridcolor": "white",
            "linecolor": "white",
            "ticks": ""
           },
           "bgcolor": "#E5ECF6",
           "caxis": {
            "gridcolor": "white",
            "linecolor": "white",
            "ticks": ""
           }
          },
          "title": {
           "x": 0.05
          },
          "xaxis": {
           "automargin": true,
           "gridcolor": "white",
           "linecolor": "white",
           "ticks": "",
           "title": {
            "standoff": 15
           },
           "zerolinecolor": "white",
           "zerolinewidth": 2
          },
          "yaxis": {
           "automargin": true,
           "gridcolor": "white",
           "linecolor": "white",
           "ticks": "",
           "title": {
            "standoff": 15
           },
           "zerolinecolor": "white",
           "zerolinewidth": 2
          }
         }
        },
        "title": {
         "text": "Relationship between TotalActivityMins and sleep time"
        },
        "xaxis": {
         "title": {
          "text": "TotalActivityMins"
         }
        },
        "yaxis": {
         "title": {
          "text": "Sleep Time"
         }
        }
       }
      }
     },
     "metadata": {},
     "output_type": "display_data"
    }
   ],
   "source": [
    "#Relationship between TotalActivityMins and sleep time\n",
    "fig = go.Figure()\n",
    "fig.add_trace(go.Scatter(x=df_sleep_activity['TotalActivityMins'], y=df_sleep_activity['TotalMinutesAsleep'], mode='markers', name='TotalMinutesAsleep'))\n",
    "fig.add_trace(go.Scatter(x=df_sleep_activity['TotalActivityMins'], y=df_sleep_activity['TotalTimeInBed'], mode='markers', name='TotalTimeInBed'))\n",
    "fig.update_layout(title='Relationship between TotalActivityMins and sleep time', xaxis_title='TotalActivityMins', yaxis_title='Sleep Time')\n",
    "fig.show()"
   ]
  },
  {
   "cell_type": "code",
   "execution_count": 28,
   "metadata": {},
   "outputs": [
    {
     "data": {
      "application/vnd.plotly.v1+json": {
       "config": {
        "plotlyServerURL": "https://plot.ly"
       },
       "data": [
        {
         "mode": "markers",
         "name": "TotalMinutesAsleep",
         "type": "scatter",
         "x": [
          728,
          776,
          726,
          773,
          539,
          775,
          818,
          838,
          732,
          709,
          814,
          833,
          782,
          815,
          712,
          730,
          798,
          816,
          857,
          754,
          833,
          574,
          835,
          746,
          669,
          1193,
          816,
          682,
          991,
          527,
          218,
          585,
          734,
          986,
          941,
          1058,
          1167,
          706,
          663,
          653,
          687,
          728,
          1053,
          785,
          623,
          749,
          712,
          458,
          704,
          821,
          586,
          626,
          492,
          594,
          716,
          716,
          530,
          479,
          511,
          665,
          610,
          543,
          1002,
          569,
          330,
          1129,
          676,
          705,
          720,
          508,
          678,
          648,
          761,
          781,
          591,
          584,
          653,
          732,
          623,
          764,
          2,
          777,
          754,
          801,
          644,
          663,
          600,
          605,
          738,
          845,
          712,
          731,
          724,
          660,
          781,
          797,
          714,
          804,
          744,
          687,
          691,
          713,
          594,
          852,
          680,
          676,
          703,
          688,
          676,
          712,
          1222,
          950,
          531,
          916,
          855,
          775,
          774,
          589,
          752,
          724,
          824,
          604,
          671,
          1265,
          709,
          546,
          692,
          544,
          649,
          680,
          552,
          624,
          695,
          836,
          585,
          669,
          692,
          586,
          603,
          490,
          555,
          574,
          0,
          837,
          609,
          721,
          1017,
          704,
          696,
          853,
          945,
          749,
          584,
          673,
          684,
          878,
          537,
          579,
          935,
          632,
          896,
          508,
          576,
          1020,
          648,
          858,
          787,
          840,
          717,
          711,
          716,
          1219,
          895,
          841,
          756,
          706,
          916,
          839,
          839,
          762,
          1106,
          797,
          741,
          667,
          725,
          897,
          734,
          809,
          866,
          733,
          641,
          783,
          622,
          380,
          844,
          1062,
          1096,
          1121,
          1019,
          718,
          777,
          772,
          944,
          556,
          437,
          890,
          757,
          717,
          901,
          469,
          542,
          730,
          765,
          733,
          738,
          692,
          728,
          729,
          757,
          745,
          682,
          577,
          746,
          701,
          784,
          241,
          767,
          647,
          693,
          689,
          521,
          943,
          622,
          756,
          598,
          801,
          781,
          443,
          582,
          732,
          750,
          745,
          727,
          709,
          506,
          436,
          724,
          812,
          651,
          692,
          761,
          902,
          505,
          667,
          707,
          628,
          222,
          728,
          776,
          662,
          695,
          472,
          525,
          623,
          733,
          773,
          670,
          823,
          627,
          425,
          743,
          759,
          773,
          692,
          739,
          621,
          499,
          732,
          580,
          631,
          1153,
          639,
          257,
          502,
          702,
          759,
          425,
          587,
          579,
          413,
          468,
          711,
          417,
          758,
          479,
          525,
          479,
          673,
          456,
          517,
          125,
          1053,
          863,
          976,
          796,
          548,
          862,
          837,
          741,
          634,
          689,
          659,
          639,
          708,
          659,
          484,
          720,
          637,
          680,
          697,
          621,
          645,
          731,
          722,
          655,
          654,
          683,
          591,
          717,
          745,
          709,
          607,
          626,
          709,
          127,
          1155,
          1142,
          745,
          744,
          787,
          864,
          671,
          797,
          758,
          762,
          566,
          706,
          726,
          829,
          810,
          584,
          685,
          737,
          761,
          843,
          834,
          621,
          695,
          743,
          757,
          343,
          695,
          741,
          1076,
          723,
          680,
          699,
          729,
          563,
          599,
          720,
          737,
          763,
          677,
          769,
          740,
          734,
          692,
          593,
          676,
          711,
          767,
          780,
          669,
          802,
          822,
          680,
          764,
          831,
          851,
          621,
          772,
          840,
          763,
          433,
          831,
          806,
          853,
          937,
          744,
          817,
          795,
          900,
          714,
          634,
          749,
          834,
          916,
          739,
          848
         ],
         "y": [
          327,
          384,
          412,
          340,
          700,
          304,
          360,
          325,
          361,
          430,
          277,
          245,
          366,
          341,
          404,
          369,
          277,
          273,
          247,
          334,
          331,
          594,
          338,
          383,
          285,
          119,
          124,
          796,
          137,
          644,
          722,
          590,
          750,
          398,
          475,
          296,
          166,
          503,
          531,
          545,
          523,
          524,
          437,
          498,
          461,
          477,
          520,
          522,
          555,
          506,
          508,
          513,
          490,
          573,
          527,
          511,
          538,
          468,
          524,
          511,
          541,
          531,
          357,
          523,
          456,
          61,
          467,
          445,
          452,
          556,
          500,
          465,
          460,
          405,
          374,
          442,
          433,
          436,
          448,
          408,
          411,
          274,
          295,
          291,
          424,
          283,
          381,
          412,
          219,
          152,
          332,
          355,
          235,
          310,
          262,
          250,
          349,
          261,
          333,
          237,
          383,
          230,
          292,
          213,
          318,
          323,
          237,
          259,
          312,
          501,
          77,
          322,
          478,
          226,
          385,
          364,
          442,
          535,
          465,
          506,
          515,
          461,
          523,
          59,
          533,
          692,
          467,
          488,
          505,
          286,
          497,
          523,
          490,
          484,
          478,
          474,
          450,
          507,
          602,
          535,
          487,
          529,
          302,
          499,
          426,
          619,
          99,
          329,
          421,
          442,
          82,
          478,
          552,
          319,
          439,
          428,
          409,
          547,
          368,
          390,
          471,
          472,
          529,
          62,
          354,
          469,
          429,
          370,
          441,
          337,
          462,
          98,
          388,
          439,
          436,
          388,
          328,
          353,
          332,
          419,
          106,
          322,
          439,
          502,
          417,
          337,
          462,
          374,
          401,
          361,
          457,
          405,
          499,
          483,
          126,
          103,
          171,
          115,
          123,
          425,
          400,
          384,
          253,
          382,
          591,
          293,
          457,
          454,
          425,
          465,
          480,
          370,
          421,
          432,
          442,
          433,
          479,
          327,
          412,
          414,
          404,
          520,
          435,
          416,
          354,
          404,
          441,
          455,
          357,
          377,
          651,
          350,
          520,
          357,
          658,
          399,
          322,
          631,
          553,
          433,
          412,
          347,
          421,
          450,
          775,
          622,
          409,
          380,
          447,
          419,
          400,
          442,
          568,
          453,
          418,
          463,
          438,
          419,
          432,
          477,
          392,
          406,
          549,
          527,
          449,
          447,
          414,
          338,
          384,
          543,
          421,
          354,
          424,
          361,
          459,
          412,
          379,
          525,
          508,
          603,
          74,
          504,
          431,
          380,
          336,
          493,
          465,
          474,
          508,
          480,
          492,
          353,
          542,
          393,
          600,
          507,
          392,
          658,
          498,
          555,
          492,
          235,
          423,
          391,
          366,
          630,
          508,
          370,
          357,
          427,
          442,
          476,
          418,
          451,
          425,
          528,
          511,
          400,
          441,
          455,
          440,
          433,
          422,
          411,
          466,
          394,
          442,
          467,
          443,
          298,
          541,
          489,
          469,
          452,
          516,
          79,
          58,
          514,
          451,
          472,
          377,
          472,
          492,
          390,
          428,
          681,
          446,
          485,
          469,
          354,
          485,
          388,
          440,
          456,
          420,
          322,
          530,
          481,
          427,
          451,
          444,
          486,
          331,
          74,
          338,
          447,
          424,
          513,
          611,
          525,
          398,
          387,
          381,
          396,
          441,
          565,
          458,
          388,
          550,
          531,
          506,
          527,
          468,
          475,
          351,
          405,
          441,
          381,
          323,
          459,
          545,
          359,
          342,
          368,
          496,
          458,
          531,
          486,
          363,
          528,
          391,
          339,
          423,
          402,
          398,
          343,
          503,
          415,
          516,
          439
         ]
        },
        {
         "mode": "markers",
         "name": "TotalTimeInBed",
         "type": "scatter",
         "x": [
          728,
          776,
          726,
          773,
          539,
          775,
          818,
          838,
          732,
          709,
          814,
          833,
          782,
          815,
          712,
          730,
          798,
          816,
          857,
          754,
          833,
          574,
          835,
          746,
          669,
          1193,
          816,
          682,
          991,
          527,
          218,
          585,
          734,
          986,
          941,
          1058,
          1167,
          706,
          663,
          653,
          687,
          728,
          1053,
          785,
          623,
          749,
          712,
          458,
          704,
          821,
          586,
          626,
          492,
          594,
          716,
          716,
          530,
          479,
          511,
          665,
          610,
          543,
          1002,
          569,
          330,
          1129,
          676,
          705,
          720,
          508,
          678,
          648,
          761,
          781,
          591,
          584,
          653,
          732,
          623,
          764,
          2,
          777,
          754,
          801,
          644,
          663,
          600,
          605,
          738,
          845,
          712,
          731,
          724,
          660,
          781,
          797,
          714,
          804,
          744,
          687,
          691,
          713,
          594,
          852,
          680,
          676,
          703,
          688,
          676,
          712,
          1222,
          950,
          531,
          916,
          855,
          775,
          774,
          589,
          752,
          724,
          824,
          604,
          671,
          1265,
          709,
          546,
          692,
          544,
          649,
          680,
          552,
          624,
          695,
          836,
          585,
          669,
          692,
          586,
          603,
          490,
          555,
          574,
          0,
          837,
          609,
          721,
          1017,
          704,
          696,
          853,
          945,
          749,
          584,
          673,
          684,
          878,
          537,
          579,
          935,
          632,
          896,
          508,
          576,
          1020,
          648,
          858,
          787,
          840,
          717,
          711,
          716,
          1219,
          895,
          841,
          756,
          706,
          916,
          839,
          839,
          762,
          1106,
          797,
          741,
          667,
          725,
          897,
          734,
          809,
          866,
          733,
          641,
          783,
          622,
          380,
          844,
          1062,
          1096,
          1121,
          1019,
          718,
          777,
          772,
          944,
          556,
          437,
          890,
          757,
          717,
          901,
          469,
          542,
          730,
          765,
          733,
          738,
          692,
          728,
          729,
          757,
          745,
          682,
          577,
          746,
          701,
          784,
          241,
          767,
          647,
          693,
          689,
          521,
          943,
          622,
          756,
          598,
          801,
          781,
          443,
          582,
          732,
          750,
          745,
          727,
          709,
          506,
          436,
          724,
          812,
          651,
          692,
          761,
          902,
          505,
          667,
          707,
          628,
          222,
          728,
          776,
          662,
          695,
          472,
          525,
          623,
          733,
          773,
          670,
          823,
          627,
          425,
          743,
          759,
          773,
          692,
          739,
          621,
          499,
          732,
          580,
          631,
          1153,
          639,
          257,
          502,
          702,
          759,
          425,
          587,
          579,
          413,
          468,
          711,
          417,
          758,
          479,
          525,
          479,
          673,
          456,
          517,
          125,
          1053,
          863,
          976,
          796,
          548,
          862,
          837,
          741,
          634,
          689,
          659,
          639,
          708,
          659,
          484,
          720,
          637,
          680,
          697,
          621,
          645,
          731,
          722,
          655,
          654,
          683,
          591,
          717,
          745,
          709,
          607,
          626,
          709,
          127,
          1155,
          1142,
          745,
          744,
          787,
          864,
          671,
          797,
          758,
          762,
          566,
          706,
          726,
          829,
          810,
          584,
          685,
          737,
          761,
          843,
          834,
          621,
          695,
          743,
          757,
          343,
          695,
          741,
          1076,
          723,
          680,
          699,
          729,
          563,
          599,
          720,
          737,
          763,
          677,
          769,
          740,
          734,
          692,
          593,
          676,
          711,
          767,
          780,
          669,
          802,
          822,
          680,
          764,
          831,
          851,
          621,
          772,
          840,
          763,
          433,
          831,
          806,
          853,
          937,
          744,
          817,
          795,
          900,
          714,
          634,
          749,
          834,
          916,
          739,
          848
         ],
         "y": [
          346,
          407,
          442,
          367,
          712,
          320,
          377,
          364,
          384,
          449,
          323,
          274,
          393,
          354,
          425,
          396,
          309,
          296,
          264,
          367,
          349,
          611,
          342,
          403,
          306,
          127,
          142,
          961,
          154,
          961,
          961,
          961,
          775,
          422,
          499,
          315,
          178,
          546,
          565,
          568,
          573,
          567,
          498,
          540,
          510,
          514,
          545,
          554,
          591,
          531,
          545,
          545,
          510,
          607,
          546,
          543,
          560,
          485,
          548,
          521,
          568,
          556,
          380,
          553,
          485,
          69,
          531,
          489,
          504,
          602,
          557,
          514,
          484,
          461,
          386,
          459,
          471,
          490,
          499,
          450,
          473,
          469,
          456,
          397,
          556,
          510,
          566,
          522,
          395,
          305,
          512,
          476,
          372,
          526,
          467,
          371,
          540,
          423,
          478,
          382,
          626,
          384,
          500,
          336,
          480,
          512,
          443,
          456,
          452,
          541,
          77,
          332,
          536,
          248,
          408,
          402,
          494,
          557,
          491,
          522,
          551,
          498,
          543,
          65,
          550,
          722,
          501,
          506,
          516,
          307,
          522,
          546,
          516,
          500,
          506,
          512,
          491,
          530,
          638,
          565,
          517,
          558,
          321,
          526,
          448,
          641,
          104,
          338,
          451,
          458,
          85,
          501,
          595,
          346,
          500,
          458,
          430,
          597,
          376,
          414,
          495,
          496,
          541,
          65,
          375,
          494,
          457,
          406,
          492,
          379,
          499,
          107,
          424,
          462,
          469,
          417,
          345,
          391,
          374,
          442,
          108,
          353,
          459,
          542,
          450,
          363,
          513,
          402,
          436,
          391,
          533,
          426,
          530,
          501,
          137,
          121,
          179,
          129,
          134,
          439,
          430,
          415,
          257,
          406,
          612,
          312,
          487,
          468,
          434,
          475,
          506,
          380,
          429,
          449,
          461,
          447,
          501,
          373,
          434,
          428,
          449,
          543,
          458,
          431,
          366,
          442,
          464,
          488,
          418,
          409,
          686,
          402,
          541,
          410,
          678,
          431,
          353,
          725,
          640,
          468,
          453,
          391,
          457,
          495,
          843,
          686,
          471,
          429,
          470,
          464,
          434,
          470,
          608,
          494,
          443,
          486,
          475,
          438,
          458,
          497,
          413,
          445,
          583,
          553,
          465,
          480,
          437,
          366,
          402,
          615,
          461,
          377,
          452,
          372,
          485,
          433,
          398,
          553,
          543,
          634,
          78,
          562,
          476,
          398,
          350,
          510,
          492,
          502,
          550,
          546,
          539,
          367,
          557,
          416,
          636,
          575,
          415,
          698,
          507,
          603,
          522,
          260,
          441,
          406,
          387,
          679,
          535,
          386,
          366,
          446,
          458,
          535,
          424,
          457,
          435,
          546,
          514,
          415,
          446,
          467,
          453,
          447,
          424,
          426,
          482,
          418,
          455,
          491,
          462,
          334,
          569,
          497,
          481,
          480,
          535,
          82,
          61,
          525,
          465,
          476,
          386,
          483,
          502,
          411,
          448,
          704,
          447,
          500,
          479,
          367,
          489,
          407,
          459,
          461,
          436,
          333,
          548,
          510,
          438,
          463,
          457,
          493,
          337,
          75,
          356,
          487,
          455,
          533,
          689,
          591,
          451,
          421,
          409,
          417,
          469,
          591,
          492,
          402,
          584,
          600,
          556,
          562,
          555,
          539,
          385,
          429,
          477,
          417,
          355,
          513,
          606,
          399,
          391,
          387,
          546,
          493,
          552,
          503,
          377,
          547,
          407,
          360,
          428,
          416,
          406,
          360,
          527,
          423,
          545,
          463
         ]
        }
       ],
       "layout": {
        "template": {
         "data": {
          "bar": [
           {
            "error_x": {
             "color": "#2a3f5f"
            },
            "error_y": {
             "color": "#2a3f5f"
            },
            "marker": {
             "line": {
              "color": "#E5ECF6",
              "width": 0.5
             },
             "pattern": {
              "fillmode": "overlay",
              "size": 10,
              "solidity": 0.2
             }
            },
            "type": "bar"
           }
          ],
          "barpolar": [
           {
            "marker": {
             "line": {
              "color": "#E5ECF6",
              "width": 0.5
             },
             "pattern": {
              "fillmode": "overlay",
              "size": 10,
              "solidity": 0.2
             }
            },
            "type": "barpolar"
           }
          ],
          "carpet": [
           {
            "aaxis": {
             "endlinecolor": "#2a3f5f",
             "gridcolor": "white",
             "linecolor": "white",
             "minorgridcolor": "white",
             "startlinecolor": "#2a3f5f"
            },
            "baxis": {
             "endlinecolor": "#2a3f5f",
             "gridcolor": "white",
             "linecolor": "white",
             "minorgridcolor": "white",
             "startlinecolor": "#2a3f5f"
            },
            "type": "carpet"
           }
          ],
          "choropleth": [
           {
            "colorbar": {
             "outlinewidth": 0,
             "ticks": ""
            },
            "type": "choropleth"
           }
          ],
          "contour": [
           {
            "colorbar": {
             "outlinewidth": 0,
             "ticks": ""
            },
            "colorscale": [
             [
              0,
              "#0d0887"
             ],
             [
              0.1111111111111111,
              "#46039f"
             ],
             [
              0.2222222222222222,
              "#7201a8"
             ],
             [
              0.3333333333333333,
              "#9c179e"
             ],
             [
              0.4444444444444444,
              "#bd3786"
             ],
             [
              0.5555555555555556,
              "#d8576b"
             ],
             [
              0.6666666666666666,
              "#ed7953"
             ],
             [
              0.7777777777777778,
              "#fb9f3a"
             ],
             [
              0.8888888888888888,
              "#fdca26"
             ],
             [
              1,
              "#f0f921"
             ]
            ],
            "type": "contour"
           }
          ],
          "contourcarpet": [
           {
            "colorbar": {
             "outlinewidth": 0,
             "ticks": ""
            },
            "type": "contourcarpet"
           }
          ],
          "heatmap": [
           {
            "colorbar": {
             "outlinewidth": 0,
             "ticks": ""
            },
            "colorscale": [
             [
              0,
              "#0d0887"
             ],
             [
              0.1111111111111111,
              "#46039f"
             ],
             [
              0.2222222222222222,
              "#7201a8"
             ],
             [
              0.3333333333333333,
              "#9c179e"
             ],
             [
              0.4444444444444444,
              "#bd3786"
             ],
             [
              0.5555555555555556,
              "#d8576b"
             ],
             [
              0.6666666666666666,
              "#ed7953"
             ],
             [
              0.7777777777777778,
              "#fb9f3a"
             ],
             [
              0.8888888888888888,
              "#fdca26"
             ],
             [
              1,
              "#f0f921"
             ]
            ],
            "type": "heatmap"
           }
          ],
          "heatmapgl": [
           {
            "colorbar": {
             "outlinewidth": 0,
             "ticks": ""
            },
            "colorscale": [
             [
              0,
              "#0d0887"
             ],
             [
              0.1111111111111111,
              "#46039f"
             ],
             [
              0.2222222222222222,
              "#7201a8"
             ],
             [
              0.3333333333333333,
              "#9c179e"
             ],
             [
              0.4444444444444444,
              "#bd3786"
             ],
             [
              0.5555555555555556,
              "#d8576b"
             ],
             [
              0.6666666666666666,
              "#ed7953"
             ],
             [
              0.7777777777777778,
              "#fb9f3a"
             ],
             [
              0.8888888888888888,
              "#fdca26"
             ],
             [
              1,
              "#f0f921"
             ]
            ],
            "type": "heatmapgl"
           }
          ],
          "histogram": [
           {
            "marker": {
             "pattern": {
              "fillmode": "overlay",
              "size": 10,
              "solidity": 0.2
             }
            },
            "type": "histogram"
           }
          ],
          "histogram2d": [
           {
            "colorbar": {
             "outlinewidth": 0,
             "ticks": ""
            },
            "colorscale": [
             [
              0,
              "#0d0887"
             ],
             [
              0.1111111111111111,
              "#46039f"
             ],
             [
              0.2222222222222222,
              "#7201a8"
             ],
             [
              0.3333333333333333,
              "#9c179e"
             ],
             [
              0.4444444444444444,
              "#bd3786"
             ],
             [
              0.5555555555555556,
              "#d8576b"
             ],
             [
              0.6666666666666666,
              "#ed7953"
             ],
             [
              0.7777777777777778,
              "#fb9f3a"
             ],
             [
              0.8888888888888888,
              "#fdca26"
             ],
             [
              1,
              "#f0f921"
             ]
            ],
            "type": "histogram2d"
           }
          ],
          "histogram2dcontour": [
           {
            "colorbar": {
             "outlinewidth": 0,
             "ticks": ""
            },
            "colorscale": [
             [
              0,
              "#0d0887"
             ],
             [
              0.1111111111111111,
              "#46039f"
             ],
             [
              0.2222222222222222,
              "#7201a8"
             ],
             [
              0.3333333333333333,
              "#9c179e"
             ],
             [
              0.4444444444444444,
              "#bd3786"
             ],
             [
              0.5555555555555556,
              "#d8576b"
             ],
             [
              0.6666666666666666,
              "#ed7953"
             ],
             [
              0.7777777777777778,
              "#fb9f3a"
             ],
             [
              0.8888888888888888,
              "#fdca26"
             ],
             [
              1,
              "#f0f921"
             ]
            ],
            "type": "histogram2dcontour"
           }
          ],
          "mesh3d": [
           {
            "colorbar": {
             "outlinewidth": 0,
             "ticks": ""
            },
            "type": "mesh3d"
           }
          ],
          "parcoords": [
           {
            "line": {
             "colorbar": {
              "outlinewidth": 0,
              "ticks": ""
             }
            },
            "type": "parcoords"
           }
          ],
          "pie": [
           {
            "automargin": true,
            "type": "pie"
           }
          ],
          "scatter": [
           {
            "fillpattern": {
             "fillmode": "overlay",
             "size": 10,
             "solidity": 0.2
            },
            "type": "scatter"
           }
          ],
          "scatter3d": [
           {
            "line": {
             "colorbar": {
              "outlinewidth": 0,
              "ticks": ""
             }
            },
            "marker": {
             "colorbar": {
              "outlinewidth": 0,
              "ticks": ""
             }
            },
            "type": "scatter3d"
           }
          ],
          "scattercarpet": [
           {
            "marker": {
             "colorbar": {
              "outlinewidth": 0,
              "ticks": ""
             }
            },
            "type": "scattercarpet"
           }
          ],
          "scattergeo": [
           {
            "marker": {
             "colorbar": {
              "outlinewidth": 0,
              "ticks": ""
             }
            },
            "type": "scattergeo"
           }
          ],
          "scattergl": [
           {
            "marker": {
             "colorbar": {
              "outlinewidth": 0,
              "ticks": ""
             }
            },
            "type": "scattergl"
           }
          ],
          "scattermapbox": [
           {
            "marker": {
             "colorbar": {
              "outlinewidth": 0,
              "ticks": ""
             }
            },
            "type": "scattermapbox"
           }
          ],
          "scatterpolar": [
           {
            "marker": {
             "colorbar": {
              "outlinewidth": 0,
              "ticks": ""
             }
            },
            "type": "scatterpolar"
           }
          ],
          "scatterpolargl": [
           {
            "marker": {
             "colorbar": {
              "outlinewidth": 0,
              "ticks": ""
             }
            },
            "type": "scatterpolargl"
           }
          ],
          "scatterternary": [
           {
            "marker": {
             "colorbar": {
              "outlinewidth": 0,
              "ticks": ""
             }
            },
            "type": "scatterternary"
           }
          ],
          "surface": [
           {
            "colorbar": {
             "outlinewidth": 0,
             "ticks": ""
            },
            "colorscale": [
             [
              0,
              "#0d0887"
             ],
             [
              0.1111111111111111,
              "#46039f"
             ],
             [
              0.2222222222222222,
              "#7201a8"
             ],
             [
              0.3333333333333333,
              "#9c179e"
             ],
             [
              0.4444444444444444,
              "#bd3786"
             ],
             [
              0.5555555555555556,
              "#d8576b"
             ],
             [
              0.6666666666666666,
              "#ed7953"
             ],
             [
              0.7777777777777778,
              "#fb9f3a"
             ],
             [
              0.8888888888888888,
              "#fdca26"
             ],
             [
              1,
              "#f0f921"
             ]
            ],
            "type": "surface"
           }
          ],
          "table": [
           {
            "cells": {
             "fill": {
              "color": "#EBF0F8"
             },
             "line": {
              "color": "white"
             }
            },
            "header": {
             "fill": {
              "color": "#C8D4E3"
             },
             "line": {
              "color": "white"
             }
            },
            "type": "table"
           }
          ]
         },
         "layout": {
          "annotationdefaults": {
           "arrowcolor": "#2a3f5f",
           "arrowhead": 0,
           "arrowwidth": 1
          },
          "autotypenumbers": "strict",
          "coloraxis": {
           "colorbar": {
            "outlinewidth": 0,
            "ticks": ""
           }
          },
          "colorscale": {
           "diverging": [
            [
             0,
             "#8e0152"
            ],
            [
             0.1,
             "#c51b7d"
            ],
            [
             0.2,
             "#de77ae"
            ],
            [
             0.3,
             "#f1b6da"
            ],
            [
             0.4,
             "#fde0ef"
            ],
            [
             0.5,
             "#f7f7f7"
            ],
            [
             0.6,
             "#e6f5d0"
            ],
            [
             0.7,
             "#b8e186"
            ],
            [
             0.8,
             "#7fbc41"
            ],
            [
             0.9,
             "#4d9221"
            ],
            [
             1,
             "#276419"
            ]
           ],
           "sequential": [
            [
             0,
             "#0d0887"
            ],
            [
             0.1111111111111111,
             "#46039f"
            ],
            [
             0.2222222222222222,
             "#7201a8"
            ],
            [
             0.3333333333333333,
             "#9c179e"
            ],
            [
             0.4444444444444444,
             "#bd3786"
            ],
            [
             0.5555555555555556,
             "#d8576b"
            ],
            [
             0.6666666666666666,
             "#ed7953"
            ],
            [
             0.7777777777777778,
             "#fb9f3a"
            ],
            [
             0.8888888888888888,
             "#fdca26"
            ],
            [
             1,
             "#f0f921"
            ]
           ],
           "sequentialminus": [
            [
             0,
             "#0d0887"
            ],
            [
             0.1111111111111111,
             "#46039f"
            ],
            [
             0.2222222222222222,
             "#7201a8"
            ],
            [
             0.3333333333333333,
             "#9c179e"
            ],
            [
             0.4444444444444444,
             "#bd3786"
            ],
            [
             0.5555555555555556,
             "#d8576b"
            ],
            [
             0.6666666666666666,
             "#ed7953"
            ],
            [
             0.7777777777777778,
             "#fb9f3a"
            ],
            [
             0.8888888888888888,
             "#fdca26"
            ],
            [
             1,
             "#f0f921"
            ]
           ]
          },
          "colorway": [
           "#636efa",
           "#EF553B",
           "#00cc96",
           "#ab63fa",
           "#FFA15A",
           "#19d3f3",
           "#FF6692",
           "#B6E880",
           "#FF97FF",
           "#FECB52"
          ],
          "font": {
           "color": "#2a3f5f"
          },
          "geo": {
           "bgcolor": "white",
           "lakecolor": "white",
           "landcolor": "#E5ECF6",
           "showlakes": true,
           "showland": true,
           "subunitcolor": "white"
          },
          "hoverlabel": {
           "align": "left"
          },
          "hovermode": "closest",
          "mapbox": {
           "style": "light"
          },
          "paper_bgcolor": "white",
          "plot_bgcolor": "#E5ECF6",
          "polar": {
           "angularaxis": {
            "gridcolor": "white",
            "linecolor": "white",
            "ticks": ""
           },
           "bgcolor": "#E5ECF6",
           "radialaxis": {
            "gridcolor": "white",
            "linecolor": "white",
            "ticks": ""
           }
          },
          "scene": {
           "xaxis": {
            "backgroundcolor": "#E5ECF6",
            "gridcolor": "white",
            "gridwidth": 2,
            "linecolor": "white",
            "showbackground": true,
            "ticks": "",
            "zerolinecolor": "white"
           },
           "yaxis": {
            "backgroundcolor": "#E5ECF6",
            "gridcolor": "white",
            "gridwidth": 2,
            "linecolor": "white",
            "showbackground": true,
            "ticks": "",
            "zerolinecolor": "white"
           },
           "zaxis": {
            "backgroundcolor": "#E5ECF6",
            "gridcolor": "white",
            "gridwidth": 2,
            "linecolor": "white",
            "showbackground": true,
            "ticks": "",
            "zerolinecolor": "white"
           }
          },
          "shapedefaults": {
           "line": {
            "color": "#2a3f5f"
           }
          },
          "ternary": {
           "aaxis": {
            "gridcolor": "white",
            "linecolor": "white",
            "ticks": ""
           },
           "baxis": {
            "gridcolor": "white",
            "linecolor": "white",
            "ticks": ""
           },
           "bgcolor": "#E5ECF6",
           "caxis": {
            "gridcolor": "white",
            "linecolor": "white",
            "ticks": ""
           }
          },
          "title": {
           "x": 0.05
          },
          "xaxis": {
           "automargin": true,
           "gridcolor": "white",
           "linecolor": "white",
           "ticks": "",
           "title": {
            "standoff": 15
           },
           "zerolinecolor": "white",
           "zerolinewidth": 2
          },
          "yaxis": {
           "automargin": true,
           "gridcolor": "white",
           "linecolor": "white",
           "ticks": "",
           "title": {
            "standoff": 15
           },
           "zerolinecolor": "white",
           "zerolinewidth": 2
          }
         }
        },
        "title": {
         "text": "Relationship between sedantary minutes and sleep time"
        },
        "xaxis": {
         "title": {
          "text": "SedantaryMinutes"
         }
        },
        "yaxis": {
         "title": {
          "text": "SleepTime"
         }
        }
       }
      }
     },
     "metadata": {},
     "output_type": "display_data"
    }
   ],
   "source": [
    "#Relationship between sedantary minutes and sleep time\n",
    "fig = go.Figure()\n",
    "fig.add_trace(go.Scatter(x=df_sleep_activity['SedentaryMinutes'], y=df_sleep_activity['TotalMinutesAsleep'], mode='markers', name='TotalMinutesAsleep'))\n",
    "fig.add_trace(go.Scatter(x=df_sleep_activity['SedentaryMinutes'], y=df_sleep_activity['TotalTimeInBed'], mode='markers', name='TotalTimeInBed'))\n",
    "fig.update_layout(title='Relationship between sedantary minutes and sleep time', xaxis_title='SedantaryMinutes', yaxis_title='SleepTime')\n",
    "fig.show()\n"
   ]
  },
  {
   "attachments": {},
   "cell_type": "markdown",
   "metadata": {},
   "source": [
    "We can see the negative relationship between Sedantary Minutes and Sleep Time. The correlation between TotalMinutesAsleep and Sedantary minutes is -0.65.\n",
    "Could this mean that Users with more sedantary minutes spend less time asleep ( hence poor sleep quality)?\n"
   ]
  },
  {
   "cell_type": "code",
   "execution_count": 29,
   "metadata": {},
   "outputs": [
    {
     "data": {
      "text/plain": [
       "(67, 10)"
      ]
     },
     "execution_count": 29,
     "metadata": {},
     "output_type": "execute_result"
    }
   ],
   "source": [
    "df_weight.shape"
   ]
  },
  {
   "cell_type": "code",
   "execution_count": 30,
   "metadata": {},
   "outputs": [
    {
     "data": {
      "text/plain": [
       "(940, 16)"
      ]
     },
     "execution_count": 30,
     "metadata": {},
     "output_type": "execute_result"
    }
   ],
   "source": [
    "df_activity.shape"
   ]
  },
  {
   "cell_type": "code",
   "execution_count": 31,
   "metadata": {},
   "outputs": [
    {
     "data": {
      "text/html": [
       "<div>\n",
       "<style scoped>\n",
       "    .dataframe tbody tr th:only-of-type {\n",
       "        vertical-align: middle;\n",
       "    }\n",
       "\n",
       "    .dataframe tbody tr th {\n",
       "        vertical-align: top;\n",
       "    }\n",
       "\n",
       "    .dataframe thead th {\n",
       "        text-align: right;\n",
       "    }\n",
       "</style>\n",
       "<table border=\"1\" class=\"dataframe\">\n",
       "  <thead>\n",
       "    <tr style=\"text-align: right;\">\n",
       "      <th></th>\n",
       "      <th>TotalSteps</th>\n",
       "      <th>TotalDistance</th>\n",
       "      <th>TrackerDistance</th>\n",
       "      <th>LoggedActivitiesDistance</th>\n",
       "      <th>VeryActiveDistance</th>\n",
       "      <th>ModeratelyActiveDistance</th>\n",
       "      <th>LightActiveDistance</th>\n",
       "      <th>SedentaryActiveDistance</th>\n",
       "      <th>VeryActiveMinutes</th>\n",
       "      <th>FairlyActiveMinutes</th>\n",
       "      <th>LightlyActiveMinutes</th>\n",
       "      <th>SedentaryMinutes</th>\n",
       "      <th>Calories</th>\n",
       "      <th>TotalActivityMins</th>\n",
       "      <th>WeightKg</th>\n",
       "      <th>WeightPounds</th>\n",
       "      <th>BMI</th>\n",
       "      <th>IsManualReport</th>\n",
       "      <th>LogId</th>\n",
       "      <th>WeightLost</th>\n",
       "    </tr>\n",
       "    <tr>\n",
       "      <th>Id</th>\n",
       "      <th></th>\n",
       "      <th></th>\n",
       "      <th></th>\n",
       "      <th></th>\n",
       "      <th></th>\n",
       "      <th></th>\n",
       "      <th></th>\n",
       "      <th></th>\n",
       "      <th></th>\n",
       "      <th></th>\n",
       "      <th></th>\n",
       "      <th></th>\n",
       "      <th></th>\n",
       "      <th></th>\n",
       "      <th></th>\n",
       "      <th></th>\n",
       "      <th></th>\n",
       "      <th></th>\n",
       "      <th></th>\n",
       "      <th></th>\n",
       "    </tr>\n",
       "  </thead>\n",
       "  <tbody>\n",
       "    <tr>\n",
       "      <th>1503960366</th>\n",
       "      <td>12116.741935</td>\n",
       "      <td>7.809677</td>\n",
       "      <td>7.809677</td>\n",
       "      <td>0.0</td>\n",
       "      <td>2.858387</td>\n",
       "      <td>0.794194</td>\n",
       "      <td>4.152903</td>\n",
       "      <td>0.000000</td>\n",
       "      <td>38.709677</td>\n",
       "      <td>19.161290</td>\n",
       "      <td>219.935484</td>\n",
       "      <td>848.161290</td>\n",
       "      <td>1816.419355</td>\n",
       "      <td>277.806452</td>\n",
       "      <td>52.599998</td>\n",
       "      <td>115.963147</td>\n",
       "      <td>22.650000</td>\n",
       "      <td>1.0</td>\n",
       "      <td>1.462277e+12</td>\n",
       "      <td>0.000000</td>\n",
       "    </tr>\n",
       "    <tr>\n",
       "      <th>1927972279</th>\n",
       "      <td>916.129032</td>\n",
       "      <td>0.634516</td>\n",
       "      <td>0.634516</td>\n",
       "      <td>0.0</td>\n",
       "      <td>0.095806</td>\n",
       "      <td>0.031290</td>\n",
       "      <td>0.507097</td>\n",
       "      <td>0.000000</td>\n",
       "      <td>1.322581</td>\n",
       "      <td>0.774194</td>\n",
       "      <td>38.580645</td>\n",
       "      <td>1317.419355</td>\n",
       "      <td>2172.806452</td>\n",
       "      <td>40.677419</td>\n",
       "      <td>133.500000</td>\n",
       "      <td>294.317120</td>\n",
       "      <td>47.540001</td>\n",
       "      <td>0.0</td>\n",
       "      <td>1.460510e+12</td>\n",
       "      <td>0.000000</td>\n",
       "    </tr>\n",
       "    <tr>\n",
       "      <th>2873212765</th>\n",
       "      <td>7555.774194</td>\n",
       "      <td>5.101613</td>\n",
       "      <td>5.101613</td>\n",
       "      <td>0.0</td>\n",
       "      <td>0.676129</td>\n",
       "      <td>0.276129</td>\n",
       "      <td>4.143548</td>\n",
       "      <td>0.005161</td>\n",
       "      <td>14.096774</td>\n",
       "      <td>6.129032</td>\n",
       "      <td>308.000000</td>\n",
       "      <td>1097.193548</td>\n",
       "      <td>1916.967742</td>\n",
       "      <td>328.225806</td>\n",
       "      <td>57.000000</td>\n",
       "      <td>125.663489</td>\n",
       "      <td>21.570001</td>\n",
       "      <td>1.0</td>\n",
       "      <td>1.462190e+12</td>\n",
       "      <td>-1.322770</td>\n",
       "    </tr>\n",
       "    <tr>\n",
       "      <th>4319703577</th>\n",
       "      <td>7268.838710</td>\n",
       "      <td>4.892258</td>\n",
       "      <td>4.892258</td>\n",
       "      <td>0.0</td>\n",
       "      <td>0.278065</td>\n",
       "      <td>0.502258</td>\n",
       "      <td>3.768710</td>\n",
       "      <td>0.000000</td>\n",
       "      <td>3.580645</td>\n",
       "      <td>12.322581</td>\n",
       "      <td>228.774194</td>\n",
       "      <td>735.806452</td>\n",
       "      <td>2037.677419</td>\n",
       "      <td>244.677419</td>\n",
       "      <td>72.350002</td>\n",
       "      <td>159.504452</td>\n",
       "      <td>27.415000</td>\n",
       "      <td>1.0</td>\n",
       "      <td>1.461672e+12</td>\n",
       "      <td>0.220459</td>\n",
       "    </tr>\n",
       "    <tr>\n",
       "      <th>4558609924</th>\n",
       "      <td>7685.129032</td>\n",
       "      <td>5.080645</td>\n",
       "      <td>5.080645</td>\n",
       "      <td>0.0</td>\n",
       "      <td>0.549355</td>\n",
       "      <td>0.682258</td>\n",
       "      <td>3.847742</td>\n",
       "      <td>0.000000</td>\n",
       "      <td>10.387097</td>\n",
       "      <td>13.709677</td>\n",
       "      <td>284.967742</td>\n",
       "      <td>1093.612903</td>\n",
       "      <td>2033.258065</td>\n",
       "      <td>309.064516</td>\n",
       "      <td>69.639999</td>\n",
       "      <td>153.529918</td>\n",
       "      <td>27.214000</td>\n",
       "      <td>1.0</td>\n",
       "      <td>1.461974e+12</td>\n",
       "      <td>1.322770</td>\n",
       "    </tr>\n",
       "  </tbody>\n",
       "</table>\n",
       "</div>"
      ],
      "text/plain": [
       "              TotalSteps  TotalDistance  TrackerDistance  \\\n",
       "Id                                                         \n",
       "1503960366  12116.741935       7.809677         7.809677   \n",
       "1927972279    916.129032       0.634516         0.634516   \n",
       "2873212765   7555.774194       5.101613         5.101613   \n",
       "4319703577   7268.838710       4.892258         4.892258   \n",
       "4558609924   7685.129032       5.080645         5.080645   \n",
       "\n",
       "            LoggedActivitiesDistance  VeryActiveDistance  \\\n",
       "Id                                                         \n",
       "1503960366                       0.0            2.858387   \n",
       "1927972279                       0.0            0.095806   \n",
       "2873212765                       0.0            0.676129   \n",
       "4319703577                       0.0            0.278065   \n",
       "4558609924                       0.0            0.549355   \n",
       "\n",
       "            ModeratelyActiveDistance  LightActiveDistance  \\\n",
       "Id                                                          \n",
       "1503960366                  0.794194             4.152903   \n",
       "1927972279                  0.031290             0.507097   \n",
       "2873212765                  0.276129             4.143548   \n",
       "4319703577                  0.502258             3.768710   \n",
       "4558609924                  0.682258             3.847742   \n",
       "\n",
       "            SedentaryActiveDistance  VeryActiveMinutes  FairlyActiveMinutes  \\\n",
       "Id                                                                            \n",
       "1503960366                 0.000000          38.709677            19.161290   \n",
       "1927972279                 0.000000           1.322581             0.774194   \n",
       "2873212765                 0.005161          14.096774             6.129032   \n",
       "4319703577                 0.000000           3.580645            12.322581   \n",
       "4558609924                 0.000000          10.387097            13.709677   \n",
       "\n",
       "            LightlyActiveMinutes  SedentaryMinutes     Calories  \\\n",
       "Id                                                                \n",
       "1503960366            219.935484        848.161290  1816.419355   \n",
       "1927972279             38.580645       1317.419355  2172.806452   \n",
       "2873212765            308.000000       1097.193548  1916.967742   \n",
       "4319703577            228.774194        735.806452  2037.677419   \n",
       "4558609924            284.967742       1093.612903  2033.258065   \n",
       "\n",
       "            TotalActivityMins    WeightKg  WeightPounds        BMI  \\\n",
       "Id                                                                   \n",
       "1503960366         277.806452   52.599998    115.963147  22.650000   \n",
       "1927972279          40.677419  133.500000    294.317120  47.540001   \n",
       "2873212765         328.225806   57.000000    125.663489  21.570001   \n",
       "4319703577         244.677419   72.350002    159.504452  27.415000   \n",
       "4558609924         309.064516   69.639999    153.529918  27.214000   \n",
       "\n",
       "            IsManualReport         LogId  WeightLost  \n",
       "Id                                                    \n",
       "1503960366             1.0  1.462277e+12    0.000000  \n",
       "1927972279             0.0  1.460510e+12    0.000000  \n",
       "2873212765             1.0  1.462190e+12   -1.322770  \n",
       "4319703577             1.0  1.461672e+12    0.220459  \n",
       "4558609924             1.0  1.461974e+12    1.322770  "
      ]
     },
     "execution_count": 31,
     "metadata": {},
     "output_type": "execute_result"
    }
   ],
   "source": [
    "#Merge df_activity and df_weight grouped on Id mean of TotalSteps, TotalDistance, Calories, SedentaryMinutes, TotalActivityMins, and mean of WeightPounds, WeightLossPounds\n",
    "\n",
    "df_activity_weight = pd.merge(df_activity.groupby('Id').mean(), df_weight.groupby('Id').mean(), left_on='Id', right_on='Id', how='inner')\n",
    "df_activity_weight.head()\n"
   ]
  },
  {
   "cell_type": "code",
   "execution_count": 32,
   "metadata": {},
   "outputs": [
    {
     "data": {
      "application/vnd.plotly.v1+json": {
       "config": {
        "plotlyServerURL": "https://plot.ly"
       },
       "data": [
        {
         "mode": "markers",
         "name": "WeightPounds",
         "type": "scatter",
         "x": [
          848.1612903225806,
          1317.4193548387098,
          1097.1935483870968,
          735.8064516129032,
          1093.6129032258063,
          754.4333333333333,
          662.3225806451613,
          1112.8709677419354
         ],
         "y": [
          115.963146545323,
          294.317120016975,
          125.66348944545001,
          159.504451736828,
          153.5299180400392,
          199.959265073821,
          135.70187212613658,
          187.71443242542833
         ]
        }
       ],
       "layout": {
        "template": {
         "data": {
          "bar": [
           {
            "error_x": {
             "color": "#2a3f5f"
            },
            "error_y": {
             "color": "#2a3f5f"
            },
            "marker": {
             "line": {
              "color": "#E5ECF6",
              "width": 0.5
             },
             "pattern": {
              "fillmode": "overlay",
              "size": 10,
              "solidity": 0.2
             }
            },
            "type": "bar"
           }
          ],
          "barpolar": [
           {
            "marker": {
             "line": {
              "color": "#E5ECF6",
              "width": 0.5
             },
             "pattern": {
              "fillmode": "overlay",
              "size": 10,
              "solidity": 0.2
             }
            },
            "type": "barpolar"
           }
          ],
          "carpet": [
           {
            "aaxis": {
             "endlinecolor": "#2a3f5f",
             "gridcolor": "white",
             "linecolor": "white",
             "minorgridcolor": "white",
             "startlinecolor": "#2a3f5f"
            },
            "baxis": {
             "endlinecolor": "#2a3f5f",
             "gridcolor": "white",
             "linecolor": "white",
             "minorgridcolor": "white",
             "startlinecolor": "#2a3f5f"
            },
            "type": "carpet"
           }
          ],
          "choropleth": [
           {
            "colorbar": {
             "outlinewidth": 0,
             "ticks": ""
            },
            "type": "choropleth"
           }
          ],
          "contour": [
           {
            "colorbar": {
             "outlinewidth": 0,
             "ticks": ""
            },
            "colorscale": [
             [
              0,
              "#0d0887"
             ],
             [
              0.1111111111111111,
              "#46039f"
             ],
             [
              0.2222222222222222,
              "#7201a8"
             ],
             [
              0.3333333333333333,
              "#9c179e"
             ],
             [
              0.4444444444444444,
              "#bd3786"
             ],
             [
              0.5555555555555556,
              "#d8576b"
             ],
             [
              0.6666666666666666,
              "#ed7953"
             ],
             [
              0.7777777777777778,
              "#fb9f3a"
             ],
             [
              0.8888888888888888,
              "#fdca26"
             ],
             [
              1,
              "#f0f921"
             ]
            ],
            "type": "contour"
           }
          ],
          "contourcarpet": [
           {
            "colorbar": {
             "outlinewidth": 0,
             "ticks": ""
            },
            "type": "contourcarpet"
           }
          ],
          "heatmap": [
           {
            "colorbar": {
             "outlinewidth": 0,
             "ticks": ""
            },
            "colorscale": [
             [
              0,
              "#0d0887"
             ],
             [
              0.1111111111111111,
              "#46039f"
             ],
             [
              0.2222222222222222,
              "#7201a8"
             ],
             [
              0.3333333333333333,
              "#9c179e"
             ],
             [
              0.4444444444444444,
              "#bd3786"
             ],
             [
              0.5555555555555556,
              "#d8576b"
             ],
             [
              0.6666666666666666,
              "#ed7953"
             ],
             [
              0.7777777777777778,
              "#fb9f3a"
             ],
             [
              0.8888888888888888,
              "#fdca26"
             ],
             [
              1,
              "#f0f921"
             ]
            ],
            "type": "heatmap"
           }
          ],
          "heatmapgl": [
           {
            "colorbar": {
             "outlinewidth": 0,
             "ticks": ""
            },
            "colorscale": [
             [
              0,
              "#0d0887"
             ],
             [
              0.1111111111111111,
              "#46039f"
             ],
             [
              0.2222222222222222,
              "#7201a8"
             ],
             [
              0.3333333333333333,
              "#9c179e"
             ],
             [
              0.4444444444444444,
              "#bd3786"
             ],
             [
              0.5555555555555556,
              "#d8576b"
             ],
             [
              0.6666666666666666,
              "#ed7953"
             ],
             [
              0.7777777777777778,
              "#fb9f3a"
             ],
             [
              0.8888888888888888,
              "#fdca26"
             ],
             [
              1,
              "#f0f921"
             ]
            ],
            "type": "heatmapgl"
           }
          ],
          "histogram": [
           {
            "marker": {
             "pattern": {
              "fillmode": "overlay",
              "size": 10,
              "solidity": 0.2
             }
            },
            "type": "histogram"
           }
          ],
          "histogram2d": [
           {
            "colorbar": {
             "outlinewidth": 0,
             "ticks": ""
            },
            "colorscale": [
             [
              0,
              "#0d0887"
             ],
             [
              0.1111111111111111,
              "#46039f"
             ],
             [
              0.2222222222222222,
              "#7201a8"
             ],
             [
              0.3333333333333333,
              "#9c179e"
             ],
             [
              0.4444444444444444,
              "#bd3786"
             ],
             [
              0.5555555555555556,
              "#d8576b"
             ],
             [
              0.6666666666666666,
              "#ed7953"
             ],
             [
              0.7777777777777778,
              "#fb9f3a"
             ],
             [
              0.8888888888888888,
              "#fdca26"
             ],
             [
              1,
              "#f0f921"
             ]
            ],
            "type": "histogram2d"
           }
          ],
          "histogram2dcontour": [
           {
            "colorbar": {
             "outlinewidth": 0,
             "ticks": ""
            },
            "colorscale": [
             [
              0,
              "#0d0887"
             ],
             [
              0.1111111111111111,
              "#46039f"
             ],
             [
              0.2222222222222222,
              "#7201a8"
             ],
             [
              0.3333333333333333,
              "#9c179e"
             ],
             [
              0.4444444444444444,
              "#bd3786"
             ],
             [
              0.5555555555555556,
              "#d8576b"
             ],
             [
              0.6666666666666666,
              "#ed7953"
             ],
             [
              0.7777777777777778,
              "#fb9f3a"
             ],
             [
              0.8888888888888888,
              "#fdca26"
             ],
             [
              1,
              "#f0f921"
             ]
            ],
            "type": "histogram2dcontour"
           }
          ],
          "mesh3d": [
           {
            "colorbar": {
             "outlinewidth": 0,
             "ticks": ""
            },
            "type": "mesh3d"
           }
          ],
          "parcoords": [
           {
            "line": {
             "colorbar": {
              "outlinewidth": 0,
              "ticks": ""
             }
            },
            "type": "parcoords"
           }
          ],
          "pie": [
           {
            "automargin": true,
            "type": "pie"
           }
          ],
          "scatter": [
           {
            "fillpattern": {
             "fillmode": "overlay",
             "size": 10,
             "solidity": 0.2
            },
            "type": "scatter"
           }
          ],
          "scatter3d": [
           {
            "line": {
             "colorbar": {
              "outlinewidth": 0,
              "ticks": ""
             }
            },
            "marker": {
             "colorbar": {
              "outlinewidth": 0,
              "ticks": ""
             }
            },
            "type": "scatter3d"
           }
          ],
          "scattercarpet": [
           {
            "marker": {
             "colorbar": {
              "outlinewidth": 0,
              "ticks": ""
             }
            },
            "type": "scattercarpet"
           }
          ],
          "scattergeo": [
           {
            "marker": {
             "colorbar": {
              "outlinewidth": 0,
              "ticks": ""
             }
            },
            "type": "scattergeo"
           }
          ],
          "scattergl": [
           {
            "marker": {
             "colorbar": {
              "outlinewidth": 0,
              "ticks": ""
             }
            },
            "type": "scattergl"
           }
          ],
          "scattermapbox": [
           {
            "marker": {
             "colorbar": {
              "outlinewidth": 0,
              "ticks": ""
             }
            },
            "type": "scattermapbox"
           }
          ],
          "scatterpolar": [
           {
            "marker": {
             "colorbar": {
              "outlinewidth": 0,
              "ticks": ""
             }
            },
            "type": "scatterpolar"
           }
          ],
          "scatterpolargl": [
           {
            "marker": {
             "colorbar": {
              "outlinewidth": 0,
              "ticks": ""
             }
            },
            "type": "scatterpolargl"
           }
          ],
          "scatterternary": [
           {
            "marker": {
             "colorbar": {
              "outlinewidth": 0,
              "ticks": ""
             }
            },
            "type": "scatterternary"
           }
          ],
          "surface": [
           {
            "colorbar": {
             "outlinewidth": 0,
             "ticks": ""
            },
            "colorscale": [
             [
              0,
              "#0d0887"
             ],
             [
              0.1111111111111111,
              "#46039f"
             ],
             [
              0.2222222222222222,
              "#7201a8"
             ],
             [
              0.3333333333333333,
              "#9c179e"
             ],
             [
              0.4444444444444444,
              "#bd3786"
             ],
             [
              0.5555555555555556,
              "#d8576b"
             ],
             [
              0.6666666666666666,
              "#ed7953"
             ],
             [
              0.7777777777777778,
              "#fb9f3a"
             ],
             [
              0.8888888888888888,
              "#fdca26"
             ],
             [
              1,
              "#f0f921"
             ]
            ],
            "type": "surface"
           }
          ],
          "table": [
           {
            "cells": {
             "fill": {
              "color": "#EBF0F8"
             },
             "line": {
              "color": "white"
             }
            },
            "header": {
             "fill": {
              "color": "#C8D4E3"
             },
             "line": {
              "color": "white"
             }
            },
            "type": "table"
           }
          ]
         },
         "layout": {
          "annotationdefaults": {
           "arrowcolor": "#2a3f5f",
           "arrowhead": 0,
           "arrowwidth": 1
          },
          "autotypenumbers": "strict",
          "coloraxis": {
           "colorbar": {
            "outlinewidth": 0,
            "ticks": ""
           }
          },
          "colorscale": {
           "diverging": [
            [
             0,
             "#8e0152"
            ],
            [
             0.1,
             "#c51b7d"
            ],
            [
             0.2,
             "#de77ae"
            ],
            [
             0.3,
             "#f1b6da"
            ],
            [
             0.4,
             "#fde0ef"
            ],
            [
             0.5,
             "#f7f7f7"
            ],
            [
             0.6,
             "#e6f5d0"
            ],
            [
             0.7,
             "#b8e186"
            ],
            [
             0.8,
             "#7fbc41"
            ],
            [
             0.9,
             "#4d9221"
            ],
            [
             1,
             "#276419"
            ]
           ],
           "sequential": [
            [
             0,
             "#0d0887"
            ],
            [
             0.1111111111111111,
             "#46039f"
            ],
            [
             0.2222222222222222,
             "#7201a8"
            ],
            [
             0.3333333333333333,
             "#9c179e"
            ],
            [
             0.4444444444444444,
             "#bd3786"
            ],
            [
             0.5555555555555556,
             "#d8576b"
            ],
            [
             0.6666666666666666,
             "#ed7953"
            ],
            [
             0.7777777777777778,
             "#fb9f3a"
            ],
            [
             0.8888888888888888,
             "#fdca26"
            ],
            [
             1,
             "#f0f921"
            ]
           ],
           "sequentialminus": [
            [
             0,
             "#0d0887"
            ],
            [
             0.1111111111111111,
             "#46039f"
            ],
            [
             0.2222222222222222,
             "#7201a8"
            ],
            [
             0.3333333333333333,
             "#9c179e"
            ],
            [
             0.4444444444444444,
             "#bd3786"
            ],
            [
             0.5555555555555556,
             "#d8576b"
            ],
            [
             0.6666666666666666,
             "#ed7953"
            ],
            [
             0.7777777777777778,
             "#fb9f3a"
            ],
            [
             0.8888888888888888,
             "#fdca26"
            ],
            [
             1,
             "#f0f921"
            ]
           ]
          },
          "colorway": [
           "#636efa",
           "#EF553B",
           "#00cc96",
           "#ab63fa",
           "#FFA15A",
           "#19d3f3",
           "#FF6692",
           "#B6E880",
           "#FF97FF",
           "#FECB52"
          ],
          "font": {
           "color": "#2a3f5f"
          },
          "geo": {
           "bgcolor": "white",
           "lakecolor": "white",
           "landcolor": "#E5ECF6",
           "showlakes": true,
           "showland": true,
           "subunitcolor": "white"
          },
          "hoverlabel": {
           "align": "left"
          },
          "hovermode": "closest",
          "mapbox": {
           "style": "light"
          },
          "paper_bgcolor": "white",
          "plot_bgcolor": "#E5ECF6",
          "polar": {
           "angularaxis": {
            "gridcolor": "white",
            "linecolor": "white",
            "ticks": ""
           },
           "bgcolor": "#E5ECF6",
           "radialaxis": {
            "gridcolor": "white",
            "linecolor": "white",
            "ticks": ""
           }
          },
          "scene": {
           "xaxis": {
            "backgroundcolor": "#E5ECF6",
            "gridcolor": "white",
            "gridwidth": 2,
            "linecolor": "white",
            "showbackground": true,
            "ticks": "",
            "zerolinecolor": "white"
           },
           "yaxis": {
            "backgroundcolor": "#E5ECF6",
            "gridcolor": "white",
            "gridwidth": 2,
            "linecolor": "white",
            "showbackground": true,
            "ticks": "",
            "zerolinecolor": "white"
           },
           "zaxis": {
            "backgroundcolor": "#E5ECF6",
            "gridcolor": "white",
            "gridwidth": 2,
            "linecolor": "white",
            "showbackground": true,
            "ticks": "",
            "zerolinecolor": "white"
           }
          },
          "shapedefaults": {
           "line": {
            "color": "#2a3f5f"
           }
          },
          "ternary": {
           "aaxis": {
            "gridcolor": "white",
            "linecolor": "white",
            "ticks": ""
           },
           "baxis": {
            "gridcolor": "white",
            "linecolor": "white",
            "ticks": ""
           },
           "bgcolor": "#E5ECF6",
           "caxis": {
            "gridcolor": "white",
            "linecolor": "white",
            "ticks": ""
           }
          },
          "title": {
           "x": 0.05
          },
          "xaxis": {
           "automargin": true,
           "gridcolor": "white",
           "linecolor": "white",
           "ticks": "",
           "title": {
            "standoff": 15
           },
           "zerolinecolor": "white",
           "zerolinewidth": 2
          },
          "yaxis": {
           "automargin": true,
           "gridcolor": "white",
           "linecolor": "white",
           "ticks": "",
           "title": {
            "standoff": 15
           },
           "zerolinecolor": "white",
           "zerolinewidth": 2
          }
         }
        },
        "title": {
         "text": "Relationship between sedantary minutes and weight"
        },
        "xaxis": {
         "title": {
          "text": "SedantaryMinutes"
         }
        },
        "yaxis": {
         "title": {
          "text": "WeightPounds"
         }
        }
       }
      }
     },
     "metadata": {},
     "output_type": "display_data"
    }
   ],
   "source": [
    "#Relationship between sedantary minutes and weight in pounds\n",
    "fig = go.Figure()\n",
    "fig.add_trace(go.Scatter(x=df_activity_weight['SedentaryMinutes'], y=df_activity_weight['WeightPounds'], mode='markers', name='WeightPounds'))\n",
    "fig.update_layout(title='Relationship between sedantary minutes and weight', xaxis_title='SedantaryMinutes', yaxis_title='WeightPounds')\n",
    "fig.show()\n"
   ]
  },
  {
   "cell_type": "code",
   "execution_count": 33,
   "metadata": {},
   "outputs": [],
   "source": [
    "#Number of days users sleeping more than 6 hours\n",
    "df_sleep['Number of days with qualty sleep'] = df_sleep[df_sleep['TotalMinutesAsleep'] >= 360].value_counts('Id')"
   ]
  },
  {
   "attachments": {},
   "cell_type": "markdown",
   "metadata": {},
   "source": [
    "#### Weight"
   ]
  },
  {
   "cell_type": "code",
   "execution_count": 34,
   "metadata": {},
   "outputs": [
    {
     "data": {
      "text/plain": [
       "8"
      ]
     },
     "execution_count": 34,
     "metadata": {},
     "output_type": "execute_result"
    }
   ],
   "source": [
    "#Number of unique IDs in df_weight\n",
    "df_weight['Id'].nunique()"
   ]
  },
  {
   "cell_type": "code",
   "execution_count": 35,
   "metadata": {},
   "outputs": [
    {
     "data": {
      "application/vnd.plotly.v1+json": {
       "config": {
        "plotlyServerURL": "https://plot.ly"
       },
       "data": [
        {
         "type": "bar",
         "x": [
          "1503960366",
          "1927972279",
          "2873212765",
          "4319703577",
          "4558609924",
          "5577150313",
          "6962181067",
          "8877689391"
         ],
         "y": [
          0,
          0,
          -1.3227702091219982,
          0.22045889819798958,
          1.3227702091230071,
          0,
          1.3227702091230071,
          3.9683274473040058
         ]
        }
       ],
       "layout": {
        "template": {
         "data": {
          "bar": [
           {
            "error_x": {
             "color": "#2a3f5f"
            },
            "error_y": {
             "color": "#2a3f5f"
            },
            "marker": {
             "line": {
              "color": "#E5ECF6",
              "width": 0.5
             },
             "pattern": {
              "fillmode": "overlay",
              "size": 10,
              "solidity": 0.2
             }
            },
            "type": "bar"
           }
          ],
          "barpolar": [
           {
            "marker": {
             "line": {
              "color": "#E5ECF6",
              "width": 0.5
             },
             "pattern": {
              "fillmode": "overlay",
              "size": 10,
              "solidity": 0.2
             }
            },
            "type": "barpolar"
           }
          ],
          "carpet": [
           {
            "aaxis": {
             "endlinecolor": "#2a3f5f",
             "gridcolor": "white",
             "linecolor": "white",
             "minorgridcolor": "white",
             "startlinecolor": "#2a3f5f"
            },
            "baxis": {
             "endlinecolor": "#2a3f5f",
             "gridcolor": "white",
             "linecolor": "white",
             "minorgridcolor": "white",
             "startlinecolor": "#2a3f5f"
            },
            "type": "carpet"
           }
          ],
          "choropleth": [
           {
            "colorbar": {
             "outlinewidth": 0,
             "ticks": ""
            },
            "type": "choropleth"
           }
          ],
          "contour": [
           {
            "colorbar": {
             "outlinewidth": 0,
             "ticks": ""
            },
            "colorscale": [
             [
              0,
              "#0d0887"
             ],
             [
              0.1111111111111111,
              "#46039f"
             ],
             [
              0.2222222222222222,
              "#7201a8"
             ],
             [
              0.3333333333333333,
              "#9c179e"
             ],
             [
              0.4444444444444444,
              "#bd3786"
             ],
             [
              0.5555555555555556,
              "#d8576b"
             ],
             [
              0.6666666666666666,
              "#ed7953"
             ],
             [
              0.7777777777777778,
              "#fb9f3a"
             ],
             [
              0.8888888888888888,
              "#fdca26"
             ],
             [
              1,
              "#f0f921"
             ]
            ],
            "type": "contour"
           }
          ],
          "contourcarpet": [
           {
            "colorbar": {
             "outlinewidth": 0,
             "ticks": ""
            },
            "type": "contourcarpet"
           }
          ],
          "heatmap": [
           {
            "colorbar": {
             "outlinewidth": 0,
             "ticks": ""
            },
            "colorscale": [
             [
              0,
              "#0d0887"
             ],
             [
              0.1111111111111111,
              "#46039f"
             ],
             [
              0.2222222222222222,
              "#7201a8"
             ],
             [
              0.3333333333333333,
              "#9c179e"
             ],
             [
              0.4444444444444444,
              "#bd3786"
             ],
             [
              0.5555555555555556,
              "#d8576b"
             ],
             [
              0.6666666666666666,
              "#ed7953"
             ],
             [
              0.7777777777777778,
              "#fb9f3a"
             ],
             [
              0.8888888888888888,
              "#fdca26"
             ],
             [
              1,
              "#f0f921"
             ]
            ],
            "type": "heatmap"
           }
          ],
          "heatmapgl": [
           {
            "colorbar": {
             "outlinewidth": 0,
             "ticks": ""
            },
            "colorscale": [
             [
              0,
              "#0d0887"
             ],
             [
              0.1111111111111111,
              "#46039f"
             ],
             [
              0.2222222222222222,
              "#7201a8"
             ],
             [
              0.3333333333333333,
              "#9c179e"
             ],
             [
              0.4444444444444444,
              "#bd3786"
             ],
             [
              0.5555555555555556,
              "#d8576b"
             ],
             [
              0.6666666666666666,
              "#ed7953"
             ],
             [
              0.7777777777777778,
              "#fb9f3a"
             ],
             [
              0.8888888888888888,
              "#fdca26"
             ],
             [
              1,
              "#f0f921"
             ]
            ],
            "type": "heatmapgl"
           }
          ],
          "histogram": [
           {
            "marker": {
             "pattern": {
              "fillmode": "overlay",
              "size": 10,
              "solidity": 0.2
             }
            },
            "type": "histogram"
           }
          ],
          "histogram2d": [
           {
            "colorbar": {
             "outlinewidth": 0,
             "ticks": ""
            },
            "colorscale": [
             [
              0,
              "#0d0887"
             ],
             [
              0.1111111111111111,
              "#46039f"
             ],
             [
              0.2222222222222222,
              "#7201a8"
             ],
             [
              0.3333333333333333,
              "#9c179e"
             ],
             [
              0.4444444444444444,
              "#bd3786"
             ],
             [
              0.5555555555555556,
              "#d8576b"
             ],
             [
              0.6666666666666666,
              "#ed7953"
             ],
             [
              0.7777777777777778,
              "#fb9f3a"
             ],
             [
              0.8888888888888888,
              "#fdca26"
             ],
             [
              1,
              "#f0f921"
             ]
            ],
            "type": "histogram2d"
           }
          ],
          "histogram2dcontour": [
           {
            "colorbar": {
             "outlinewidth": 0,
             "ticks": ""
            },
            "colorscale": [
             [
              0,
              "#0d0887"
             ],
             [
              0.1111111111111111,
              "#46039f"
             ],
             [
              0.2222222222222222,
              "#7201a8"
             ],
             [
              0.3333333333333333,
              "#9c179e"
             ],
             [
              0.4444444444444444,
              "#bd3786"
             ],
             [
              0.5555555555555556,
              "#d8576b"
             ],
             [
              0.6666666666666666,
              "#ed7953"
             ],
             [
              0.7777777777777778,
              "#fb9f3a"
             ],
             [
              0.8888888888888888,
              "#fdca26"
             ],
             [
              1,
              "#f0f921"
             ]
            ],
            "type": "histogram2dcontour"
           }
          ],
          "mesh3d": [
           {
            "colorbar": {
             "outlinewidth": 0,
             "ticks": ""
            },
            "type": "mesh3d"
           }
          ],
          "parcoords": [
           {
            "line": {
             "colorbar": {
              "outlinewidth": 0,
              "ticks": ""
             }
            },
            "type": "parcoords"
           }
          ],
          "pie": [
           {
            "automargin": true,
            "type": "pie"
           }
          ],
          "scatter": [
           {
            "fillpattern": {
             "fillmode": "overlay",
             "size": 10,
             "solidity": 0.2
            },
            "type": "scatter"
           }
          ],
          "scatter3d": [
           {
            "line": {
             "colorbar": {
              "outlinewidth": 0,
              "ticks": ""
             }
            },
            "marker": {
             "colorbar": {
              "outlinewidth": 0,
              "ticks": ""
             }
            },
            "type": "scatter3d"
           }
          ],
          "scattercarpet": [
           {
            "marker": {
             "colorbar": {
              "outlinewidth": 0,
              "ticks": ""
             }
            },
            "type": "scattercarpet"
           }
          ],
          "scattergeo": [
           {
            "marker": {
             "colorbar": {
              "outlinewidth": 0,
              "ticks": ""
             }
            },
            "type": "scattergeo"
           }
          ],
          "scattergl": [
           {
            "marker": {
             "colorbar": {
              "outlinewidth": 0,
              "ticks": ""
             }
            },
            "type": "scattergl"
           }
          ],
          "scattermapbox": [
           {
            "marker": {
             "colorbar": {
              "outlinewidth": 0,
              "ticks": ""
             }
            },
            "type": "scattermapbox"
           }
          ],
          "scatterpolar": [
           {
            "marker": {
             "colorbar": {
              "outlinewidth": 0,
              "ticks": ""
             }
            },
            "type": "scatterpolar"
           }
          ],
          "scatterpolargl": [
           {
            "marker": {
             "colorbar": {
              "outlinewidth": 0,
              "ticks": ""
             }
            },
            "type": "scatterpolargl"
           }
          ],
          "scatterternary": [
           {
            "marker": {
             "colorbar": {
              "outlinewidth": 0,
              "ticks": ""
             }
            },
            "type": "scatterternary"
           }
          ],
          "surface": [
           {
            "colorbar": {
             "outlinewidth": 0,
             "ticks": ""
            },
            "colorscale": [
             [
              0,
              "#0d0887"
             ],
             [
              0.1111111111111111,
              "#46039f"
             ],
             [
              0.2222222222222222,
              "#7201a8"
             ],
             [
              0.3333333333333333,
              "#9c179e"
             ],
             [
              0.4444444444444444,
              "#bd3786"
             ],
             [
              0.5555555555555556,
              "#d8576b"
             ],
             [
              0.6666666666666666,
              "#ed7953"
             ],
             [
              0.7777777777777778,
              "#fb9f3a"
             ],
             [
              0.8888888888888888,
              "#fdca26"
             ],
             [
              1,
              "#f0f921"
             ]
            ],
            "type": "surface"
           }
          ],
          "table": [
           {
            "cells": {
             "fill": {
              "color": "#EBF0F8"
             },
             "line": {
              "color": "white"
             }
            },
            "header": {
             "fill": {
              "color": "#C8D4E3"
             },
             "line": {
              "color": "white"
             }
            },
            "type": "table"
           }
          ]
         },
         "layout": {
          "annotationdefaults": {
           "arrowcolor": "#2a3f5f",
           "arrowhead": 0,
           "arrowwidth": 1
          },
          "autotypenumbers": "strict",
          "coloraxis": {
           "colorbar": {
            "outlinewidth": 0,
            "ticks": ""
           }
          },
          "colorscale": {
           "diverging": [
            [
             0,
             "#8e0152"
            ],
            [
             0.1,
             "#c51b7d"
            ],
            [
             0.2,
             "#de77ae"
            ],
            [
             0.3,
             "#f1b6da"
            ],
            [
             0.4,
             "#fde0ef"
            ],
            [
             0.5,
             "#f7f7f7"
            ],
            [
             0.6,
             "#e6f5d0"
            ],
            [
             0.7,
             "#b8e186"
            ],
            [
             0.8,
             "#7fbc41"
            ],
            [
             0.9,
             "#4d9221"
            ],
            [
             1,
             "#276419"
            ]
           ],
           "sequential": [
            [
             0,
             "#0d0887"
            ],
            [
             0.1111111111111111,
             "#46039f"
            ],
            [
             0.2222222222222222,
             "#7201a8"
            ],
            [
             0.3333333333333333,
             "#9c179e"
            ],
            [
             0.4444444444444444,
             "#bd3786"
            ],
            [
             0.5555555555555556,
             "#d8576b"
            ],
            [
             0.6666666666666666,
             "#ed7953"
            ],
            [
             0.7777777777777778,
             "#fb9f3a"
            ],
            [
             0.8888888888888888,
             "#fdca26"
            ],
            [
             1,
             "#f0f921"
            ]
           ],
           "sequentialminus": [
            [
             0,
             "#0d0887"
            ],
            [
             0.1111111111111111,
             "#46039f"
            ],
            [
             0.2222222222222222,
             "#7201a8"
            ],
            [
             0.3333333333333333,
             "#9c179e"
            ],
            [
             0.4444444444444444,
             "#bd3786"
            ],
            [
             0.5555555555555556,
             "#d8576b"
            ],
            [
             0.6666666666666666,
             "#ed7953"
            ],
            [
             0.7777777777777778,
             "#fb9f3a"
            ],
            [
             0.8888888888888888,
             "#fdca26"
            ],
            [
             1,
             "#f0f921"
            ]
           ]
          },
          "colorway": [
           "#636efa",
           "#EF553B",
           "#00cc96",
           "#ab63fa",
           "#FFA15A",
           "#19d3f3",
           "#FF6692",
           "#B6E880",
           "#FF97FF",
           "#FECB52"
          ],
          "font": {
           "color": "#2a3f5f"
          },
          "geo": {
           "bgcolor": "white",
           "lakecolor": "white",
           "landcolor": "#E5ECF6",
           "showlakes": true,
           "showland": true,
           "subunitcolor": "white"
          },
          "hoverlabel": {
           "align": "left"
          },
          "hovermode": "closest",
          "mapbox": {
           "style": "light"
          },
          "paper_bgcolor": "white",
          "plot_bgcolor": "#E5ECF6",
          "polar": {
           "angularaxis": {
            "gridcolor": "white",
            "linecolor": "white",
            "ticks": ""
           },
           "bgcolor": "#E5ECF6",
           "radialaxis": {
            "gridcolor": "white",
            "linecolor": "white",
            "ticks": ""
           }
          },
          "scene": {
           "xaxis": {
            "backgroundcolor": "#E5ECF6",
            "gridcolor": "white",
            "gridwidth": 2,
            "linecolor": "white",
            "showbackground": true,
            "ticks": "",
            "zerolinecolor": "white"
           },
           "yaxis": {
            "backgroundcolor": "#E5ECF6",
            "gridcolor": "white",
            "gridwidth": 2,
            "linecolor": "white",
            "showbackground": true,
            "ticks": "",
            "zerolinecolor": "white"
           },
           "zaxis": {
            "backgroundcolor": "#E5ECF6",
            "gridcolor": "white",
            "gridwidth": 2,
            "linecolor": "white",
            "showbackground": true,
            "ticks": "",
            "zerolinecolor": "white"
           }
          },
          "shapedefaults": {
           "line": {
            "color": "#2a3f5f"
           }
          },
          "ternary": {
           "aaxis": {
            "gridcolor": "white",
            "linecolor": "white",
            "ticks": ""
           },
           "baxis": {
            "gridcolor": "white",
            "linecolor": "white",
            "ticks": ""
           },
           "bgcolor": "#E5ECF6",
           "caxis": {
            "gridcolor": "white",
            "linecolor": "white",
            "ticks": ""
           }
          },
          "title": {
           "x": 0.05
          },
          "xaxis": {
           "automargin": true,
           "gridcolor": "white",
           "linecolor": "white",
           "ticks": "",
           "title": {
            "standoff": 15
           },
           "zerolinecolor": "white",
           "zerolinewidth": 2
          },
          "yaxis": {
           "automargin": true,
           "gridcolor": "white",
           "linecolor": "white",
           "ticks": "",
           "title": {
            "standoff": 15
           },
           "zerolinecolor": "white",
           "zerolinewidth": 2
          }
         }
        },
        "title": {
         "text": "Weight lost by each user"
        },
        "xaxis": {
         "title": {
          "text": "User ID"
         }
        },
        "yaxis": {
         "title": {
          "text": "WeightLost"
         }
        }
       }
      }
     },
     "metadata": {},
     "output_type": "display_data"
    }
   ],
   "source": [
    "#Visualize weight lost by each user\n",
    "fig = go.Figure()\n",
    "fig.add_trace(go.Bar(x=df_weight['Id'].unique().astype(str), y=df_weight[['Id','WeightLost']].groupby('Id').first()['WeightLost']))\n",
    "fig.update_layout(title='Weight lost by each user', xaxis_title='User ID', yaxis_title='WeightLost')\n",
    "fig.show()\n"
   ]
  },
  {
   "cell_type": "code",
   "execution_count": 36,
   "metadata": {},
   "outputs": [
    {
     "data": {
      "text/html": [
       "<div>\n",
       "<style scoped>\n",
       "    .dataframe tbody tr th:only-of-type {\n",
       "        vertical-align: middle;\n",
       "    }\n",
       "\n",
       "    .dataframe tbody tr th {\n",
       "        vertical-align: top;\n",
       "    }\n",
       "\n",
       "    .dataframe thead th {\n",
       "        text-align: right;\n",
       "    }\n",
       "</style>\n",
       "<table border=\"1\" class=\"dataframe\">\n",
       "  <thead>\n",
       "    <tr style=\"text-align: right;\">\n",
       "      <th></th>\n",
       "      <th>Id</th>\n",
       "      <th>Date</th>\n",
       "      <th>WeightKg</th>\n",
       "      <th>WeightPounds</th>\n",
       "      <th>BMI</th>\n",
       "      <th>IsManualReport</th>\n",
       "      <th>LogId</th>\n",
       "      <th>time</th>\n",
       "      <th>date</th>\n",
       "      <th>WeightLost</th>\n",
       "    </tr>\n",
       "  </thead>\n",
       "  <tbody>\n",
       "    <tr>\n",
       "      <th>28</th>\n",
       "      <td>6962181067</td>\n",
       "      <td>2016-04-28 23:59:59</td>\n",
       "      <td>61.200001</td>\n",
       "      <td>134.922906</td>\n",
       "      <td>23.889999</td>\n",
       "      <td>True</td>\n",
       "      <td>1461887999000</td>\n",
       "      <td>23:59:59</td>\n",
       "      <td>2016-04-28</td>\n",
       "      <td>1.322770</td>\n",
       "    </tr>\n",
       "    <tr>\n",
       "      <th>26</th>\n",
       "      <td>6962181067</td>\n",
       "      <td>2016-04-25 23:59:59</td>\n",
       "      <td>61.700001</td>\n",
       "      <td>136.025217</td>\n",
       "      <td>24.100000</td>\n",
       "      <td>True</td>\n",
       "      <td>1461628799000</td>\n",
       "      <td>23:59:59</td>\n",
       "      <td>2016-04-25</td>\n",
       "      <td>1.322770</td>\n",
       "    </tr>\n",
       "    <tr>\n",
       "      <th>5</th>\n",
       "      <td>4319703577</td>\n",
       "      <td>2016-04-17 23:59:59</td>\n",
       "      <td>72.400002</td>\n",
       "      <td>159.614681</td>\n",
       "      <td>27.450001</td>\n",
       "      <td>True</td>\n",
       "      <td>1460937599000</td>\n",
       "      <td>23:59:59</td>\n",
       "      <td>2016-04-17</td>\n",
       "      <td>0.220459</td>\n",
       "    </tr>\n",
       "    <tr>\n",
       "      <th>56</th>\n",
       "      <td>8877689391</td>\n",
       "      <td>2016-04-28 06:50:03</td>\n",
       "      <td>85.099998</td>\n",
       "      <td>187.613382</td>\n",
       "      <td>25.490000</td>\n",
       "      <td>False</td>\n",
       "      <td>1461826203000</td>\n",
       "      <td>06:50:03</td>\n",
       "      <td>2016-04-28</td>\n",
       "      <td>3.968327</td>\n",
       "    </tr>\n",
       "    <tr>\n",
       "      <th>44</th>\n",
       "      <td>8877689391</td>\n",
       "      <td>2016-04-13 06:55:00</td>\n",
       "      <td>84.900002</td>\n",
       "      <td>187.172464</td>\n",
       "      <td>25.410000</td>\n",
       "      <td>False</td>\n",
       "      <td>1460530500000</td>\n",
       "      <td>06:55:00</td>\n",
       "      <td>2016-04-13</td>\n",
       "      <td>3.968327</td>\n",
       "    </tr>\n",
       "    <tr>\n",
       "      <th>8</th>\n",
       "      <td>4558609924</td>\n",
       "      <td>2016-04-25 23:59:59</td>\n",
       "      <td>70.300003</td>\n",
       "      <td>154.984977</td>\n",
       "      <td>27.459999</td>\n",
       "      <td>True</td>\n",
       "      <td>1461628799000</td>\n",
       "      <td>23:59:59</td>\n",
       "      <td>2016-04-25</td>\n",
       "      <td>1.322770</td>\n",
       "    </tr>\n",
       "    <tr>\n",
       "      <th>53</th>\n",
       "      <td>8877689391</td>\n",
       "      <td>2016-04-25 06:40:16</td>\n",
       "      <td>85.400002</td>\n",
       "      <td>188.274775</td>\n",
       "      <td>25.559999</td>\n",
       "      <td>False</td>\n",
       "      <td>1461566416000</td>\n",
       "      <td>06:40:16</td>\n",
       "      <td>2016-04-25</td>\n",
       "      <td>3.968327</td>\n",
       "    </tr>\n",
       "    <tr>\n",
       "      <th>36</th>\n",
       "      <td>6962181067</td>\n",
       "      <td>2016-05-06 23:59:59</td>\n",
       "      <td>61.500000</td>\n",
       "      <td>135.584291</td>\n",
       "      <td>24.000000</td>\n",
       "      <td>True</td>\n",
       "      <td>1462579199000</td>\n",
       "      <td>23:59:59</td>\n",
       "      <td>2016-05-06</td>\n",
       "      <td>1.322770</td>\n",
       "    </tr>\n",
       "    <tr>\n",
       "      <th>40</th>\n",
       "      <td>6962181067</td>\n",
       "      <td>2016-05-10 23:59:59</td>\n",
       "      <td>62.099998</td>\n",
       "      <td>136.907061</td>\n",
       "      <td>24.240000</td>\n",
       "      <td>True</td>\n",
       "      <td>1462924799000</td>\n",
       "      <td>23:59:59</td>\n",
       "      <td>2016-05-10</td>\n",
       "      <td>1.322770</td>\n",
       "    </tr>\n",
       "    <tr>\n",
       "      <th>19</th>\n",
       "      <td>6962181067</td>\n",
       "      <td>2016-04-18 23:59:59</td>\n",
       "      <td>61.200001</td>\n",
       "      <td>134.922906</td>\n",
       "      <td>23.889999</td>\n",
       "      <td>True</td>\n",
       "      <td>1461023999000</td>\n",
       "      <td>23:59:59</td>\n",
       "      <td>2016-04-18</td>\n",
       "      <td>1.322770</td>\n",
       "    </tr>\n",
       "  </tbody>\n",
       "</table>\n",
       "</div>"
      ],
      "text/plain": [
       "            Id                Date   WeightKg  WeightPounds        BMI  \\\n",
       "28  6962181067 2016-04-28 23:59:59  61.200001    134.922906  23.889999   \n",
       "26  6962181067 2016-04-25 23:59:59  61.700001    136.025217  24.100000   \n",
       "5   4319703577 2016-04-17 23:59:59  72.400002    159.614681  27.450001   \n",
       "56  8877689391 2016-04-28 06:50:03  85.099998    187.613382  25.490000   \n",
       "44  8877689391 2016-04-13 06:55:00  84.900002    187.172464  25.410000   \n",
       "8   4558609924 2016-04-25 23:59:59  70.300003    154.984977  27.459999   \n",
       "53  8877689391 2016-04-25 06:40:16  85.400002    188.274775  25.559999   \n",
       "36  6962181067 2016-05-06 23:59:59  61.500000    135.584291  24.000000   \n",
       "40  6962181067 2016-05-10 23:59:59  62.099998    136.907061  24.240000   \n",
       "19  6962181067 2016-04-18 23:59:59  61.200001    134.922906  23.889999   \n",
       "\n",
       "    IsManualReport          LogId      time        date  WeightLost  \n",
       "28            True  1461887999000  23:59:59  2016-04-28    1.322770  \n",
       "26            True  1461628799000  23:59:59  2016-04-25    1.322770  \n",
       "5             True  1460937599000  23:59:59  2016-04-17    0.220459  \n",
       "56           False  1461826203000  06:50:03  2016-04-28    3.968327  \n",
       "44           False  1460530500000  06:55:00  2016-04-13    3.968327  \n",
       "8             True  1461628799000  23:59:59  2016-04-25    1.322770  \n",
       "53           False  1461566416000  06:40:16  2016-04-25    3.968327  \n",
       "36            True  1462579199000  23:59:59  2016-05-06    1.322770  \n",
       "40            True  1462924799000  23:59:59  2016-05-10    1.322770  \n",
       "19            True  1461023999000  23:59:59  2016-04-18    1.322770  "
      ]
     },
     "execution_count": 36,
     "metadata": {},
     "output_type": "execute_result"
    }
   ],
   "source": [
    "df_weight.sample(10)"
   ]
  },
  {
   "cell_type": "code",
   "execution_count": 37,
   "metadata": {},
   "outputs": [
    {
     "data": {
      "text/html": [
       "<div>\n",
       "<style scoped>\n",
       "    .dataframe tbody tr th:only-of-type {\n",
       "        vertical-align: middle;\n",
       "    }\n",
       "\n",
       "    .dataframe tbody tr th {\n",
       "        vertical-align: top;\n",
       "    }\n",
       "\n",
       "    .dataframe thead th {\n",
       "        text-align: right;\n",
       "    }\n",
       "</style>\n",
       "<table border=\"1\" class=\"dataframe\">\n",
       "  <thead>\n",
       "    <tr style=\"text-align: right;\">\n",
       "      <th></th>\n",
       "      <th>Id</th>\n",
       "      <th>ActivityDate</th>\n",
       "      <th>TotalSteps</th>\n",
       "      <th>TotalDistance</th>\n",
       "      <th>TrackerDistance</th>\n",
       "      <th>LoggedActivitiesDistance</th>\n",
       "      <th>VeryActiveDistance</th>\n",
       "      <th>ModeratelyActiveDistance</th>\n",
       "      <th>LightActiveDistance</th>\n",
       "      <th>SedentaryActiveDistance</th>\n",
       "      <th>VeryActiveMinutes</th>\n",
       "      <th>FairlyActiveMinutes</th>\n",
       "      <th>LightlyActiveMinutes</th>\n",
       "      <th>SedentaryMinutes</th>\n",
       "      <th>Calories</th>\n",
       "      <th>TotalActivityMins</th>\n",
       "    </tr>\n",
       "  </thead>\n",
       "  <tbody>\n",
       "    <tr>\n",
       "      <th>398</th>\n",
       "      <td>4319703577</td>\n",
       "      <td>2016-04-29</td>\n",
       "      <td>7990</td>\n",
       "      <td>5.36</td>\n",
       "      <td>5.36</td>\n",
       "      <td>0.0</td>\n",
       "      <td>0.45</td>\n",
       "      <td>0.79</td>\n",
       "      <td>4.12</td>\n",
       "      <td>0.0</td>\n",
       "      <td>6</td>\n",
       "      <td>18</td>\n",
       "      <td>289</td>\n",
       "      <td>624</td>\n",
       "      <td>2175</td>\n",
       "      <td>313</td>\n",
       "    </tr>\n",
       "    <tr>\n",
       "      <th>111</th>\n",
       "      <td>1844505072</td>\n",
       "      <td>2016-05-01</td>\n",
       "      <td>2573</td>\n",
       "      <td>1.70</td>\n",
       "      <td>1.70</td>\n",
       "      <td>0.0</td>\n",
       "      <td>0.00</td>\n",
       "      <td>0.26</td>\n",
       "      <td>1.45</td>\n",
       "      <td>0.0</td>\n",
       "      <td>0</td>\n",
       "      <td>7</td>\n",
       "      <td>75</td>\n",
       "      <td>585</td>\n",
       "      <td>1541</td>\n",
       "      <td>82</td>\n",
       "    </tr>\n",
       "    <tr>\n",
       "      <th>806</th>\n",
       "      <td>8253242879</td>\n",
       "      <td>2016-04-19</td>\n",
       "      <td>4212</td>\n",
       "      <td>2.78</td>\n",
       "      <td>2.78</td>\n",
       "      <td>0.0</td>\n",
       "      <td>0.00</td>\n",
       "      <td>0.00</td>\n",
       "      <td>2.78</td>\n",
       "      <td>0.0</td>\n",
       "      <td>0</td>\n",
       "      <td>0</td>\n",
       "      <td>164</td>\n",
       "      <td>1276</td>\n",
       "      <td>1763</td>\n",
       "      <td>164</td>\n",
       "    </tr>\n",
       "    <tr>\n",
       "      <th>144</th>\n",
       "      <td>1927972279</td>\n",
       "      <td>2016-05-03</td>\n",
       "      <td>1326</td>\n",
       "      <td>0.92</td>\n",
       "      <td>0.92</td>\n",
       "      <td>0.0</td>\n",
       "      <td>0.73</td>\n",
       "      <td>0.00</td>\n",
       "      <td>0.18</td>\n",
       "      <td>0.0</td>\n",
       "      <td>10</td>\n",
       "      <td>0</td>\n",
       "      <td>17</td>\n",
       "      <td>1413</td>\n",
       "      <td>2195</td>\n",
       "      <td>27</td>\n",
       "    </tr>\n",
       "    <tr>\n",
       "      <th>582</th>\n",
       "      <td>5577150313</td>\n",
       "      <td>2016-04-27</td>\n",
       "      <td>6805</td>\n",
       "      <td>5.14</td>\n",
       "      <td>5.14</td>\n",
       "      <td>0.0</td>\n",
       "      <td>1.81</td>\n",
       "      <td>0.40</td>\n",
       "      <td>2.93</td>\n",
       "      <td>0.0</td>\n",
       "      <td>63</td>\n",
       "      <td>16</td>\n",
       "      <td>190</td>\n",
       "      <td>773</td>\n",
       "      <td>3294</td>\n",
       "      <td>269</td>\n",
       "    </tr>\n",
       "    <tr>\n",
       "      <th>608</th>\n",
       "      <td>6117666160</td>\n",
       "      <td>2016-04-23</td>\n",
       "      <td>11495</td>\n",
       "      <td>8.68</td>\n",
       "      <td>8.68</td>\n",
       "      <td>0.0</td>\n",
       "      <td>0.00</td>\n",
       "      <td>0.00</td>\n",
       "      <td>8.68</td>\n",
       "      <td>0.0</td>\n",
       "      <td>0</td>\n",
       "      <td>0</td>\n",
       "      <td>512</td>\n",
       "      <td>468</td>\n",
       "      <td>2651</td>\n",
       "      <td>512</td>\n",
       "    </tr>\n",
       "    <tr>\n",
       "      <th>821</th>\n",
       "      <td>8378563200</td>\n",
       "      <td>2016-04-15</td>\n",
       "      <td>14461</td>\n",
       "      <td>11.47</td>\n",
       "      <td>11.47</td>\n",
       "      <td>0.0</td>\n",
       "      <td>4.91</td>\n",
       "      <td>1.15</td>\n",
       "      <td>5.41</td>\n",
       "      <td>0.0</td>\n",
       "      <td>60</td>\n",
       "      <td>23</td>\n",
       "      <td>190</td>\n",
       "      <td>729</td>\n",
       "      <td>3666</td>\n",
       "      <td>273</td>\n",
       "    </tr>\n",
       "    <tr>\n",
       "      <th>715</th>\n",
       "      <td>7007744171</td>\n",
       "      <td>2016-04-16</td>\n",
       "      <td>4631</td>\n",
       "      <td>3.10</td>\n",
       "      <td>3.10</td>\n",
       "      <td>0.0</td>\n",
       "      <td>0.00</td>\n",
       "      <td>0.00</td>\n",
       "      <td>3.10</td>\n",
       "      <td>0.0</td>\n",
       "      <td>0</td>\n",
       "      <td>0</td>\n",
       "      <td>203</td>\n",
       "      <td>1155</td>\n",
       "      <td>2076</td>\n",
       "      <td>203</td>\n",
       "    </tr>\n",
       "    <tr>\n",
       "      <th>399</th>\n",
       "      <td>4319703577</td>\n",
       "      <td>2016-04-30</td>\n",
       "      <td>8221</td>\n",
       "      <td>5.52</td>\n",
       "      <td>5.52</td>\n",
       "      <td>0.0</td>\n",
       "      <td>0.40</td>\n",
       "      <td>1.61</td>\n",
       "      <td>3.51</td>\n",
       "      <td>0.0</td>\n",
       "      <td>6</td>\n",
       "      <td>38</td>\n",
       "      <td>196</td>\n",
       "      <td>695</td>\n",
       "      <td>2092</td>\n",
       "      <td>240</td>\n",
       "    </tr>\n",
       "    <tr>\n",
       "      <th>791</th>\n",
       "      <td>8053475328</td>\n",
       "      <td>2016-05-05</td>\n",
       "      <td>14990</td>\n",
       "      <td>11.51</td>\n",
       "      <td>11.51</td>\n",
       "      <td>0.0</td>\n",
       "      <td>8.85</td>\n",
       "      <td>0.45</td>\n",
       "      <td>2.21</td>\n",
       "      <td>0.0</td>\n",
       "      <td>93</td>\n",
       "      <td>9</td>\n",
       "      <td>130</td>\n",
       "      <td>1208</td>\n",
       "      <td>2950</td>\n",
       "      <td>232</td>\n",
       "    </tr>\n",
       "  </tbody>\n",
       "</table>\n",
       "</div>"
      ],
      "text/plain": [
       "             Id ActivityDate  TotalSteps  TotalDistance  TrackerDistance  \\\n",
       "398  4319703577   2016-04-29        7990           5.36             5.36   \n",
       "111  1844505072   2016-05-01        2573           1.70             1.70   \n",
       "806  8253242879   2016-04-19        4212           2.78             2.78   \n",
       "144  1927972279   2016-05-03        1326           0.92             0.92   \n",
       "582  5577150313   2016-04-27        6805           5.14             5.14   \n",
       "608  6117666160   2016-04-23       11495           8.68             8.68   \n",
       "821  8378563200   2016-04-15       14461          11.47            11.47   \n",
       "715  7007744171   2016-04-16        4631           3.10             3.10   \n",
       "399  4319703577   2016-04-30        8221           5.52             5.52   \n",
       "791  8053475328   2016-05-05       14990          11.51            11.51   \n",
       "\n",
       "     LoggedActivitiesDistance  VeryActiveDistance  ModeratelyActiveDistance  \\\n",
       "398                       0.0                0.45                      0.79   \n",
       "111                       0.0                0.00                      0.26   \n",
       "806                       0.0                0.00                      0.00   \n",
       "144                       0.0                0.73                      0.00   \n",
       "582                       0.0                1.81                      0.40   \n",
       "608                       0.0                0.00                      0.00   \n",
       "821                       0.0                4.91                      1.15   \n",
       "715                       0.0                0.00                      0.00   \n",
       "399                       0.0                0.40                      1.61   \n",
       "791                       0.0                8.85                      0.45   \n",
       "\n",
       "     LightActiveDistance  SedentaryActiveDistance  VeryActiveMinutes  \\\n",
       "398                 4.12                      0.0                  6   \n",
       "111                 1.45                      0.0                  0   \n",
       "806                 2.78                      0.0                  0   \n",
       "144                 0.18                      0.0                 10   \n",
       "582                 2.93                      0.0                 63   \n",
       "608                 8.68                      0.0                  0   \n",
       "821                 5.41                      0.0                 60   \n",
       "715                 3.10                      0.0                  0   \n",
       "399                 3.51                      0.0                  6   \n",
       "791                 2.21                      0.0                 93   \n",
       "\n",
       "     FairlyActiveMinutes  LightlyActiveMinutes  SedentaryMinutes  Calories  \\\n",
       "398                   18                   289               624      2175   \n",
       "111                    7                    75               585      1541   \n",
       "806                    0                   164              1276      1763   \n",
       "144                    0                    17              1413      2195   \n",
       "582                   16                   190               773      3294   \n",
       "608                    0                   512               468      2651   \n",
       "821                   23                   190               729      3666   \n",
       "715                    0                   203              1155      2076   \n",
       "399                   38                   196               695      2092   \n",
       "791                    9                   130              1208      2950   \n",
       "\n",
       "     TotalActivityMins  \n",
       "398                313  \n",
       "111                 82  \n",
       "806                164  \n",
       "144                 27  \n",
       "582                269  \n",
       "608                512  \n",
       "821                273  \n",
       "715                203  \n",
       "399                240  \n",
       "791                232  "
      ]
     },
     "execution_count": 37,
     "metadata": {},
     "output_type": "execute_result"
    }
   ],
   "source": [
    "df_activity.sample(10)"
   ]
  },
  {
   "cell_type": "code",
   "execution_count": 38,
   "metadata": {},
   "outputs": [
    {
     "data": {
      "text/html": [
       "<div>\n",
       "<style scoped>\n",
       "    .dataframe tbody tr th:only-of-type {\n",
       "        vertical-align: middle;\n",
       "    }\n",
       "\n",
       "    .dataframe tbody tr th {\n",
       "        vertical-align: top;\n",
       "    }\n",
       "\n",
       "    .dataframe thead th {\n",
       "        text-align: right;\n",
       "    }\n",
       "</style>\n",
       "<table border=\"1\" class=\"dataframe\">\n",
       "  <thead>\n",
       "    <tr style=\"text-align: right;\">\n",
       "      <th></th>\n",
       "      <th>Id</th>\n",
       "      <th>SleepDay</th>\n",
       "      <th>TotalSleepRecords</th>\n",
       "      <th>TotalMinutesAsleep</th>\n",
       "      <th>TotalTimeInBed</th>\n",
       "      <th>Number of days with qualty sleep</th>\n",
       "    </tr>\n",
       "  </thead>\n",
       "  <tbody>\n",
       "    <tr>\n",
       "      <th>60</th>\n",
       "      <td>2026352035</td>\n",
       "      <td>2016-05-08</td>\n",
       "      <td>1</td>\n",
       "      <td>541</td>\n",
       "      <td>568</td>\n",
       "      <td>NaN</td>\n",
       "    </tr>\n",
       "    <tr>\n",
       "      <th>87</th>\n",
       "      <td>3977333714</td>\n",
       "      <td>2016-04-18</td>\n",
       "      <td>2</td>\n",
       "      <td>412</td>\n",
       "      <td>522</td>\n",
       "      <td>NaN</td>\n",
       "    </tr>\n",
       "    <tr>\n",
       "      <th>121</th>\n",
       "      <td>4319703577</td>\n",
       "      <td>2016-04-19</td>\n",
       "      <td>2</td>\n",
       "      <td>461</td>\n",
       "      <td>498</td>\n",
       "      <td>NaN</td>\n",
       "    </tr>\n",
       "    <tr>\n",
       "      <th>29</th>\n",
       "      <td>1844505072</td>\n",
       "      <td>2016-04-15</td>\n",
       "      <td>1</td>\n",
       "      <td>644</td>\n",
       "      <td>961</td>\n",
       "      <td>NaN</td>\n",
       "    </tr>\n",
       "    <tr>\n",
       "      <th>172</th>\n",
       "      <td>4445114986</td>\n",
       "      <td>2016-04-17</td>\n",
       "      <td>1</td>\n",
       "      <td>98</td>\n",
       "      <td>107</td>\n",
       "      <td>NaN</td>\n",
       "    </tr>\n",
       "    <tr>\n",
       "      <th>351</th>\n",
       "      <td>7086361926</td>\n",
       "      <td>2016-04-28</td>\n",
       "      <td>1</td>\n",
       "      <td>354</td>\n",
       "      <td>367</td>\n",
       "      <td>NaN</td>\n",
       "    </tr>\n",
       "    <tr>\n",
       "      <th>362</th>\n",
       "      <td>7086361926</td>\n",
       "      <td>2016-05-12</td>\n",
       "      <td>1</td>\n",
       "      <td>444</td>\n",
       "      <td>457</td>\n",
       "      <td>NaN</td>\n",
       "    </tr>\n",
       "    <tr>\n",
       "      <th>264</th>\n",
       "      <td>5577150313</td>\n",
       "      <td>2016-04-17</td>\n",
       "      <td>1</td>\n",
       "      <td>549</td>\n",
       "      <td>583</td>\n",
       "      <td>NaN</td>\n",
       "    </tr>\n",
       "    <tr>\n",
       "      <th>384</th>\n",
       "      <td>8378563200</td>\n",
       "      <td>2016-04-29</td>\n",
       "      <td>1</td>\n",
       "      <td>527</td>\n",
       "      <td>562</td>\n",
       "      <td>NaN</td>\n",
       "    </tr>\n",
       "    <tr>\n",
       "      <th>255</th>\n",
       "      <td>5553957443</td>\n",
       "      <td>2016-05-09</td>\n",
       "      <td>1</td>\n",
       "      <td>453</td>\n",
       "      <td>494</td>\n",
       "      <td>NaN</td>\n",
       "    </tr>\n",
       "  </tbody>\n",
       "</table>\n",
       "</div>"
      ],
      "text/plain": [
       "             Id   SleepDay  TotalSleepRecords  TotalMinutesAsleep  \\\n",
       "60   2026352035 2016-05-08                  1                 541   \n",
       "87   3977333714 2016-04-18                  2                 412   \n",
       "121  4319703577 2016-04-19                  2                 461   \n",
       "29   1844505072 2016-04-15                  1                 644   \n",
       "172  4445114986 2016-04-17                  1                  98   \n",
       "351  7086361926 2016-04-28                  1                 354   \n",
       "362  7086361926 2016-05-12                  1                 444   \n",
       "264  5577150313 2016-04-17                  1                 549   \n",
       "384  8378563200 2016-04-29                  1                 527   \n",
       "255  5553957443 2016-05-09                  1                 453   \n",
       "\n",
       "     TotalTimeInBed  Number of days with qualty sleep  \n",
       "60              568                               NaN  \n",
       "87              522                               NaN  \n",
       "121             498                               NaN  \n",
       "29              961                               NaN  \n",
       "172             107                               NaN  \n",
       "351             367                               NaN  \n",
       "362             457                               NaN  \n",
       "264             583                               NaN  \n",
       "384             562                               NaN  \n",
       "255             494                               NaN  "
      ]
     },
     "execution_count": 38,
     "metadata": {},
     "output_type": "execute_result"
    }
   ],
   "source": [
    "df_sleep.sample(10)"
   ]
  },
  {
   "cell_type": "code",
   "execution_count": 39,
   "metadata": {},
   "outputs": [
    {
     "name": "stdout",
     "output_type": "stream",
     "text": [
      "<class 'pandas.core.frame.DataFrame'>\n",
      "Int64Index: 8 entries, 1503960366 to 8877689391\n",
      "Data columns (total 20 columns):\n",
      " #   Column                    Non-Null Count  Dtype  \n",
      "---  ------                    --------------  -----  \n",
      " 0   TotalSteps                8 non-null      float64\n",
      " 1   TotalDistance             8 non-null      float64\n",
      " 2   TrackerDistance           8 non-null      float64\n",
      " 3   LoggedActivitiesDistance  8 non-null      float64\n",
      " 4   VeryActiveDistance        8 non-null      float64\n",
      " 5   ModeratelyActiveDistance  8 non-null      float64\n",
      " 6   LightActiveDistance       8 non-null      float64\n",
      " 7   SedentaryActiveDistance   8 non-null      float64\n",
      " 8   VeryActiveMinutes         8 non-null      float64\n",
      " 9   FairlyActiveMinutes       8 non-null      float64\n",
      " 10  LightlyActiveMinutes      8 non-null      float64\n",
      " 11  SedentaryMinutes          8 non-null      float64\n",
      " 12  Calories                  8 non-null      float64\n",
      " 13  TotalActivityMins         8 non-null      float64\n",
      " 14  WeightKg                  8 non-null      float64\n",
      " 15  WeightPounds              8 non-null      float64\n",
      " 16  BMI                       8 non-null      float64\n",
      " 17  IsManualReport            8 non-null      float64\n",
      " 18  LogId                     8 non-null      float64\n",
      " 19  WeightLost                8 non-null      float64\n",
      "dtypes: float64(20)\n",
      "memory usage: 1.3 KB\n"
     ]
    }
   ],
   "source": [
    "df_activity_weight.info()"
   ]
  },
  {
   "cell_type": "code",
   "execution_count": 40,
   "metadata": {},
   "outputs": [
    {
     "data": {
      "application/vnd.plotly.v1+json": {
       "config": {
        "plotlyServerURL": "https://plot.ly"
       },
       "data": [
        {
         "mode": "markers",
         "name": "WeightLost",
         "type": "scatter",
         "x": [
          1816.4193548387098,
          2172.8064516129034,
          1916.967741935484,
          2037.6774193548388,
          2033.258064516129,
          3359.633333333333,
          1982.032258064516,
          3420.2580645161293
         ],
         "y": [
          0,
          0,
          -1.3227702091219982,
          0.22045889819798958,
          1.3227702091230071,
          0,
          1.3227702091230071,
          3.9683274473040058
         ]
        }
       ],
       "layout": {
        "template": {
         "data": {
          "bar": [
           {
            "error_x": {
             "color": "#2a3f5f"
            },
            "error_y": {
             "color": "#2a3f5f"
            },
            "marker": {
             "line": {
              "color": "#E5ECF6",
              "width": 0.5
             },
             "pattern": {
              "fillmode": "overlay",
              "size": 10,
              "solidity": 0.2
             }
            },
            "type": "bar"
           }
          ],
          "barpolar": [
           {
            "marker": {
             "line": {
              "color": "#E5ECF6",
              "width": 0.5
             },
             "pattern": {
              "fillmode": "overlay",
              "size": 10,
              "solidity": 0.2
             }
            },
            "type": "barpolar"
           }
          ],
          "carpet": [
           {
            "aaxis": {
             "endlinecolor": "#2a3f5f",
             "gridcolor": "white",
             "linecolor": "white",
             "minorgridcolor": "white",
             "startlinecolor": "#2a3f5f"
            },
            "baxis": {
             "endlinecolor": "#2a3f5f",
             "gridcolor": "white",
             "linecolor": "white",
             "minorgridcolor": "white",
             "startlinecolor": "#2a3f5f"
            },
            "type": "carpet"
           }
          ],
          "choropleth": [
           {
            "colorbar": {
             "outlinewidth": 0,
             "ticks": ""
            },
            "type": "choropleth"
           }
          ],
          "contour": [
           {
            "colorbar": {
             "outlinewidth": 0,
             "ticks": ""
            },
            "colorscale": [
             [
              0,
              "#0d0887"
             ],
             [
              0.1111111111111111,
              "#46039f"
             ],
             [
              0.2222222222222222,
              "#7201a8"
             ],
             [
              0.3333333333333333,
              "#9c179e"
             ],
             [
              0.4444444444444444,
              "#bd3786"
             ],
             [
              0.5555555555555556,
              "#d8576b"
             ],
             [
              0.6666666666666666,
              "#ed7953"
             ],
             [
              0.7777777777777778,
              "#fb9f3a"
             ],
             [
              0.8888888888888888,
              "#fdca26"
             ],
             [
              1,
              "#f0f921"
             ]
            ],
            "type": "contour"
           }
          ],
          "contourcarpet": [
           {
            "colorbar": {
             "outlinewidth": 0,
             "ticks": ""
            },
            "type": "contourcarpet"
           }
          ],
          "heatmap": [
           {
            "colorbar": {
             "outlinewidth": 0,
             "ticks": ""
            },
            "colorscale": [
             [
              0,
              "#0d0887"
             ],
             [
              0.1111111111111111,
              "#46039f"
             ],
             [
              0.2222222222222222,
              "#7201a8"
             ],
             [
              0.3333333333333333,
              "#9c179e"
             ],
             [
              0.4444444444444444,
              "#bd3786"
             ],
             [
              0.5555555555555556,
              "#d8576b"
             ],
             [
              0.6666666666666666,
              "#ed7953"
             ],
             [
              0.7777777777777778,
              "#fb9f3a"
             ],
             [
              0.8888888888888888,
              "#fdca26"
             ],
             [
              1,
              "#f0f921"
             ]
            ],
            "type": "heatmap"
           }
          ],
          "heatmapgl": [
           {
            "colorbar": {
             "outlinewidth": 0,
             "ticks": ""
            },
            "colorscale": [
             [
              0,
              "#0d0887"
             ],
             [
              0.1111111111111111,
              "#46039f"
             ],
             [
              0.2222222222222222,
              "#7201a8"
             ],
             [
              0.3333333333333333,
              "#9c179e"
             ],
             [
              0.4444444444444444,
              "#bd3786"
             ],
             [
              0.5555555555555556,
              "#d8576b"
             ],
             [
              0.6666666666666666,
              "#ed7953"
             ],
             [
              0.7777777777777778,
              "#fb9f3a"
             ],
             [
              0.8888888888888888,
              "#fdca26"
             ],
             [
              1,
              "#f0f921"
             ]
            ],
            "type": "heatmapgl"
           }
          ],
          "histogram": [
           {
            "marker": {
             "pattern": {
              "fillmode": "overlay",
              "size": 10,
              "solidity": 0.2
             }
            },
            "type": "histogram"
           }
          ],
          "histogram2d": [
           {
            "colorbar": {
             "outlinewidth": 0,
             "ticks": ""
            },
            "colorscale": [
             [
              0,
              "#0d0887"
             ],
             [
              0.1111111111111111,
              "#46039f"
             ],
             [
              0.2222222222222222,
              "#7201a8"
             ],
             [
              0.3333333333333333,
              "#9c179e"
             ],
             [
              0.4444444444444444,
              "#bd3786"
             ],
             [
              0.5555555555555556,
              "#d8576b"
             ],
             [
              0.6666666666666666,
              "#ed7953"
             ],
             [
              0.7777777777777778,
              "#fb9f3a"
             ],
             [
              0.8888888888888888,
              "#fdca26"
             ],
             [
              1,
              "#f0f921"
             ]
            ],
            "type": "histogram2d"
           }
          ],
          "histogram2dcontour": [
           {
            "colorbar": {
             "outlinewidth": 0,
             "ticks": ""
            },
            "colorscale": [
             [
              0,
              "#0d0887"
             ],
             [
              0.1111111111111111,
              "#46039f"
             ],
             [
              0.2222222222222222,
              "#7201a8"
             ],
             [
              0.3333333333333333,
              "#9c179e"
             ],
             [
              0.4444444444444444,
              "#bd3786"
             ],
             [
              0.5555555555555556,
              "#d8576b"
             ],
             [
              0.6666666666666666,
              "#ed7953"
             ],
             [
              0.7777777777777778,
              "#fb9f3a"
             ],
             [
              0.8888888888888888,
              "#fdca26"
             ],
             [
              1,
              "#f0f921"
             ]
            ],
            "type": "histogram2dcontour"
           }
          ],
          "mesh3d": [
           {
            "colorbar": {
             "outlinewidth": 0,
             "ticks": ""
            },
            "type": "mesh3d"
           }
          ],
          "parcoords": [
           {
            "line": {
             "colorbar": {
              "outlinewidth": 0,
              "ticks": ""
             }
            },
            "type": "parcoords"
           }
          ],
          "pie": [
           {
            "automargin": true,
            "type": "pie"
           }
          ],
          "scatter": [
           {
            "fillpattern": {
             "fillmode": "overlay",
             "size": 10,
             "solidity": 0.2
            },
            "type": "scatter"
           }
          ],
          "scatter3d": [
           {
            "line": {
             "colorbar": {
              "outlinewidth": 0,
              "ticks": ""
             }
            },
            "marker": {
             "colorbar": {
              "outlinewidth": 0,
              "ticks": ""
             }
            },
            "type": "scatter3d"
           }
          ],
          "scattercarpet": [
           {
            "marker": {
             "colorbar": {
              "outlinewidth": 0,
              "ticks": ""
             }
            },
            "type": "scattercarpet"
           }
          ],
          "scattergeo": [
           {
            "marker": {
             "colorbar": {
              "outlinewidth": 0,
              "ticks": ""
             }
            },
            "type": "scattergeo"
           }
          ],
          "scattergl": [
           {
            "marker": {
             "colorbar": {
              "outlinewidth": 0,
              "ticks": ""
             }
            },
            "type": "scattergl"
           }
          ],
          "scattermapbox": [
           {
            "marker": {
             "colorbar": {
              "outlinewidth": 0,
              "ticks": ""
             }
            },
            "type": "scattermapbox"
           }
          ],
          "scatterpolar": [
           {
            "marker": {
             "colorbar": {
              "outlinewidth": 0,
              "ticks": ""
             }
            },
            "type": "scatterpolar"
           }
          ],
          "scatterpolargl": [
           {
            "marker": {
             "colorbar": {
              "outlinewidth": 0,
              "ticks": ""
             }
            },
            "type": "scatterpolargl"
           }
          ],
          "scatterternary": [
           {
            "marker": {
             "colorbar": {
              "outlinewidth": 0,
              "ticks": ""
             }
            },
            "type": "scatterternary"
           }
          ],
          "surface": [
           {
            "colorbar": {
             "outlinewidth": 0,
             "ticks": ""
            },
            "colorscale": [
             [
              0,
              "#0d0887"
             ],
             [
              0.1111111111111111,
              "#46039f"
             ],
             [
              0.2222222222222222,
              "#7201a8"
             ],
             [
              0.3333333333333333,
              "#9c179e"
             ],
             [
              0.4444444444444444,
              "#bd3786"
             ],
             [
              0.5555555555555556,
              "#d8576b"
             ],
             [
              0.6666666666666666,
              "#ed7953"
             ],
             [
              0.7777777777777778,
              "#fb9f3a"
             ],
             [
              0.8888888888888888,
              "#fdca26"
             ],
             [
              1,
              "#f0f921"
             ]
            ],
            "type": "surface"
           }
          ],
          "table": [
           {
            "cells": {
             "fill": {
              "color": "#EBF0F8"
             },
             "line": {
              "color": "white"
             }
            },
            "header": {
             "fill": {
              "color": "#C8D4E3"
             },
             "line": {
              "color": "white"
             }
            },
            "type": "table"
           }
          ]
         },
         "layout": {
          "annotationdefaults": {
           "arrowcolor": "#2a3f5f",
           "arrowhead": 0,
           "arrowwidth": 1
          },
          "autotypenumbers": "strict",
          "coloraxis": {
           "colorbar": {
            "outlinewidth": 0,
            "ticks": ""
           }
          },
          "colorscale": {
           "diverging": [
            [
             0,
             "#8e0152"
            ],
            [
             0.1,
             "#c51b7d"
            ],
            [
             0.2,
             "#de77ae"
            ],
            [
             0.3,
             "#f1b6da"
            ],
            [
             0.4,
             "#fde0ef"
            ],
            [
             0.5,
             "#f7f7f7"
            ],
            [
             0.6,
             "#e6f5d0"
            ],
            [
             0.7,
             "#b8e186"
            ],
            [
             0.8,
             "#7fbc41"
            ],
            [
             0.9,
             "#4d9221"
            ],
            [
             1,
             "#276419"
            ]
           ],
           "sequential": [
            [
             0,
             "#0d0887"
            ],
            [
             0.1111111111111111,
             "#46039f"
            ],
            [
             0.2222222222222222,
             "#7201a8"
            ],
            [
             0.3333333333333333,
             "#9c179e"
            ],
            [
             0.4444444444444444,
             "#bd3786"
            ],
            [
             0.5555555555555556,
             "#d8576b"
            ],
            [
             0.6666666666666666,
             "#ed7953"
            ],
            [
             0.7777777777777778,
             "#fb9f3a"
            ],
            [
             0.8888888888888888,
             "#fdca26"
            ],
            [
             1,
             "#f0f921"
            ]
           ],
           "sequentialminus": [
            [
             0,
             "#0d0887"
            ],
            [
             0.1111111111111111,
             "#46039f"
            ],
            [
             0.2222222222222222,
             "#7201a8"
            ],
            [
             0.3333333333333333,
             "#9c179e"
            ],
            [
             0.4444444444444444,
             "#bd3786"
            ],
            [
             0.5555555555555556,
             "#d8576b"
            ],
            [
             0.6666666666666666,
             "#ed7953"
            ],
            [
             0.7777777777777778,
             "#fb9f3a"
            ],
            [
             0.8888888888888888,
             "#fdca26"
            ],
            [
             1,
             "#f0f921"
            ]
           ]
          },
          "colorway": [
           "#636efa",
           "#EF553B",
           "#00cc96",
           "#ab63fa",
           "#FFA15A",
           "#19d3f3",
           "#FF6692",
           "#B6E880",
           "#FF97FF",
           "#FECB52"
          ],
          "font": {
           "color": "#2a3f5f"
          },
          "geo": {
           "bgcolor": "white",
           "lakecolor": "white",
           "landcolor": "#E5ECF6",
           "showlakes": true,
           "showland": true,
           "subunitcolor": "white"
          },
          "hoverlabel": {
           "align": "left"
          },
          "hovermode": "closest",
          "mapbox": {
           "style": "light"
          },
          "paper_bgcolor": "white",
          "plot_bgcolor": "#E5ECF6",
          "polar": {
           "angularaxis": {
            "gridcolor": "white",
            "linecolor": "white",
            "ticks": ""
           },
           "bgcolor": "#E5ECF6",
           "radialaxis": {
            "gridcolor": "white",
            "linecolor": "white",
            "ticks": ""
           }
          },
          "scene": {
           "xaxis": {
            "backgroundcolor": "#E5ECF6",
            "gridcolor": "white",
            "gridwidth": 2,
            "linecolor": "white",
            "showbackground": true,
            "ticks": "",
            "zerolinecolor": "white"
           },
           "yaxis": {
            "backgroundcolor": "#E5ECF6",
            "gridcolor": "white",
            "gridwidth": 2,
            "linecolor": "white",
            "showbackground": true,
            "ticks": "",
            "zerolinecolor": "white"
           },
           "zaxis": {
            "backgroundcolor": "#E5ECF6",
            "gridcolor": "white",
            "gridwidth": 2,
            "linecolor": "white",
            "showbackground": true,
            "ticks": "",
            "zerolinecolor": "white"
           }
          },
          "shapedefaults": {
           "line": {
            "color": "#2a3f5f"
           }
          },
          "ternary": {
           "aaxis": {
            "gridcolor": "white",
            "linecolor": "white",
            "ticks": ""
           },
           "baxis": {
            "gridcolor": "white",
            "linecolor": "white",
            "ticks": ""
           },
           "bgcolor": "#E5ECF6",
           "caxis": {
            "gridcolor": "white",
            "linecolor": "white",
            "ticks": ""
           }
          },
          "title": {
           "x": 0.05
          },
          "xaxis": {
           "automargin": true,
           "gridcolor": "white",
           "linecolor": "white",
           "ticks": "",
           "title": {
            "standoff": 15
           },
           "zerolinecolor": "white",
           "zerolinewidth": 2
          },
          "yaxis": {
           "automargin": true,
           "gridcolor": "white",
           "linecolor": "white",
           "ticks": "",
           "title": {
            "standoff": 15
           },
           "zerolinecolor": "white",
           "zerolinewidth": 2
          }
         }
        },
        "title": {
         "text": "Relationship between Calories and WeightLost"
        },
        "xaxis": {
         "title": {
          "text": "Calories"
         }
        },
        "yaxis": {
         "title": {
          "text": "WeightLost"
         }
        }
       }
      }
     },
     "metadata": {},
     "output_type": "display_data"
    }
   ],
   "source": [
    "#Relationship between Calories and WeightLost\n",
    "fig = go.Figure()\n",
    "fig.add_trace(go.Scatter(x=df_activity_weight['Calories'], y=df_activity_weight['WeightLost'], mode='markers', name='WeightLost'))\n",
    "fig.update_layout(title='Relationship between Calories and WeightLost', xaxis_title='Calories', yaxis_title='WeightLost')\n",
    "fig.show()\n"
   ]
  },
  {
   "attachments": {},
   "cell_type": "markdown",
   "metadata": {},
   "source": [
    "### Data Integrity\n",
    "\n",
    "**Reliable: Low** \n",
    "- accuracy (battery data and sync data, as mentioned in metadata, are not available for analysis)\n",
    "- bias (MTurk surveys are prone to selection bias, persons willing to be paid to use the device and have their non-identifiable data collected, thus analysis conclusions are not representative of the U.S population as a whole; however, datatypes are objective and provided an efficient way of collecting such data)\n",
    "\n",
    "**Original: Low**\n",
    "- data is third-party information, this could be a pro or con, pro being that the company may have been less likely to manipulate data \n",
    "\n",
    "**Comprehensive: Med**\n",
    "- missing information (datasets provide ample data that addresses how device users utilized their device), human error (not a factor in the sense that data collection depends upon device sync with the app, is a factor in the sense that the individual was responsible for monitoring battery life and syncing)\n",
    "\n",
    "**Current: Low** \n",
    "- data from 2016 on device use most likely accurately models how devices would be used in 2022 \n",
    "\n",
    "**Cited: Low**\n",
    "- Furberg, R., Brinton, J., Keating, M., & Ortiz, A. (2016). \n",
    "- Crowd-sourced Fitbit datasets 03.12.2016-05.12.2016 [Data set]. \n",
    "Zenodo. https://doi.org/10.5281/zenodo.53894, the data is cited, however, investigators did not explicitly address how or if limitations in the data where assessed, it is possible that they were assessed by MTurk or the cited investigators, but the process was not expressly explained\n",
    "\n",
    "Overall, the dataset is considered bad quality data and it is not recommended to produce business recommendations based on this data."
   ]
  },
  {
   "attachments": {},
   "cell_type": "markdown",
   "metadata": {},
   "source": [
    "### Data Limitations\n",
    "\n",
    "1. There' no gender specified. We are assuming the users to be women\n",
    "2. There are 33 users in data but it's mentioned that there are only 30 users in the metadata.\n",
    "3. Out of the 8 users entering their weight, 5 users are manually entering their weights at 11:00 pm, whereas the automatic report is syncing at different times of the day. This doesn't seem right"
   ]
  },
  {
   "attachments": {},
   "cell_type": "markdown",
   "metadata": {},
   "source": [
    "### Conclusion\n",
    "\n",
    "1. We neeed to work on promoting users to use Bellabeat products to track their sleep.\n",
    "2. Sedentary users are the majority logging on average 991 minutes or 20 hours making up 81% of total average minutes.\n",
    "4. Average total steps per day are 7638 which a little bit less for having health benefits for according to the CDC research.\n",
    "5. We can also see that most users exercise between 5:00 pm and 7:00 pm, so marketing can be concentrated accordingly.\n",
    "6. There's not enough data to support that Bellabeat helps users in their weightloss journey.\n",
    "7. Users prefer to track their activities during weekdays as compared to weekends - perhaps because they spend more time outside on weekdays and stay in on weekends.\n",
    "\n"
   ]
  },
  {
   "attachments": {},
   "cell_type": "markdown",
   "metadata": {},
   "source": [
    "### Recommendations\n",
    "\n",
    "1. Bellabeat can improve their Time or leaf product to make it comfortable for users to track their sleep.\n",
    "2. Analyze their Spring product demand and decide if i's worth promoting. Currently, there's no data collected on hydration.\n",
    "3. Notify the users about their activity levels to encourage them to workout."
   ]
  }
 ],
 "metadata": {
  "kernelspec": {
   "display_name": "base",
   "language": "python",
   "name": "python3"
  },
  "language_info": {
   "codemirror_mode": {
    "name": "ipython",
    "version": 3
   },
   "file_extension": ".py",
   "mimetype": "text/x-python",
   "name": "python",
   "nbconvert_exporter": "python",
   "pygments_lexer": "ipython3",
   "version": "3.9.13"
  },
  "orig_nbformat": 4,
  "vscode": {
   "interpreter": {
    "hash": "40d3a090f54c6569ab1632332b64b2c03c39dcf918b08424e98f38b5ae0af88f"
   }
  }
 },
 "nbformat": 4,
 "nbformat_minor": 2
}
